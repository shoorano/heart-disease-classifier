{
 "cells": [
  {
   "cell_type": "markdown",
   "metadata": {},
   "source": [
    "# Predicting Heart Disease using Machine Learning"
   ]
  },
  {
   "cell_type": "markdown",
   "metadata": {},
   "source": [
    "## 1. Problem Definition\n",
    "Binary Classification.\n",
    "\n",
    "> Given clinical parameters about a patient, can we predict whether or not they have heart disease?\n",
    "\n",
    "## 2. Data\n",
    "[Kaggle](https://www.kaggle.com/ronitf/heart-disease-uci/).\n",
    "\n",
    "Or in our case, the independent variables are a patients different medical attributes and the dependent variable is whether or not they have heart disease.\n",
    "\n",
    "## 3. Evaluation\n",
    "\n",
    "> If we can reach 95% accuracy at predicting whether or not a patient has heart disease during the proof of concept, we'll pursure this project.\n",
    "\n",
    "## 4. Features\n",
    "\n",
    "### Heart Disease Data Dictionary\n",
    "\n",
    "Features used to predict our target variable (heart disease or no heart disease).\n",
    "\n",
    "1. age - age in years \n",
    "2. sex - (1 = male; 0 = female) \n",
    "3. cp - chest pain type \n",
    "    * 0: Typical angina: chest pain related decrease blood supply to the heart\n",
    "    * 1: Atypical angina: chest pain not related to heart\n",
    "    * 2: Non-anginal pain: typically esophageal spasms (non heart related)\n",
    "    * 3: Asymptomatic: chest pain not showing signs of disease\n",
    "4. trestbps - resting blood pressure (in mm Hg on admission to the hospital)\n",
    "    * anything above 130-140 is typically cause for concern\n",
    "5. chol - serum cholestoral in mg/dl \n",
    "    * serum = LDL + HDL + .2 * triglycerides\n",
    "    * above 200 is cause for concern\n",
    "6. fbs - (fasting blood sugar > 120 mg/dl) (1 = true; 0 = false) \n",
    "    * '>126' mg/dL signals diabetes\n",
    "7. restecg - resting electrocardiographic results\n",
    "    * 0: Nothing to note\n",
    "    * 1: ST-T Wave abnormality\n",
    "        - can range from mild symptoms to severe problems\n",
    "        - signals non-normal heart beat\n",
    "    * 2: Possible or definite left ventricular hypertrophy\n",
    "        - Enlarged heart's main pumping chamber\n",
    "8. thalach - maximum heart rate achieved \n",
    "9. exang - exercise induced angina (1 = yes; 0 = no) \n",
    "10. oldpeak - ST depression induced by exercise relative to rest \n",
    "    * looks at stress of heart during excercise\n",
    "    * unhealthy heart will stress more\n",
    "11. slope - the slope of the peak exercise ST segment\n",
    "    * 0: Upsloping: better heart rate with excercise (uncommon)\n",
    "    * 1: Flatsloping: minimal change (typical healthy heart)\n",
    "    * 2: Downslopins: signs of unhealthy heart\n",
    "12. ca - number of major vessels (0-3) colored by flourosopy \n",
    "    * colored vessel means the doctor can see the blood passing through\n",
    "    * the more blood movement the better (no clots)\n",
    "13. thal - thalium stress result\n",
    "    * 1,3: normal\n",
    "    * 6: fixed defect: used to be defect but ok now\n",
    "    * 7: reversable defect: no proper blood movement when excercising \n",
    "14. target - have disease or not (1=yes, 0=no) (= the predicted attribute)"
   ]
  },
  {
   "cell_type": "code",
   "execution_count": 2,
   "metadata": {},
   "outputs": [],
   "source": [
    "import numpy as np \n",
    "import pandas as pd \n",
    "import matplotlib.pyplot as plt\n",
    "import seaborn as sns \n",
    "\n",
    "%matplotlib inline \n",
    "\n",
    "from sklearn.linear_model import LogisticRegression\n",
    "from sklearn.neighbors import KNeighborsClassifier\n",
    "from sklearn.ensemble import RandomForestClassifier\n",
    "\n",
    "from sklearn.model_selection import train_test_split, cross_val_score\n",
    "from sklearn.model_selection import RandomizedSearchCV, GridSearchCV\n",
    "from sklearn.metrics import confusion_matrix, classification_report\n",
    "from sklearn.metrics import precision_score, recall_score, f1_score\n",
    "from sklearn.metrics import plot_roc_curve"
   ]
  },
  {
   "cell_type": "markdown",
   "metadata": {},
   "source": [
    "## Load Data"
   ]
  },
  {
   "cell_type": "code",
   "execution_count": 5,
   "metadata": {},
   "outputs": [
    {
     "data": {
      "text/plain": [
       "(303, 14)"
      ]
     },
     "execution_count": 5,
     "metadata": {},
     "output_type": "execute_result"
    }
   ],
   "source": [
    "df = pd.read_csv(\"heart-disease.csv\")\n",
    "df.shape"
   ]
  },
  {
   "cell_type": "markdown",
   "metadata": {},
   "source": [
    "## Data Exploration"
   ]
  },
  {
   "cell_type": "code",
   "execution_count": 6,
   "metadata": {},
   "outputs": [
    {
     "data": {
      "text/html": [
       "<div>\n",
       "<style scoped>\n",
       "    .dataframe tbody tr th:only-of-type {\n",
       "        vertical-align: middle;\n",
       "    }\n",
       "\n",
       "    .dataframe tbody tr th {\n",
       "        vertical-align: top;\n",
       "    }\n",
       "\n",
       "    .dataframe thead th {\n",
       "        text-align: right;\n",
       "    }\n",
       "</style>\n",
       "<table border=\"1\" class=\"dataframe\">\n",
       "  <thead>\n",
       "    <tr style=\"text-align: right;\">\n",
       "      <th></th>\n",
       "      <th>age</th>\n",
       "      <th>sex</th>\n",
       "      <th>cp</th>\n",
       "      <th>trestbps</th>\n",
       "      <th>chol</th>\n",
       "      <th>fbs</th>\n",
       "      <th>restecg</th>\n",
       "      <th>thalach</th>\n",
       "      <th>exang</th>\n",
       "      <th>oldpeak</th>\n",
       "      <th>slope</th>\n",
       "      <th>ca</th>\n",
       "      <th>thal</th>\n",
       "      <th>target</th>\n",
       "    </tr>\n",
       "  </thead>\n",
       "  <tbody>\n",
       "    <tr>\n",
       "      <th>0</th>\n",
       "      <td>63</td>\n",
       "      <td>1</td>\n",
       "      <td>3</td>\n",
       "      <td>145</td>\n",
       "      <td>233</td>\n",
       "      <td>1</td>\n",
       "      <td>0</td>\n",
       "      <td>150</td>\n",
       "      <td>0</td>\n",
       "      <td>2.3</td>\n",
       "      <td>0</td>\n",
       "      <td>0</td>\n",
       "      <td>1</td>\n",
       "      <td>1</td>\n",
       "    </tr>\n",
       "    <tr>\n",
       "      <th>1</th>\n",
       "      <td>37</td>\n",
       "      <td>1</td>\n",
       "      <td>2</td>\n",
       "      <td>130</td>\n",
       "      <td>250</td>\n",
       "      <td>0</td>\n",
       "      <td>1</td>\n",
       "      <td>187</td>\n",
       "      <td>0</td>\n",
       "      <td>3.5</td>\n",
       "      <td>0</td>\n",
       "      <td>0</td>\n",
       "      <td>2</td>\n",
       "      <td>1</td>\n",
       "    </tr>\n",
       "    <tr>\n",
       "      <th>2</th>\n",
       "      <td>41</td>\n",
       "      <td>0</td>\n",
       "      <td>1</td>\n",
       "      <td>130</td>\n",
       "      <td>204</td>\n",
       "      <td>0</td>\n",
       "      <td>0</td>\n",
       "      <td>172</td>\n",
       "      <td>0</td>\n",
       "      <td>1.4</td>\n",
       "      <td>2</td>\n",
       "      <td>0</td>\n",
       "      <td>2</td>\n",
       "      <td>1</td>\n",
       "    </tr>\n",
       "    <tr>\n",
       "      <th>3</th>\n",
       "      <td>56</td>\n",
       "      <td>1</td>\n",
       "      <td>1</td>\n",
       "      <td>120</td>\n",
       "      <td>236</td>\n",
       "      <td>0</td>\n",
       "      <td>1</td>\n",
       "      <td>178</td>\n",
       "      <td>0</td>\n",
       "      <td>0.8</td>\n",
       "      <td>2</td>\n",
       "      <td>0</td>\n",
       "      <td>2</td>\n",
       "      <td>1</td>\n",
       "    </tr>\n",
       "    <tr>\n",
       "      <th>4</th>\n",
       "      <td>57</td>\n",
       "      <td>0</td>\n",
       "      <td>0</td>\n",
       "      <td>120</td>\n",
       "      <td>354</td>\n",
       "      <td>0</td>\n",
       "      <td>1</td>\n",
       "      <td>163</td>\n",
       "      <td>1</td>\n",
       "      <td>0.6</td>\n",
       "      <td>2</td>\n",
       "      <td>0</td>\n",
       "      <td>2</td>\n",
       "      <td>1</td>\n",
       "    </tr>\n",
       "  </tbody>\n",
       "</table>\n",
       "</div>"
      ],
      "text/plain": [
       "   age  sex  cp  trestbps  chol  fbs  restecg  thalach  exang  oldpeak  slope  \\\n",
       "0   63    1   3       145   233    1        0      150      0      2.3      0   \n",
       "1   37    1   2       130   250    0        1      187      0      3.5      0   \n",
       "2   41    0   1       130   204    0        0      172      0      1.4      2   \n",
       "3   56    1   1       120   236    0        1      178      0      0.8      2   \n",
       "4   57    0   0       120   354    0        1      163      1      0.6      2   \n",
       "\n",
       "   ca  thal  target  \n",
       "0   0     1       1  \n",
       "1   0     2       1  \n",
       "2   0     2       1  \n",
       "3   0     2       1  \n",
       "4   0     2       1  "
      ]
     },
     "execution_count": 6,
     "metadata": {},
     "output_type": "execute_result"
    }
   ],
   "source": [
    "df.head()"
   ]
  },
  {
   "cell_type": "code",
   "execution_count": 9,
   "metadata": {},
   "outputs": [
    {
     "data": {
      "image/png": "[encoded data removed]",
      "text/plain": [
       "<Figure size 432x288 with 1 Axes>"
      ]
     },
     "metadata": {
      "needs_background": "light"
     },
     "output_type": "display_data"
    }
   ],
   "source": [
    "# Plot the value counts with a bar graph\n",
    "df.target.value_counts().plot(kind=\"bar\", color=[\"black\", \"gold\"]);"
   ]
  },
  {
   "cell_type": "code",
   "execution_count": 10,
   "metadata": {},
   "outputs": [
    {
     "name": "stdout",
     "output_type": "stream",
     "text": [
      "<class 'pandas.core.frame.DataFrame'>\n",
      "RangeIndex: 303 entries, 0 to 302\n",
      "Data columns (total 14 columns):\n",
      " #   Column    Non-Null Count  Dtype  \n",
      "---  ------    --------------  -----  \n",
      " 0   age       303 non-null    int64  \n",
      " 1   sex       303 non-null    int64  \n",
      " 2   cp        303 non-null    int64  \n",
      " 3   trestbps  303 non-null    int64  \n",
      " 4   chol      303 non-null    int64  \n",
      " 5   fbs       303 non-null    int64  \n",
      " 6   restecg   303 non-null    int64  \n",
      " 7   thalach   303 non-null    int64  \n",
      " 8   exang     303 non-null    int64  \n",
      " 9   oldpeak   303 non-null    float64\n",
      " 10  slope     303 non-null    int64  \n",
      " 11  ca        303 non-null    int64  \n",
      " 12  thal      303 non-null    int64  \n",
      " 13  target    303 non-null    int64  \n",
      "dtypes: float64(1), int64(13)\n",
      "memory usage: 33.3 KB\n"
     ]
    }
   ],
   "source": [
    "df.info()"
   ]
  },
  {
   "cell_type": "code",
   "execution_count": 11,
   "metadata": {},
   "outputs": [
    {
     "data": {
      "text/html": [
       "<div>\n",
       "<style scoped>\n",
       "    .dataframe tbody tr th:only-of-type {\n",
       "        vertical-align: middle;\n",
       "    }\n",
       "\n",
       "    .dataframe tbody tr th {\n",
       "        vertical-align: top;\n",
       "    }\n",
       "\n",
       "    .dataframe thead th {\n",
       "        text-align: right;\n",
       "    }\n",
       "</style>\n",
       "<table border=\"1\" class=\"dataframe\">\n",
       "  <thead>\n",
       "    <tr style=\"text-align: right;\">\n",
       "      <th></th>\n",
       "      <th>age</th>\n",
       "      <th>sex</th>\n",
       "      <th>cp</th>\n",
       "      <th>trestbps</th>\n",
       "      <th>chol</th>\n",
       "      <th>fbs</th>\n",
       "      <th>restecg</th>\n",
       "      <th>thalach</th>\n",
       "      <th>exang</th>\n",
       "      <th>oldpeak</th>\n",
       "      <th>slope</th>\n",
       "      <th>ca</th>\n",
       "      <th>thal</th>\n",
       "      <th>target</th>\n",
       "    </tr>\n",
       "  </thead>\n",
       "  <tbody>\n",
       "    <tr>\n",
       "      <th>count</th>\n",
       "      <td>303.000000</td>\n",
       "      <td>303.000000</td>\n",
       "      <td>303.000000</td>\n",
       "      <td>303.000000</td>\n",
       "      <td>303.000000</td>\n",
       "      <td>303.000000</td>\n",
       "      <td>303.000000</td>\n",
       "      <td>303.000000</td>\n",
       "      <td>303.000000</td>\n",
       "      <td>303.000000</td>\n",
       "      <td>303.000000</td>\n",
       "      <td>303.000000</td>\n",
       "      <td>303.000000</td>\n",
       "      <td>303.000000</td>\n",
       "    </tr>\n",
       "    <tr>\n",
       "      <th>mean</th>\n",
       "      <td>54.366337</td>\n",
       "      <td>0.683168</td>\n",
       "      <td>0.966997</td>\n",
       "      <td>131.623762</td>\n",
       "      <td>246.264026</td>\n",
       "      <td>0.148515</td>\n",
       "      <td>0.528053</td>\n",
       "      <td>149.646865</td>\n",
       "      <td>0.326733</td>\n",
       "      <td>1.039604</td>\n",
       "      <td>1.399340</td>\n",
       "      <td>0.729373</td>\n",
       "      <td>2.313531</td>\n",
       "      <td>0.544554</td>\n",
       "    </tr>\n",
       "    <tr>\n",
       "      <th>std</th>\n",
       "      <td>9.082101</td>\n",
       "      <td>0.466011</td>\n",
       "      <td>1.032052</td>\n",
       "      <td>17.538143</td>\n",
       "      <td>51.830751</td>\n",
       "      <td>0.356198</td>\n",
       "      <td>0.525860</td>\n",
       "      <td>22.905161</td>\n",
       "      <td>0.469794</td>\n",
       "      <td>1.161075</td>\n",
       "      <td>0.616226</td>\n",
       "      <td>1.022606</td>\n",
       "      <td>0.612277</td>\n",
       "      <td>0.498835</td>\n",
       "    </tr>\n",
       "    <tr>\n",
       "      <th>min</th>\n",
       "      <td>29.000000</td>\n",
       "      <td>0.000000</td>\n",
       "      <td>0.000000</td>\n",
       "      <td>94.000000</td>\n",
       "      <td>126.000000</td>\n",
       "      <td>0.000000</td>\n",
       "      <td>0.000000</td>\n",
       "      <td>71.000000</td>\n",
       "      <td>0.000000</td>\n",
       "      <td>0.000000</td>\n",
       "      <td>0.000000</td>\n",
       "      <td>0.000000</td>\n",
       "      <td>0.000000</td>\n",
       "      <td>0.000000</td>\n",
       "    </tr>\n",
       "    <tr>\n",
       "      <th>25%</th>\n",
       "      <td>47.500000</td>\n",
       "      <td>0.000000</td>\n",
       "      <td>0.000000</td>\n",
       "      <td>120.000000</td>\n",
       "      <td>211.000000</td>\n",
       "      <td>0.000000</td>\n",
       "      <td>0.000000</td>\n",
       "      <td>133.500000</td>\n",
       "      <td>0.000000</td>\n",
       "      <td>0.000000</td>\n",
       "      <td>1.000000</td>\n",
       "      <td>0.000000</td>\n",
       "      <td>2.000000</td>\n",
       "      <td>0.000000</td>\n",
       "    </tr>\n",
       "    <tr>\n",
       "      <th>50%</th>\n",
       "      <td>55.000000</td>\n",
       "      <td>1.000000</td>\n",
       "      <td>1.000000</td>\n",
       "      <td>130.000000</td>\n",
       "      <td>240.000000</td>\n",
       "      <td>0.000000</td>\n",
       "      <td>1.000000</td>\n",
       "      <td>153.000000</td>\n",
       "      <td>0.000000</td>\n",
       "      <td>0.800000</td>\n",
       "      <td>1.000000</td>\n",
       "      <td>0.000000</td>\n",
       "      <td>2.000000</td>\n",
       "      <td>1.000000</td>\n",
       "    </tr>\n",
       "    <tr>\n",
       "      <th>75%</th>\n",
       "      <td>61.000000</td>\n",
       "      <td>1.000000</td>\n",
       "      <td>2.000000</td>\n",
       "      <td>140.000000</td>\n",
       "      <td>274.500000</td>\n",
       "      <td>0.000000</td>\n",
       "      <td>1.000000</td>\n",
       "      <td>166.000000</td>\n",
       "      <td>1.000000</td>\n",
       "      <td>1.600000</td>\n",
       "      <td>2.000000</td>\n",
       "      <td>1.000000</td>\n",
       "      <td>3.000000</td>\n",
       "      <td>1.000000</td>\n",
       "    </tr>\n",
       "    <tr>\n",
       "      <th>max</th>\n",
       "      <td>77.000000</td>\n",
       "      <td>1.000000</td>\n",
       "      <td>3.000000</td>\n",
       "      <td>200.000000</td>\n",
       "      <td>564.000000</td>\n",
       "      <td>1.000000</td>\n",
       "      <td>2.000000</td>\n",
       "      <td>202.000000</td>\n",
       "      <td>1.000000</td>\n",
       "      <td>6.200000</td>\n",
       "      <td>2.000000</td>\n",
       "      <td>4.000000</td>\n",
       "      <td>3.000000</td>\n",
       "      <td>1.000000</td>\n",
       "    </tr>\n",
       "  </tbody>\n",
       "</table>\n",
       "</div>"
      ],
      "text/plain": [
       "              age         sex          cp    trestbps        chol         fbs  \\\n",
       "count  303.000000  303.000000  303.000000  303.000000  303.000000  303.000000   \n",
       "mean    54.366337    0.683168    0.966997  131.623762  246.264026    0.148515   \n",
       "std      9.082101    0.466011    1.032052   17.538143   51.830751    0.356198   \n",
       "min     29.000000    0.000000    0.000000   94.000000  126.000000    0.000000   \n",
       "25%     47.500000    0.000000    0.000000  120.000000  211.000000    0.000000   \n",
       "50%     55.000000    1.000000    1.000000  130.000000  240.000000    0.000000   \n",
       "75%     61.000000    1.000000    2.000000  140.000000  274.500000    0.000000   \n",
       "max     77.000000    1.000000    3.000000  200.000000  564.000000    1.000000   \n",
       "\n",
       "          restecg     thalach       exang     oldpeak       slope          ca  \\\n",
       "count  303.000000  303.000000  303.000000  303.000000  303.000000  303.000000   \n",
       "mean     0.528053  149.646865    0.326733    1.039604    1.399340    0.729373   \n",
       "std      0.525860   22.905161    0.469794    1.161075    0.616226    1.022606   \n",
       "min      0.000000   71.000000    0.000000    0.000000    0.000000    0.000000   \n",
       "25%      0.000000  133.500000    0.000000    0.000000    1.000000    0.000000   \n",
       "50%      1.000000  153.000000    0.000000    0.800000    1.000000    0.000000   \n",
       "75%      1.000000  166.000000    1.000000    1.600000    2.000000    1.000000   \n",
       "max      2.000000  202.000000    1.000000    6.200000    2.000000    4.000000   \n",
       "\n",
       "             thal      target  \n",
       "count  303.000000  303.000000  \n",
       "mean     2.313531    0.544554  \n",
       "std      0.612277    0.498835  \n",
       "min      0.000000    0.000000  \n",
       "25%      2.000000    0.000000  \n",
       "50%      2.000000    1.000000  \n",
       "75%      3.000000    1.000000  \n",
       "max      3.000000    1.000000  "
      ]
     },
     "execution_count": 11,
     "metadata": {},
     "output_type": "execute_result"
    }
   ],
   "source": [
    "df.describe()"
   ]
  },
  {
   "cell_type": "markdown",
   "metadata": {},
   "source": [
    "### Heart Disease Frequency according to Gender\n",
    "\n",
    "Let's compare our target column with the sex column. \n",
    "\n",
    "For the target column, 1 = heart disease present, 0 = no heart disease. And for sex, 1 = male, 0 = female."
   ]
  },
  {
   "cell_type": "code",
   "execution_count": 12,
   "metadata": {},
   "outputs": [
    {
     "data": {
      "text/plain": [
       "1    207\n",
       "0     96\n",
       "Name: sex, dtype: int64"
      ]
     },
     "execution_count": 12,
     "metadata": {},
     "output_type": "execute_result"
    }
   ],
   "source": [
    "df.sex.value_counts()"
   ]
  },
  {
   "cell_type": "markdown",
   "metadata": {},
   "source": [
    "There are 207 males and 96 females in the data."
   ]
  },
  {
   "cell_type": "code",
   "execution_count": 13,
   "metadata": {},
   "outputs": [
    {
     "data": {
      "text/html": [
       "<div>\n",
       "<style scoped>\n",
       "    .dataframe tbody tr th:only-of-type {\n",
       "        vertical-align: middle;\n",
       "    }\n",
       "\n",
       "    .dataframe tbody tr th {\n",
       "        vertical-align: top;\n",
       "    }\n",
       "\n",
       "    .dataframe thead th {\n",
       "        text-align: right;\n",
       "    }\n",
       "</style>\n",
       "<table border=\"1\" class=\"dataframe\">\n",
       "  <thead>\n",
       "    <tr style=\"text-align: right;\">\n",
       "      <th>sex</th>\n",
       "      <th>0</th>\n",
       "      <th>1</th>\n",
       "    </tr>\n",
       "    <tr>\n",
       "      <th>target</th>\n",
       "      <th></th>\n",
       "      <th></th>\n",
       "    </tr>\n",
       "  </thead>\n",
       "  <tbody>\n",
       "    <tr>\n",
       "      <th>0</th>\n",
       "      <td>24</td>\n",
       "      <td>114</td>\n",
       "    </tr>\n",
       "    <tr>\n",
       "      <th>1</th>\n",
       "      <td>72</td>\n",
       "      <td>93</td>\n",
       "    </tr>\n",
       "  </tbody>\n",
       "</table>\n",
       "</div>"
      ],
      "text/plain": [
       "sex      0    1\n",
       "target         \n",
       "0       24  114\n",
       "1       72   93"
      ]
     },
     "execution_count": 13,
     "metadata": {},
     "output_type": "execute_result"
    }
   ],
   "source": [
    "# Compare target column with sex column\n",
    "pd.crosstab(df.target, df.sex)"
   ]
  },
  {
   "cell_type": "code",
   "execution_count": 13,
   "metadata": {},
   "outputs": [
    {
     "data": {
      "image/png": "[encoded data removed]",
      "text/plain": [
       "<Figure size 720x432 with 1 Axes>"
      ]
     },
     "metadata": {
      "needs_background": "light"
     },
     "output_type": "display_data"
    }
   ],
   "source": [
    "Initial Look, woman in our sample are more likely to have heart disease than men.# Create a plot\n",
    "pd.crosstab(df.target, df.sex).plot(kind=\"bar\", figsize=(10,6), color=[\"salmon\", \"lightblue\"])\n",
    "\n",
    "# Add some attributes to it\n",
    "plt.title(\"Heart Disease Frequency for Sex\")\n",
    "plt.xlabel(\"0 = No Disease, 1 = Disease\")\n",
    "plt.ylabel(\"Amount\")\n",
    "plt.legend([\"Female\", \"Male\"])\n",
    "plt.xticks(rotation=0); # keep the labels on the x-axis vertical"
   ]
  },
  {
   "cell_type": "markdown",
   "metadata": {},
   "source": [
    "### Initial Look, woman in our sample are more likely to have heart disease than men."
   ]
  },
  {
   "cell_type": "markdown",
   "metadata": {},
   "source": [
    "### Age vs Max Heart rate for Heart Disease\n",
    "\n",
    "Let's try combining a couple of independent variables, such as, `age` and `thalach` (maximum heart rate) and then comparing them to our target variable `heart disease`.`"
   ]
  },
  {
   "cell_type": "code",
   "execution_count": 15,
   "metadata": {},
   "outputs": [
    {
     "data": {
      "image/png": "[encoded data removed]",
      "text/plain": [
       "<Figure size 720x432 with 1 Axes>"
      ]
     },
     "metadata": {
      "needs_background": "light"
     },
     "output_type": "display_data"
    }
   ],
   "source": [
    "plt.figure(figsize=(10,6))\n",
    "\n",
    "plt.scatter(df.age[df.target==1], \n",
    "            df.thalach[df.target==1], \n",
    "            c=\"black\")\n",
    "\n",
    "plt.scatter(df.age[df.target==0], \n",
    "            df.thalach[df.target==0], \n",
    "            c=\"gold\")\n",
    "\n",
    "plt.title(\"Heart Disease in function of Age and Max Heart Rate\")\n",
    "plt.xlabel(\"Age\")\n",
    "plt.legend([\"Disease\", \"No Disease\"])\n",
    "plt.ylabel(\"Max Heart Rate\");"
   ]
  },
  {
   "cell_type": "markdown",
   "metadata": {},
   "source": [
    "It seems the younger someone is, the higher their max heart rate (dots are higher on the left of the graph) and the older someone is, the more green dots there are. But this may be because there are more dots all together on the right side of the graph (older participants).\n",
    "\n",
    "Let's check the age distribution."
   ]
  },
  {
   "cell_type": "code",
   "execution_count": 16,
   "metadata": {},
   "outputs": [
    {
     "data": {
      "image/png": "[encoded data removed]",
      "text/plain": [
       "<Figure size 432x288 with 1 Axes>"
      ]
     },
     "metadata": {
      "needs_background": "light"
     },
     "output_type": "display_data"
    }
   ],
   "source": [
    "df.age.plot.hist();"
   ]
  },
  {
   "cell_type": "markdown",
   "metadata": {},
   "source": [
    "The slightly shifted gaussian distribution reflects the above scatter plot."
   ]
  },
  {
   "cell_type": "markdown",
   "metadata": {},
   "source": [
    "### Heart Disease Frequency per Chest Pain Type"
   ]
  },
  {
   "cell_type": "code",
   "execution_count": 17,
   "metadata": {},
   "outputs": [
    {
     "data": {
      "text/html": [
       "<div>\n",
       "<style scoped>\n",
       "    .dataframe tbody tr th:only-of-type {\n",
       "        vertical-align: middle;\n",
       "    }\n",
       "\n",
       "    .dataframe tbody tr th {\n",
       "        vertical-align: top;\n",
       "    }\n",
       "\n",
       "    .dataframe thead th {\n",
       "        text-align: right;\n",
       "    }\n",
       "</style>\n",
       "<table border=\"1\" class=\"dataframe\">\n",
       "  <thead>\n",
       "    <tr style=\"text-align: right;\">\n",
       "      <th>target</th>\n",
       "      <th>0</th>\n",
       "      <th>1</th>\n",
       "    </tr>\n",
       "    <tr>\n",
       "      <th>cp</th>\n",
       "      <th></th>\n",
       "      <th></th>\n",
       "    </tr>\n",
       "  </thead>\n",
       "  <tbody>\n",
       "    <tr>\n",
       "      <th>0</th>\n",
       "      <td>104</td>\n",
       "      <td>39</td>\n",
       "    </tr>\n",
       "    <tr>\n",
       "      <th>1</th>\n",
       "      <td>9</td>\n",
       "      <td>41</td>\n",
       "    </tr>\n",
       "    <tr>\n",
       "      <th>2</th>\n",
       "      <td>18</td>\n",
       "      <td>69</td>\n",
       "    </tr>\n",
       "    <tr>\n",
       "      <th>3</th>\n",
       "      <td>7</td>\n",
       "      <td>16</td>\n",
       "    </tr>\n",
       "  </tbody>\n",
       "</table>\n",
       "</div>"
      ],
      "text/plain": [
       "target    0   1\n",
       "cp             \n",
       "0       104  39\n",
       "1         9  41\n",
       "2        18  69\n",
       "3         7  16"
      ]
     },
     "execution_count": 17,
     "metadata": {},
     "output_type": "execute_result"
    }
   ],
   "source": [
    "pd.crosstab(df.cp, df.target)"
   ]
  },
  {
   "cell_type": "code",
   "execution_count": 18,
   "metadata": {},
   "outputs": [
    {
     "data": {
      "image/png": "[encoded data removed]",
      "text/plain": [
       "<Figure size 720x432 with 1 Axes>"
      ]
     },
     "metadata": {
      "needs_background": "light"
     },
     "output_type": "display_data"
    }
   ],
   "source": [
    "pd.crosstab(df.cp, df.target).plot(kind=\"bar\", \n",
    "                                   figsize=(10,6), \n",
    "                                   color=[\"gold\", \"black\"])\n",
    "\n",
    "plt.title(\"Heart Disease Frequency Per Chest Pain Type\")\n",
    "plt.xlabel(\"Chest Pain Type\")\n",
    "plt.ylabel(\"Frequency\")\n",
    "plt.legend([\"No Disease\", \"Disease\"])\n",
    "plt.xticks(rotation = 0);"
   ]
  },
  {
   "cell_type": "markdown",
   "metadata": {},
   "source": [
    "3. cp - chest pain type \n",
    "    * 0: Typical angina: chest pain related decrease blood supply to the heart\n",
    "    * 1: Atypical angina: chest pain not related to heart\n",
    "    * 2: Non-anginal pain: typically esophageal spasms (non heart related)\n",
    "    * 3: Asymptomatic: chest pain not showing signs of disease\n",
    "    \n",
    "It's interesting the atypical agina (value 1) states it's not related to the heart but seems to have a higher ratio of participants with heart disease than not.\n",
    "\n",
    "Lets look further than the dictionary.\n",
    "\n",
    "PubMed def of atypical Angina [definition confusion](https://www.ncbi.nlm.nih.gov/pmc/articles/PMC2763472/).\n",
    "\n",
    "> Today, 23 years later, “atypical chest pain” is still popular in medical circles. Its meaning, however, remains unclear. A few articles have the term in their title, but do not define or discuss it in their text. In other articles, the term refers to noncardiac causes of chest pain.\n",
    "\n",
    "Defining features isnt always reliable."
   ]
  },
  {
   "cell_type": "markdown",
   "metadata": {},
   "source": [
    "### Correlation between independent variables"
   ]
  },
  {
   "cell_type": "code",
   "execution_count": 21,
   "metadata": {},
   "outputs": [
    {
     "data": {
      "text/html": [
       "<div>\n",
       "<style scoped>\n",
       "    .dataframe tbody tr th:only-of-type {\n",
       "        vertical-align: middle;\n",
       "    }\n",
       "\n",
       "    .dataframe tbody tr th {\n",
       "        vertical-align: top;\n",
       "    }\n",
       "\n",
       "    .dataframe thead th {\n",
       "        text-align: right;\n",
       "    }\n",
       "</style>\n",
       "<table border=\"1\" class=\"dataframe\">\n",
       "  <thead>\n",
       "    <tr style=\"text-align: right;\">\n",
       "      <th></th>\n",
       "      <th>age</th>\n",
       "      <th>sex</th>\n",
       "      <th>cp</th>\n",
       "      <th>trestbps</th>\n",
       "      <th>chol</th>\n",
       "      <th>fbs</th>\n",
       "      <th>restecg</th>\n",
       "      <th>thalach</th>\n",
       "      <th>exang</th>\n",
       "      <th>oldpeak</th>\n",
       "      <th>slope</th>\n",
       "      <th>ca</th>\n",
       "      <th>thal</th>\n",
       "      <th>target</th>\n",
       "    </tr>\n",
       "  </thead>\n",
       "  <tbody>\n",
       "    <tr>\n",
       "      <th>age</th>\n",
       "      <td>1.000000</td>\n",
       "      <td>-0.098447</td>\n",
       "      <td>-0.068653</td>\n",
       "      <td>0.279351</td>\n",
       "      <td>0.213678</td>\n",
       "      <td>0.121308</td>\n",
       "      <td>-0.116211</td>\n",
       "      <td>-0.398522</td>\n",
       "      <td>0.096801</td>\n",
       "      <td>0.210013</td>\n",
       "      <td>-0.168814</td>\n",
       "      <td>0.276326</td>\n",
       "      <td>0.068001</td>\n",
       "      <td>-0.225439</td>\n",
       "    </tr>\n",
       "    <tr>\n",
       "      <th>sex</th>\n",
       "      <td>-0.098447</td>\n",
       "      <td>1.000000</td>\n",
       "      <td>-0.049353</td>\n",
       "      <td>-0.056769</td>\n",
       "      <td>-0.197912</td>\n",
       "      <td>0.045032</td>\n",
       "      <td>-0.058196</td>\n",
       "      <td>-0.044020</td>\n",
       "      <td>0.141664</td>\n",
       "      <td>0.096093</td>\n",
       "      <td>-0.030711</td>\n",
       "      <td>0.118261</td>\n",
       "      <td>0.210041</td>\n",
       "      <td>-0.280937</td>\n",
       "    </tr>\n",
       "    <tr>\n",
       "      <th>cp</th>\n",
       "      <td>-0.068653</td>\n",
       "      <td>-0.049353</td>\n",
       "      <td>1.000000</td>\n",
       "      <td>0.047608</td>\n",
       "      <td>-0.076904</td>\n",
       "      <td>0.094444</td>\n",
       "      <td>0.044421</td>\n",
       "      <td>0.295762</td>\n",
       "      <td>-0.394280</td>\n",
       "      <td>-0.149230</td>\n",
       "      <td>0.119717</td>\n",
       "      <td>-0.181053</td>\n",
       "      <td>-0.161736</td>\n",
       "      <td>0.433798</td>\n",
       "    </tr>\n",
       "    <tr>\n",
       "      <th>trestbps</th>\n",
       "      <td>0.279351</td>\n",
       "      <td>-0.056769</td>\n",
       "      <td>0.047608</td>\n",
       "      <td>1.000000</td>\n",
       "      <td>0.123174</td>\n",
       "      <td>0.177531</td>\n",
       "      <td>-0.114103</td>\n",
       "      <td>-0.046698</td>\n",
       "      <td>0.067616</td>\n",
       "      <td>0.193216</td>\n",
       "      <td>-0.121475</td>\n",
       "      <td>0.101389</td>\n",
       "      <td>0.062210</td>\n",
       "      <td>-0.144931</td>\n",
       "    </tr>\n",
       "    <tr>\n",
       "      <th>chol</th>\n",
       "      <td>0.213678</td>\n",
       "      <td>-0.197912</td>\n",
       "      <td>-0.076904</td>\n",
       "      <td>0.123174</td>\n",
       "      <td>1.000000</td>\n",
       "      <td>0.013294</td>\n",
       "      <td>-0.151040</td>\n",
       "      <td>-0.009940</td>\n",
       "      <td>0.067023</td>\n",
       "      <td>0.053952</td>\n",
       "      <td>-0.004038</td>\n",
       "      <td>0.070511</td>\n",
       "      <td>0.098803</td>\n",
       "      <td>-0.085239</td>\n",
       "    </tr>\n",
       "    <tr>\n",
       "      <th>fbs</th>\n",
       "      <td>0.121308</td>\n",
       "      <td>0.045032</td>\n",
       "      <td>0.094444</td>\n",
       "      <td>0.177531</td>\n",
       "      <td>0.013294</td>\n",
       "      <td>1.000000</td>\n",
       "      <td>-0.084189</td>\n",
       "      <td>-0.008567</td>\n",
       "      <td>0.025665</td>\n",
       "      <td>0.005747</td>\n",
       "      <td>-0.059894</td>\n",
       "      <td>0.137979</td>\n",
       "      <td>-0.032019</td>\n",
       "      <td>-0.028046</td>\n",
       "    </tr>\n",
       "    <tr>\n",
       "      <th>restecg</th>\n",
       "      <td>-0.116211</td>\n",
       "      <td>-0.058196</td>\n",
       "      <td>0.044421</td>\n",
       "      <td>-0.114103</td>\n",
       "      <td>-0.151040</td>\n",
       "      <td>-0.084189</td>\n",
       "      <td>1.000000</td>\n",
       "      <td>0.044123</td>\n",
       "      <td>-0.070733</td>\n",
       "      <td>-0.058770</td>\n",
       "      <td>0.093045</td>\n",
       "      <td>-0.072042</td>\n",
       "      <td>-0.011981</td>\n",
       "      <td>0.137230</td>\n",
       "    </tr>\n",
       "    <tr>\n",
       "      <th>thalach</th>\n",
       "      <td>-0.398522</td>\n",
       "      <td>-0.044020</td>\n",
       "      <td>0.295762</td>\n",
       "      <td>-0.046698</td>\n",
       "      <td>-0.009940</td>\n",
       "      <td>-0.008567</td>\n",
       "      <td>0.044123</td>\n",
       "      <td>1.000000</td>\n",
       "      <td>-0.378812</td>\n",
       "      <td>-0.344187</td>\n",
       "      <td>0.386784</td>\n",
       "      <td>-0.213177</td>\n",
       "      <td>-0.096439</td>\n",
       "      <td>0.421741</td>\n",
       "    </tr>\n",
       "    <tr>\n",
       "      <th>exang</th>\n",
       "      <td>0.096801</td>\n",
       "      <td>0.141664</td>\n",
       "      <td>-0.394280</td>\n",
       "      <td>0.067616</td>\n",
       "      <td>0.067023</td>\n",
       "      <td>0.025665</td>\n",
       "      <td>-0.070733</td>\n",
       "      <td>-0.378812</td>\n",
       "      <td>1.000000</td>\n",
       "      <td>0.288223</td>\n",
       "      <td>-0.257748</td>\n",
       "      <td>0.115739</td>\n",
       "      <td>0.206754</td>\n",
       "      <td>-0.436757</td>\n",
       "    </tr>\n",
       "    <tr>\n",
       "      <th>oldpeak</th>\n",
       "      <td>0.210013</td>\n",
       "      <td>0.096093</td>\n",
       "      <td>-0.149230</td>\n",
       "      <td>0.193216</td>\n",
       "      <td>0.053952</td>\n",
       "      <td>0.005747</td>\n",
       "      <td>-0.058770</td>\n",
       "      <td>-0.344187</td>\n",
       "      <td>0.288223</td>\n",
       "      <td>1.000000</td>\n",
       "      <td>-0.577537</td>\n",
       "      <td>0.222682</td>\n",
       "      <td>0.210244</td>\n",
       "      <td>-0.430696</td>\n",
       "    </tr>\n",
       "    <tr>\n",
       "      <th>slope</th>\n",
       "      <td>-0.168814</td>\n",
       "      <td>-0.030711</td>\n",
       "      <td>0.119717</td>\n",
       "      <td>-0.121475</td>\n",
       "      <td>-0.004038</td>\n",
       "      <td>-0.059894</td>\n",
       "      <td>0.093045</td>\n",
       "      <td>0.386784</td>\n",
       "      <td>-0.257748</td>\n",
       "      <td>-0.577537</td>\n",
       "      <td>1.000000</td>\n",
       "      <td>-0.080155</td>\n",
       "      <td>-0.104764</td>\n",
       "      <td>0.345877</td>\n",
       "    </tr>\n",
       "    <tr>\n",
       "      <th>ca</th>\n",
       "      <td>0.276326</td>\n",
       "      <td>0.118261</td>\n",
       "      <td>-0.181053</td>\n",
       "      <td>0.101389</td>\n",
       "      <td>0.070511</td>\n",
       "      <td>0.137979</td>\n",
       "      <td>-0.072042</td>\n",
       "      <td>-0.213177</td>\n",
       "      <td>0.115739</td>\n",
       "      <td>0.222682</td>\n",
       "      <td>-0.080155</td>\n",
       "      <td>1.000000</td>\n",
       "      <td>0.151832</td>\n",
       "      <td>-0.391724</td>\n",
       "    </tr>\n",
       "    <tr>\n",
       "      <th>thal</th>\n",
       "      <td>0.068001</td>\n",
       "      <td>0.210041</td>\n",
       "      <td>-0.161736</td>\n",
       "      <td>0.062210</td>\n",
       "      <td>0.098803</td>\n",
       "      <td>-0.032019</td>\n",
       "      <td>-0.011981</td>\n",
       "      <td>-0.096439</td>\n",
       "      <td>0.206754</td>\n",
       "      <td>0.210244</td>\n",
       "      <td>-0.104764</td>\n",
       "      <td>0.151832</td>\n",
       "      <td>1.000000</td>\n",
       "      <td>-0.344029</td>\n",
       "    </tr>\n",
       "    <tr>\n",
       "      <th>target</th>\n",
       "      <td>-0.225439</td>\n",
       "      <td>-0.280937</td>\n",
       "      <td>0.433798</td>\n",
       "      <td>-0.144931</td>\n",
       "      <td>-0.085239</td>\n",
       "      <td>-0.028046</td>\n",
       "      <td>0.137230</td>\n",
       "      <td>0.421741</td>\n",
       "      <td>-0.436757</td>\n",
       "      <td>-0.430696</td>\n",
       "      <td>0.345877</td>\n",
       "      <td>-0.391724</td>\n",
       "      <td>-0.344029</td>\n",
       "      <td>1.000000</td>\n",
       "    </tr>\n",
       "  </tbody>\n",
       "</table>\n",
       "</div>"
      ],
      "text/plain": [
       "               age       sex        cp  trestbps      chol       fbs  \\\n",
       "age       1.000000 -0.098447 -0.068653  0.279351  0.213678  0.121308   \n",
       "sex      -0.098447  1.000000 -0.049353 -0.056769 -0.197912  0.045032   \n",
       "cp       -0.068653 -0.049353  1.000000  0.047608 -0.076904  0.094444   \n",
       "trestbps  0.279351 -0.056769  0.047608  1.000000  0.123174  0.177531   \n",
       "chol      0.213678 -0.197912 -0.076904  0.123174  1.000000  0.013294   \n",
       "fbs       0.121308  0.045032  0.094444  0.177531  0.013294  1.000000   \n",
       "restecg  -0.116211 -0.058196  0.044421 -0.114103 -0.151040 -0.084189   \n",
       "thalach  -0.398522 -0.044020  0.295762 -0.046698 -0.009940 -0.008567   \n",
       "exang     0.096801  0.141664 -0.394280  0.067616  0.067023  0.025665   \n",
       "oldpeak   0.210013  0.096093 -0.149230  0.193216  0.053952  0.005747   \n",
       "slope    -0.168814 -0.030711  0.119717 -0.121475 -0.004038 -0.059894   \n",
       "ca        0.276326  0.118261 -0.181053  0.101389  0.070511  0.137979   \n",
       "thal      0.068001  0.210041 -0.161736  0.062210  0.098803 -0.032019   \n",
       "target   -0.225439 -0.280937  0.433798 -0.144931 -0.085239 -0.028046   \n",
       "\n",
       "           restecg   thalach     exang   oldpeak     slope        ca  \\\n",
       "age      -0.116211 -0.398522  0.096801  0.210013 -0.168814  0.276326   \n",
       "sex      -0.058196 -0.044020  0.141664  0.096093 -0.030711  0.118261   \n",
       "cp        0.044421  0.295762 -0.394280 -0.149230  0.119717 -0.181053   \n",
       "trestbps -0.114103 -0.046698  0.067616  0.193216 -0.121475  0.101389   \n",
       "chol     -0.151040 -0.009940  0.067023  0.053952 -0.004038  0.070511   \n",
       "fbs      -0.084189 -0.008567  0.025665  0.005747 -0.059894  0.137979   \n",
       "restecg   1.000000  0.044123 -0.070733 -0.058770  0.093045 -0.072042   \n",
       "thalach   0.044123  1.000000 -0.378812 -0.344187  0.386784 -0.213177   \n",
       "exang    -0.070733 -0.378812  1.000000  0.288223 -0.257748  0.115739   \n",
       "oldpeak  -0.058770 -0.344187  0.288223  1.000000 -0.577537  0.222682   \n",
       "slope     0.093045  0.386784 -0.257748 -0.577537  1.000000 -0.080155   \n",
       "ca       -0.072042 -0.213177  0.115739  0.222682 -0.080155  1.000000   \n",
       "thal     -0.011981 -0.096439  0.206754  0.210244 -0.104764  0.151832   \n",
       "target    0.137230  0.421741 -0.436757 -0.430696  0.345877 -0.391724   \n",
       "\n",
       "              thal    target  \n",
       "age       0.068001 -0.225439  \n",
       "sex       0.210041 -0.280937  \n",
       "cp       -0.161736  0.433798  \n",
       "trestbps  0.062210 -0.144931  \n",
       "chol      0.098803 -0.085239  \n",
       "fbs      -0.032019 -0.028046  \n",
       "restecg  -0.011981  0.137230  \n",
       "thalach  -0.096439  0.421741  \n",
       "exang     0.206754 -0.436757  \n",
       "oldpeak   0.210244 -0.430696  \n",
       "slope    -0.104764  0.345877  \n",
       "ca        0.151832 -0.391724  \n",
       "thal      1.000000 -0.344029  \n",
       "target   -0.344029  1.000000  "
      ]
     },
     "execution_count": 21,
     "metadata": {},
     "output_type": "execute_result"
    }
   ],
   "source": [
    "# Get the correlation between features.\n",
    "corr_matrix = df.corr()\n",
    "corr_matrix "
   ]
  },
  {
   "cell_type": "code",
   "execution_count": 22,
   "metadata": {},
   "outputs": [
    {
     "data": {
      "image/png": "[encoded data removed]",
      "text/plain": [
       "<Figure size 1080x720 with 2 Axes>"
      ]
     },
     "metadata": {
      "needs_background": "light"
     },
     "output_type": "display_data"
    }
   ],
   "source": [
    "corr_matrix = df.corr()\n",
    "plt.figure(figsize=(15, 10))\n",
    "sns.heatmap(corr_matrix, \n",
    "            annot=True, \n",
    "            linewidths=0.5, \n",
    "            fmt= \".2f\", \n",
    "            cmap=\"YlGnBu\");"
   ]
  },
  {
   "cell_type": "markdown",
   "metadata": {},
   "source": [
    "## 5. Modeling"
   ]
  },
  {
   "cell_type": "code",
   "execution_count": 23,
   "metadata": {},
   "outputs": [],
   "source": [
    "# Features array\n",
    "X = df.drop(\"target\", axis=1)\n",
    "\n",
    "# Target variable\n",
    "y = df.target.values"
   ]
  },
  {
   "cell_type": "code",
   "execution_count": 24,
   "metadata": {},
   "outputs": [
    {
     "data": {
      "text/html": [
       "<div>\n",
       "<style scoped>\n",
       "    .dataframe tbody tr th:only-of-type {\n",
       "        vertical-align: middle;\n",
       "    }\n",
       "\n",
       "    .dataframe tbody tr th {\n",
       "        vertical-align: top;\n",
       "    }\n",
       "\n",
       "    .dataframe thead th {\n",
       "        text-align: right;\n",
       "    }\n",
       "</style>\n",
       "<table border=\"1\" class=\"dataframe\">\n",
       "  <thead>\n",
       "    <tr style=\"text-align: right;\">\n",
       "      <th></th>\n",
       "      <th>age</th>\n",
       "      <th>sex</th>\n",
       "      <th>cp</th>\n",
       "      <th>trestbps</th>\n",
       "      <th>chol</th>\n",
       "      <th>fbs</th>\n",
       "      <th>restecg</th>\n",
       "      <th>thalach</th>\n",
       "      <th>exang</th>\n",
       "      <th>oldpeak</th>\n",
       "      <th>slope</th>\n",
       "      <th>ca</th>\n",
       "      <th>thal</th>\n",
       "    </tr>\n",
       "  </thead>\n",
       "  <tbody>\n",
       "    <tr>\n",
       "      <th>0</th>\n",
       "      <td>63</td>\n",
       "      <td>1</td>\n",
       "      <td>3</td>\n",
       "      <td>145</td>\n",
       "      <td>233</td>\n",
       "      <td>1</td>\n",
       "      <td>0</td>\n",
       "      <td>150</td>\n",
       "      <td>0</td>\n",
       "      <td>2.3</td>\n",
       "      <td>0</td>\n",
       "      <td>0</td>\n",
       "      <td>1</td>\n",
       "    </tr>\n",
       "    <tr>\n",
       "      <th>1</th>\n",
       "      <td>37</td>\n",
       "      <td>1</td>\n",
       "      <td>2</td>\n",
       "      <td>130</td>\n",
       "      <td>250</td>\n",
       "      <td>0</td>\n",
       "      <td>1</td>\n",
       "      <td>187</td>\n",
       "      <td>0</td>\n",
       "      <td>3.5</td>\n",
       "      <td>0</td>\n",
       "      <td>0</td>\n",
       "      <td>2</td>\n",
       "    </tr>\n",
       "    <tr>\n",
       "      <th>2</th>\n",
       "      <td>41</td>\n",
       "      <td>0</td>\n",
       "      <td>1</td>\n",
       "      <td>130</td>\n",
       "      <td>204</td>\n",
       "      <td>0</td>\n",
       "      <td>0</td>\n",
       "      <td>172</td>\n",
       "      <td>0</td>\n",
       "      <td>1.4</td>\n",
       "      <td>2</td>\n",
       "      <td>0</td>\n",
       "      <td>2</td>\n",
       "    </tr>\n",
       "    <tr>\n",
       "      <th>3</th>\n",
       "      <td>56</td>\n",
       "      <td>1</td>\n",
       "      <td>1</td>\n",
       "      <td>120</td>\n",
       "      <td>236</td>\n",
       "      <td>0</td>\n",
       "      <td>1</td>\n",
       "      <td>178</td>\n",
       "      <td>0</td>\n",
       "      <td>0.8</td>\n",
       "      <td>2</td>\n",
       "      <td>0</td>\n",
       "      <td>2</td>\n",
       "    </tr>\n",
       "    <tr>\n",
       "      <th>4</th>\n",
       "      <td>57</td>\n",
       "      <td>0</td>\n",
       "      <td>0</td>\n",
       "      <td>120</td>\n",
       "      <td>354</td>\n",
       "      <td>0</td>\n",
       "      <td>1</td>\n",
       "      <td>163</td>\n",
       "      <td>1</td>\n",
       "      <td>0.6</td>\n",
       "      <td>2</td>\n",
       "      <td>0</td>\n",
       "      <td>2</td>\n",
       "    </tr>\n",
       "  </tbody>\n",
       "</table>\n",
       "</div>"
      ],
      "text/plain": [
       "   age  sex  cp  trestbps  chol  fbs  restecg  thalach  exang  oldpeak  slope  \\\n",
       "0   63    1   3       145   233    1        0      150      0      2.3      0   \n",
       "1   37    1   2       130   250    0        1      187      0      3.5      0   \n",
       "2   41    0   1       130   204    0        0      172      0      1.4      2   \n",
       "3   56    1   1       120   236    0        1      178      0      0.8      2   \n",
       "4   57    0   0       120   354    0        1      163      1      0.6      2   \n",
       "\n",
       "   ca  thal  \n",
       "0   0     1  \n",
       "1   0     2  \n",
       "2   0     2  \n",
       "3   0     2  \n",
       "4   0     2  "
      ]
     },
     "execution_count": 24,
     "metadata": {},
     "output_type": "execute_result"
    }
   ],
   "source": [
    "# Independent variables\n",
    "X.head()"
   ]
  },
  {
   "cell_type": "code",
   "execution_count": 25,
   "metadata": {},
   "outputs": [
    {
     "data": {
      "text/plain": [
       "array([1, 1, 1, 1, 1, 1, 1, 1, 1, 1, 1, 1, 1, 1, 1, 1, 1, 1, 1, 1, 1, 1,\n",
       "       1, 1, 1, 1, 1, 1, 1, 1, 1, 1, 1, 1, 1, 1, 1, 1, 1, 1, 1, 1, 1, 1,\n",
       "       1, 1, 1, 1, 1, 1, 1, 1, 1, 1, 1, 1, 1, 1, 1, 1, 1, 1, 1, 1, 1, 1,\n",
       "       1, 1, 1, 1, 1, 1, 1, 1, 1, 1, 1, 1, 1, 1, 1, 1, 1, 1, 1, 1, 1, 1,\n",
       "       1, 1, 1, 1, 1, 1, 1, 1, 1, 1, 1, 1, 1, 1, 1, 1, 1, 1, 1, 1, 1, 1,\n",
       "       1, 1, 1, 1, 1, 1, 1, 1, 1, 1, 1, 1, 1, 1, 1, 1, 1, 1, 1, 1, 1, 1,\n",
       "       1, 1, 1, 1, 1, 1, 1, 1, 1, 1, 1, 1, 1, 1, 1, 1, 1, 1, 1, 1, 1, 1,\n",
       "       1, 1, 1, 1, 1, 1, 1, 1, 1, 1, 1, 0, 0, 0, 0, 0, 0, 0, 0, 0, 0, 0,\n",
       "       0, 0, 0, 0, 0, 0, 0, 0, 0, 0, 0, 0, 0, 0, 0, 0, 0, 0, 0, 0, 0, 0,\n",
       "       0, 0, 0, 0, 0, 0, 0, 0, 0, 0, 0, 0, 0, 0, 0, 0, 0, 0, 0, 0, 0, 0,\n",
       "       0, 0, 0, 0, 0, 0, 0, 0, 0, 0, 0, 0, 0, 0, 0, 0, 0, 0, 0, 0, 0, 0,\n",
       "       0, 0, 0, 0, 0, 0, 0, 0, 0, 0, 0, 0, 0, 0, 0, 0, 0, 0, 0, 0, 0, 0,\n",
       "       0, 0, 0, 0, 0, 0, 0, 0, 0, 0, 0, 0, 0, 0, 0, 0, 0, 0, 0, 0, 0, 0,\n",
       "       0, 0, 0, 0, 0, 0, 0, 0, 0, 0, 0, 0, 0, 0, 0, 0, 0])"
      ]
     },
     "execution_count": 25,
     "metadata": {},
     "output_type": "execute_result"
    }
   ],
   "source": [
    "# Targets\n",
    "y"
   ]
  },
  {
   "cell_type": "markdown",
   "metadata": {},
   "source": [
    "### Split the Data"
   ]
  },
  {
   "cell_type": "code",
   "execution_count": 26,
   "metadata": {},
   "outputs": [],
   "source": [
    "# Random seed for reproducibility\n",
    "np.random.seed(42)\n",
    "\n",
    "# Split into train & test set\n",
    "X_train, X_test, y_train, y_test = train_test_split(X,\n",
    "                                                    y,\n",
    "                                                    test_size = 0.2)"
   ]
  },
  {
   "cell_type": "code",
   "execution_count": 27,
   "metadata": {},
   "outputs": [
    {
     "data": {
      "text/html": [
       "<div>\n",
       "<style scoped>\n",
       "    .dataframe tbody tr th:only-of-type {\n",
       "        vertical-align: middle;\n",
       "    }\n",
       "\n",
       "    .dataframe tbody tr th {\n",
       "        vertical-align: top;\n",
       "    }\n",
       "\n",
       "    .dataframe thead th {\n",
       "        text-align: right;\n",
       "    }\n",
       "</style>\n",
       "<table border=\"1\" class=\"dataframe\">\n",
       "  <thead>\n",
       "    <tr style=\"text-align: right;\">\n",
       "      <th></th>\n",
       "      <th>age</th>\n",
       "      <th>sex</th>\n",
       "      <th>cp</th>\n",
       "      <th>trestbps</th>\n",
       "      <th>chol</th>\n",
       "      <th>fbs</th>\n",
       "      <th>restecg</th>\n",
       "      <th>thalach</th>\n",
       "      <th>exang</th>\n",
       "      <th>oldpeak</th>\n",
       "      <th>slope</th>\n",
       "      <th>ca</th>\n",
       "      <th>thal</th>\n",
       "    </tr>\n",
       "  </thead>\n",
       "  <tbody>\n",
       "    <tr>\n",
       "      <th>132</th>\n",
       "      <td>42</td>\n",
       "      <td>1</td>\n",
       "      <td>1</td>\n",
       "      <td>120</td>\n",
       "      <td>295</td>\n",
       "      <td>0</td>\n",
       "      <td>1</td>\n",
       "      <td>162</td>\n",
       "      <td>0</td>\n",
       "      <td>0.0</td>\n",
       "      <td>2</td>\n",
       "      <td>0</td>\n",
       "      <td>2</td>\n",
       "    </tr>\n",
       "    <tr>\n",
       "      <th>202</th>\n",
       "      <td>58</td>\n",
       "      <td>1</td>\n",
       "      <td>0</td>\n",
       "      <td>150</td>\n",
       "      <td>270</td>\n",
       "      <td>0</td>\n",
       "      <td>0</td>\n",
       "      <td>111</td>\n",
       "      <td>1</td>\n",
       "      <td>0.8</td>\n",
       "      <td>2</td>\n",
       "      <td>0</td>\n",
       "      <td>3</td>\n",
       "    </tr>\n",
       "    <tr>\n",
       "      <th>196</th>\n",
       "      <td>46</td>\n",
       "      <td>1</td>\n",
       "      <td>2</td>\n",
       "      <td>150</td>\n",
       "      <td>231</td>\n",
       "      <td>0</td>\n",
       "      <td>1</td>\n",
       "      <td>147</td>\n",
       "      <td>0</td>\n",
       "      <td>3.6</td>\n",
       "      <td>1</td>\n",
       "      <td>0</td>\n",
       "      <td>2</td>\n",
       "    </tr>\n",
       "    <tr>\n",
       "      <th>75</th>\n",
       "      <td>55</td>\n",
       "      <td>0</td>\n",
       "      <td>1</td>\n",
       "      <td>135</td>\n",
       "      <td>250</td>\n",
       "      <td>0</td>\n",
       "      <td>0</td>\n",
       "      <td>161</td>\n",
       "      <td>0</td>\n",
       "      <td>1.4</td>\n",
       "      <td>1</td>\n",
       "      <td>0</td>\n",
       "      <td>2</td>\n",
       "    </tr>\n",
       "    <tr>\n",
       "      <th>176</th>\n",
       "      <td>60</td>\n",
       "      <td>1</td>\n",
       "      <td>0</td>\n",
       "      <td>117</td>\n",
       "      <td>230</td>\n",
       "      <td>1</td>\n",
       "      <td>1</td>\n",
       "      <td>160</td>\n",
       "      <td>1</td>\n",
       "      <td>1.4</td>\n",
       "      <td>2</td>\n",
       "      <td>2</td>\n",
       "      <td>3</td>\n",
       "    </tr>\n",
       "  </tbody>\n",
       "</table>\n",
       "</div>"
      ],
      "text/plain": [
       "     age  sex  cp  trestbps  chol  fbs  restecg  thalach  exang  oldpeak  \\\n",
       "132   42    1   1       120   295    0        1      162      0      0.0   \n",
       "202   58    1   0       150   270    0        0      111      1      0.8   \n",
       "196   46    1   2       150   231    0        1      147      0      3.6   \n",
       "75    55    0   1       135   250    0        0      161      0      1.4   \n",
       "176   60    1   0       117   230    1        1      160      1      1.4   \n",
       "\n",
       "     slope  ca  thal  \n",
       "132      2   0     2  \n",
       "202      2   0     3  \n",
       "196      1   0     2  \n",
       "75       1   0     2  \n",
       "176      2   2     3  "
      ]
     },
     "execution_count": 27,
     "metadata": {},
     "output_type": "execute_result"
    }
   ],
   "source": [
    "X_train.head()"
   ]
  },
  {
   "cell_type": "code",
   "execution_count": 28,
   "metadata": {},
   "outputs": [
    {
     "data": {
      "text/plain": [
       "(array([1, 0, 0, 1, 0, 1, 1, 1, 0, 1, 1, 0, 1, 0, 1, 0, 0, 0, 1, 1, 0, 1,\n",
       "        1, 1, 0, 0, 1, 1, 1, 1, 1, 1, 1, 1, 1, 1, 1, 1, 0, 1, 1, 1, 0, 0,\n",
       "        1, 1, 1, 1, 0, 1, 0, 0, 1, 0, 1, 0, 1, 1, 0, 0, 0, 0, 0, 0, 0, 1,\n",
       "        0, 0, 0, 1, 1, 0, 0, 1, 1, 0, 1, 0, 0, 0, 0, 0, 1, 1, 1, 0, 1, 0,\n",
       "        0, 1, 1, 1, 1, 0, 1, 1, 0, 1, 0, 0, 1, 0, 1, 0, 1, 1, 1, 1, 1, 0,\n",
       "        1, 0, 1, 1, 0, 0, 1, 1, 0, 1, 1, 0, 1, 0, 1, 0, 0, 1, 0, 1, 0, 1,\n",
       "        1, 1, 1, 0, 0, 0, 1, 0, 0, 0, 1, 0, 1, 1, 1, 0, 1, 0, 0, 1, 1, 1,\n",
       "        1, 0, 1, 1, 0, 1, 1, 0, 1, 1, 1, 0, 0, 1, 1, 0, 1, 1, 0, 0, 1, 0,\n",
       "        0, 0, 0, 1, 1, 1, 0, 0, 0, 0, 1, 1, 0, 1, 0, 0, 0, 1, 1, 1, 1, 1,\n",
       "        1, 0, 1, 1, 1, 0, 0, 1, 1, 0, 0, 1, 0, 0, 1, 1, 0, 0, 0, 0, 0, 1,\n",
       "        1, 0, 0, 1, 1, 0, 0, 0, 1, 1, 1, 1, 1, 0, 1, 0, 1, 0, 1, 1, 0, 1]),\n",
       " 242)"
      ]
     },
     "execution_count": 28,
     "metadata": {},
     "output_type": "execute_result"
    }
   ],
   "source": [
    "y_train, len(y_train)"
   ]
  },
  {
   "cell_type": "code",
   "execution_count": 29,
   "metadata": {},
   "outputs": [
    {
     "data": {
      "text/html": [
       "<div>\n",
       "<style scoped>\n",
       "    .dataframe tbody tr th:only-of-type {\n",
       "        vertical-align: middle;\n",
       "    }\n",
       "\n",
       "    .dataframe tbody tr th {\n",
       "        vertical-align: top;\n",
       "    }\n",
       "\n",
       "    .dataframe thead th {\n",
       "        text-align: right;\n",
       "    }\n",
       "</style>\n",
       "<table border=\"1\" class=\"dataframe\">\n",
       "  <thead>\n",
       "    <tr style=\"text-align: right;\">\n",
       "      <th></th>\n",
       "      <th>age</th>\n",
       "      <th>sex</th>\n",
       "      <th>cp</th>\n",
       "      <th>trestbps</th>\n",
       "      <th>chol</th>\n",
       "      <th>fbs</th>\n",
       "      <th>restecg</th>\n",
       "      <th>thalach</th>\n",
       "      <th>exang</th>\n",
       "      <th>oldpeak</th>\n",
       "      <th>slope</th>\n",
       "      <th>ca</th>\n",
       "      <th>thal</th>\n",
       "    </tr>\n",
       "  </thead>\n",
       "  <tbody>\n",
       "    <tr>\n",
       "      <th>179</th>\n",
       "      <td>57</td>\n",
       "      <td>1</td>\n",
       "      <td>0</td>\n",
       "      <td>150</td>\n",
       "      <td>276</td>\n",
       "      <td>0</td>\n",
       "      <td>0</td>\n",
       "      <td>112</td>\n",
       "      <td>1</td>\n",
       "      <td>0.6</td>\n",
       "      <td>1</td>\n",
       "      <td>1</td>\n",
       "      <td>1</td>\n",
       "    </tr>\n",
       "    <tr>\n",
       "      <th>228</th>\n",
       "      <td>59</td>\n",
       "      <td>1</td>\n",
       "      <td>3</td>\n",
       "      <td>170</td>\n",
       "      <td>288</td>\n",
       "      <td>0</td>\n",
       "      <td>0</td>\n",
       "      <td>159</td>\n",
       "      <td>0</td>\n",
       "      <td>0.2</td>\n",
       "      <td>1</td>\n",
       "      <td>0</td>\n",
       "      <td>3</td>\n",
       "    </tr>\n",
       "    <tr>\n",
       "      <th>111</th>\n",
       "      <td>57</td>\n",
       "      <td>1</td>\n",
       "      <td>2</td>\n",
       "      <td>150</td>\n",
       "      <td>126</td>\n",
       "      <td>1</td>\n",
       "      <td>1</td>\n",
       "      <td>173</td>\n",
       "      <td>0</td>\n",
       "      <td>0.2</td>\n",
       "      <td>2</td>\n",
       "      <td>1</td>\n",
       "      <td>3</td>\n",
       "    </tr>\n",
       "    <tr>\n",
       "      <th>246</th>\n",
       "      <td>56</td>\n",
       "      <td>0</td>\n",
       "      <td>0</td>\n",
       "      <td>134</td>\n",
       "      <td>409</td>\n",
       "      <td>0</td>\n",
       "      <td>0</td>\n",
       "      <td>150</td>\n",
       "      <td>1</td>\n",
       "      <td>1.9</td>\n",
       "      <td>1</td>\n",
       "      <td>2</td>\n",
       "      <td>3</td>\n",
       "    </tr>\n",
       "    <tr>\n",
       "      <th>60</th>\n",
       "      <td>71</td>\n",
       "      <td>0</td>\n",
       "      <td>2</td>\n",
       "      <td>110</td>\n",
       "      <td>265</td>\n",
       "      <td>1</td>\n",
       "      <td>0</td>\n",
       "      <td>130</td>\n",
       "      <td>0</td>\n",
       "      <td>0.0</td>\n",
       "      <td>2</td>\n",
       "      <td>1</td>\n",
       "      <td>2</td>\n",
       "    </tr>\n",
       "  </tbody>\n",
       "</table>\n",
       "</div>"
      ],
      "text/plain": [
       "     age  sex  cp  trestbps  chol  fbs  restecg  thalach  exang  oldpeak  \\\n",
       "179   57    1   0       150   276    0        0      112      1      0.6   \n",
       "228   59    1   3       170   288    0        0      159      0      0.2   \n",
       "111   57    1   2       150   126    1        1      173      0      0.2   \n",
       "246   56    0   0       134   409    0        0      150      1      1.9   \n",
       "60    71    0   2       110   265    1        0      130      0      0.0   \n",
       "\n",
       "     slope  ca  thal  \n",
       "179      1   1     1  \n",
       "228      1   0     3  \n",
       "111      2   1     3  \n",
       "246      1   2     3  \n",
       "60       2   1     2  "
      ]
     },
     "execution_count": 29,
     "metadata": {},
     "output_type": "execute_result"
    }
   ],
   "source": [
    "X_test.head()"
   ]
  },
  {
   "cell_type": "code",
   "execution_count": 30,
   "metadata": {},
   "outputs": [
    {
     "data": {
      "text/plain": [
       "(array([0, 0, 1, 0, 1, 1, 1, 0, 0, 1, 1, 1, 1, 0, 1, 1, 1, 0, 0, 0, 1, 0,\n",
       "        0, 1, 1, 0, 0, 1, 0, 1, 1, 0, 0, 1, 1, 0, 1, 1, 1, 1, 1, 1, 1, 1,\n",
       "        1, 0, 0, 1, 0, 0, 0, 0, 1, 1, 0, 0, 0, 1, 0, 0, 0]),\n",
       " 61)"
      ]
     },
     "execution_count": 30,
     "metadata": {},
     "output_type": "execute_result"
    }
   ],
   "source": [
    "y_test, len(y_test)"
   ]
  },
  {
   "cell_type": "markdown",
   "metadata": {},
   "source": [
    "### Model choices\n",
    "\n",
    "Initial Model choices before gradient boosted algorithms.\n",
    "\n",
    "1. Logistic Regression - [`LogisticRegression()`](https://scikit-learn.org/stable/modules/generated/sklearn.linear_model.LogisticRegression.html)\n",
    "2. K-Nearest Neighbors - [`KNeighboursClassifier()`](https://scikit-learn.org/stable/modules/generated/sklearn.neighbors.KNeighborsClassifier.html)\n",
    "3. RandomForest - [`RandomForestClassifier()`](https://scikit-learn.org/stable/modules/generated/sklearn.ensemble.RandomForestClassifier.html)"
   ]
  },
  {
   "cell_type": "code",
   "execution_count": 44,
   "metadata": {},
   "outputs": [],
   "source": [
    "# Put models in a dictionary\n",
    "models = {\"KNN\": KNeighborsClassifier(),\n",
    "          \"Logistic Regression\": LogisticRegression(max_iter=10000), \n",
    "          \"Random Forest\": RandomForestClassifier()}\n",
    "\n",
    "# Create function to fit and score models\n",
    "def fit_and_score(models, X_train, X_test, y_train, y_test):\n",
    "    \"\"\"\n",
    "    Fits and evaluates given machine learning models.\n",
    "    models : a dict of different models\n",
    "    X_train : training data\n",
    "    X_test : testing data\n",
    "    y_train : labels assosciated with training data\n",
    "    y_test : labels assosciated with test data\n",
    "    \"\"\"\n",
    "    np.random.seed(42)\n",
    "    # Make a list to keep model scores\n",
    "    model_scores = {}\n",
    "    # Loop through models\n",
    "    for name, model in models.items():\n",
    "        # Fit the model to the data\n",
    "        model.fit(X_train, y_train)\n",
    "        # Evaluate the model and append its score to model_scores\n",
    "        model_scores[name] = model.score(X_test, y_test)\n",
    "    return model_scores"
   ]
  },
  {
   "cell_type": "code",
   "execution_count": 45,
   "metadata": {},
   "outputs": [
    {
     "data": {
      "text/plain": [
       "{'KNN': 0.6885245901639344,\n",
       " 'Logistic Regression': 0.8852459016393442,\n",
       " 'Random Forest': 0.8360655737704918}"
      ]
     },
     "execution_count": 45,
     "metadata": {},
     "output_type": "execute_result"
    }
   ],
   "source": [
    "model_scores = fit_and_score(models=models,\n",
    "                             X_train=X_train,\n",
    "                             X_test=X_test,\n",
    "                             y_train=y_train,\n",
    "                             y_test=y_test)\n",
    "model_scores"
   ]
  },
  {
   "cell_type": "markdown",
   "metadata": {},
   "source": [
    "## Model Comparison"
   ]
  },
  {
   "cell_type": "code",
   "execution_count": 46,
   "metadata": {},
   "outputs": [
    {
     "data": {
      "image/png": "[encoded data removed]",
      "text/plain": [
       "<Figure size 432x288 with 1 Axes>"
      ]
     },
     "metadata": {
      "needs_background": "light"
     },
     "output_type": "display_data"
    }
   ],
   "source": [
    "model_compare = pd.DataFrame(model_scores, index=['accuracy'])\n",
    "model_compare.T.plot.bar();"
   ]
  },
  {
   "cell_type": "markdown",
   "metadata": {},
   "source": [
    "Next..\n",
    "\n",
    "* **Hyperparameter tuning** - Each model you use has a series of dials you can turn to dictate how they perform. Changing these values may increase or decrease model performance.\n",
    "* **Feature importance** - If there are a large amount of features we're using to make predictions, do some have more importance than others? For example, for predicting heart disease, which is more important, sex or age?\n",
    "* [**Confusion matrix**](https://www.dataschool.io/simple-guide-to-confusion-matrix-terminology/) - Compares the predicted values with the true values in a tabular way, if 100% correct, all values in the matrix will be top left to bottom right (diagnol line).\n",
    "* [**Cross-validation**](https://scikit-learn.org/stable/modules/cross_validation.html) - Splits your dataset into multiple parts and train and tests your model on each part and evaluates performance as an average. \n",
    "* [**Precision**](https://scikit-learn.org/stable/modules/generated/sklearn.metrics.precision_score.html#sklearn.metrics.precision_score) - Proportion of true positives over total number of samples. Higher precision leads to less false positives.\n",
    "* [**Recall**](https://scikit-learn.org/stable/modules/generated/sklearn.metrics.recall_score.html#sklearn.metrics.recall_score) - Proportion of true positives over total number of true positives and false negatives. Higher recall leads to less false negatives.\n",
    "* [**F1 score**](https://scikit-learn.org/stable/modules/generated/sklearn.metrics.f1_score.html#sklearn.metrics.f1_score) - Combines precision and recall into one metric. 1 is best, 0 is worst.\n",
    "* [**Classification report**](https://scikit-learn.org/stable/modules/generated/sklearn.metrics.classification_report.html) - Sklearn has a built-in function called `classification_report()` which returns some of the main classification metrics such as precision, recall and f1-score.\n",
    "* [**ROC Curve**](https://scikit-learn.org/stable/modules/generated/sklearn.metrics.roc_score.html) - [Receiver Operating Characterisitc](https://en.wikipedia.org/wiki/Receiver_operating_characteristic) is a plot of true positive rate versus false positive rate.\n",
    "* [**Area Under Curve (AUC)**](https://scikit-learn.org/stable/modules/generated/sklearn.metrics.roc_auc_score.html) - The area underneath the ROC curve. A perfect model achieves a score of 1.0."
   ]
  },
  {
   "cell_type": "markdown",
   "metadata": {},
   "source": [
    "## Hyperparameter tuning and cross-validation\n",
    "\n",
    "Here's the game plan:\n",
    "1. Tune model hyperparameters, see which performs best\n",
    "2. Perform cross-validation\n",
    "3. Plot ROC curves\n",
    "4. Make a confusion matrix\n",
    "5. Get precision, recall and F1-score metrics\n",
    "6. Find the most important model features"
   ]
  },
  {
   "cell_type": "markdown",
   "metadata": {},
   "source": [
    "### Tune KNeighborsClassifier (K-Nearest Neighbors or KNN) by hand"
   ]
  },
  {
   "cell_type": "code",
   "execution_count": 47,
   "metadata": {},
   "outputs": [],
   "source": [
    "# Create a list of train scores\n",
    "train_scores = []\n",
    "\n",
    "# Create a list of test scores\n",
    "test_scores = []\n",
    "\n",
    "# Create a list of different values for n_neighbors\n",
    "neighbors = range(1, 21) # 1 to 20\n",
    "\n",
    "# Setup model\n",
    "knn = KNeighborsClassifier()\n",
    "\n",
    "# Loop through different neighbors values\n",
    "for i in neighbors:\n",
    "    knn.set_params(n_neighbors = i) # set neighbors value\n",
    "    \n",
    "    # Fit the algorithm\n",
    "    knn.fit(X_train, y_train)\n",
    "    \n",
    "    # Update the training scores\n",
    "    train_scores.append(knn.score(X_train, y_train))\n",
    "    \n",
    "    # Update the test scores\n",
    "    test_scores.append(knn.score(X_test, y_test))"
   ]
  },
  {
   "cell_type": "code",
   "execution_count": 49,
   "metadata": {},
   "outputs": [
    {
     "name": "stdout",
     "output_type": "stream",
     "text": [
      "Maximum KNN score on the test data: 75.41%\n"
     ]
    },
    {
     "data": {
      "image/png": "[encoded data removed]",
      "text/plain": [
       "<Figure size 432x288 with 1 Axes>"
      ]
     },
     "metadata": {
      "needs_background": "light"
     },
     "output_type": "display_data"
    }
   ],
   "source": [
    "plt.plot(neighbors, train_scores, label=\"Train score\")\n",
    "plt.plot(neighbors, test_scores, label=\"Test score\")\n",
    "plt.xticks(np.arange(1, 21, 1))\n",
    "plt.xlabel(\"Number of neighbors\")\n",
    "plt.ylabel(\"Model score\")\n",
    "plt.legend()\n",
    "\n",
    "print(f\"Maximum KNN score on the test data: {max(test_scores)*100:.2f}%\")"
   ]
  },
  {
   "cell_type": "markdown",
   "metadata": {},
   "source": [
    "KNN never gets close to Logistic Regression so I will discard the model for now.\n",
    "\n",
    "### Randomized Search Tuning"
   ]
  },
  {
   "cell_type": "code",
   "execution_count": 50,
   "metadata": {},
   "outputs": [],
   "source": [
    "# LogisticRegression hyperparameters\n",
    "log_reg_grid = {\"C\": np.logspace(-4, 4, 20),\n",
    "                \"solver\": [\"liblinear\"]}\n",
    "\n",
    "# RandomForestClassifier hyperparameters\n",
    "rf_grid = {\"n_estimators\": np.arange(10, 1000, 50),\n",
    "           \"max_depth\": [None, 3, 5, 10],\n",
    "           \"min_samples_split\": np.arange(2, 20, 2),\n",
    "           \"min_samples_leaf\": np.arange(1, 20, 2)}"
   ]
  },
  {
   "cell_type": "code",
   "execution_count": 51,
   "metadata": {},
   "outputs": [
    {
     "name": "stdout",
     "output_type": "stream",
     "text": [
      "Fitting 5 folds for each of 20 candidates, totalling 100 fits\n"
     ]
    },
    {
     "name": "stderr",
     "output_type": "stream",
     "text": [
      "[Parallel(n_jobs=1)]: Using backend SequentialBackend with 1 concurrent workers.\n",
      "[Parallel(n_jobs=1)]: Done 100 out of 100 | elapsed:    0.4s finished\n"
     ]
    }
   ],
   "source": [
    "# Setup random seed\n",
    "np.random.seed(42)\n",
    "\n",
    "# Setup random hyperparameter search for LogisticRegression\n",
    "rs_log_reg = RandomizedSearchCV(LogisticRegression(),\n",
    "                                param_distributions=log_reg_grid,\n",
    "                                cv=5,\n",
    "                                n_iter=20,\n",
    "                                verbose=True)\n",
    "\n",
    "# Fit random hyperparameter search model\n",
    "rs_log_reg.fit(X_train, y_train);"
   ]
  },
  {
   "cell_type": "code",
   "execution_count": 52,
   "metadata": {},
   "outputs": [
    {
     "data": {
      "text/plain": [
       "{'solver': 'liblinear', 'C': 0.23357214690901212}"
      ]
     },
     "execution_count": 52,
     "metadata": {},
     "output_type": "execute_result"
    }
   ],
   "source": [
    "rs_log_reg.best_params_"
   ]
  },
  {
   "cell_type": "code",
   "execution_count": 53,
   "metadata": {},
   "outputs": [
    {
     "data": {
      "text/plain": [
       "0.8852459016393442"
      ]
     },
     "execution_count": 53,
     "metadata": {},
     "output_type": "execute_result"
    }
   ],
   "source": [
    "rs_log_reg.score(X_test, y_test)"
   ]
  },
  {
   "cell_type": "markdown",
   "metadata": {},
   "source": [
    "Now I've tuned `LogisticRegression` using `RandomizedSearchCV`, I'll do the same for `RandomForestClassifier`."
   ]
  },
  {
   "cell_type": "code",
   "execution_count": 57,
   "metadata": {},
   "outputs": [
    {
     "name": "stdout",
     "output_type": "stream",
     "text": [
      "Fitting 5 folds for each of 20 candidates, totalling 100 fits\n"
     ]
    },
    {
     "name": "stderr",
     "output_type": "stream",
     "text": [
      "[Parallel(n_jobs=1)]: Using backend SequentialBackend with 1 concurrent workers.\n",
      "[Parallel(n_jobs=1)]: Done 100 out of 100 | elapsed:   46.6s finished\n"
     ]
    }
   ],
   "source": [
    "# Setup random seed\n",
    "np.random.seed(42)\n",
    "\n",
    "# Setup random hyperparameter search for RandomForestClassifier\n",
    "rs_rf = RandomizedSearchCV(RandomForestClassifier(),\n",
    "                           param_distributions=rf_grid,\n",
    "                           cv=5,\n",
    "                           n_iter=20,\n",
    "                           verbose=True)\n",
    "\n",
    "# Fit random hyperparameter search model\n",
    "rs_rf.fit(X_train, y_train);"
   ]
  },
  {
   "cell_type": "code",
   "execution_count": 58,
   "metadata": {},
   "outputs": [
    {
     "data": {
      "text/plain": [
       "{'n_estimators': 210,\n",
       " 'min_samples_split': 4,\n",
       " 'min_samples_leaf': 19,\n",
       " 'max_depth': 3}"
      ]
     },
     "execution_count": 58,
     "metadata": {},
     "output_type": "execute_result"
    }
   ],
   "source": [
    "# Find the best parameters\n",
    "rs_rf.best_params_"
   ]
  },
  {
   "cell_type": "code",
   "execution_count": 59,
   "metadata": {},
   "outputs": [
    {
     "data": {
      "text/plain": [
       "0.8688524590163934"
      ]
     },
     "execution_count": 59,
     "metadata": {},
     "output_type": "execute_result"
    }
   ],
   "source": [
    "# Evaluate the randomized search random forest model\n",
    "rs_rf.score(X_test, y_test)"
   ]
  },
  {
   "cell_type": "markdown",
   "metadata": {},
   "source": [
    "We can try GridSearchCV, which uses every possible combination of hyperparams..."
   ]
  },
  {
   "cell_type": "code",
   "execution_count": 60,
   "metadata": {},
   "outputs": [
    {
     "name": "stdout",
     "output_type": "stream",
     "text": [
      "Fitting 5 folds for each of 20 candidates, totalling 100 fits\n"
     ]
    },
    {
     "name": "stderr",
     "output_type": "stream",
     "text": [
      "[Parallel(n_jobs=1)]: Using backend SequentialBackend with 1 concurrent workers.\n",
      "[Parallel(n_jobs=1)]: Done 100 out of 100 | elapsed:    0.4s finished\n"
     ]
    }
   ],
   "source": [
    "# Different LogisticRegression hyperparameters\n",
    "log_reg_grid = {\"C\": np.logspace(-4, 4, 20),\n",
    "                \"solver\": [\"liblinear\"]}\n",
    "\n",
    "# Setup grid hyperparameter search for LogisticRegression\n",
    "gs_log_reg = GridSearchCV(LogisticRegression(),\n",
    "                          param_grid=log_reg_grid,\n",
    "                          cv=5,\n",
    "                          verbose=True)\n",
    "\n",
    "# Fit grid hyperparameter search model\n",
    "gs_log_reg.fit(X_train, y_train);"
   ]
  },
  {
   "cell_type": "code",
   "execution_count": 61,
   "metadata": {},
   "outputs": [
    {
     "data": {
      "text/plain": [
       "{'C': 0.23357214690901212, 'solver': 'liblinear'}"
      ]
     },
     "execution_count": 61,
     "metadata": {},
     "output_type": "execute_result"
    }
   ],
   "source": [
    "# Check the best parameters\n",
    "gs_log_reg.best_params_"
   ]
  },
  {
   "cell_type": "code",
   "execution_count": 62,
   "metadata": {},
   "outputs": [
    {
     "data": {
      "text/plain": [
       "0.8852459016393442"
      ]
     },
     "execution_count": 62,
     "metadata": {},
     "output_type": "execute_result"
    }
   ],
   "source": [
    "# Evaluate the model\n",
    "gs_log_reg.score(X_test, y_test)"
   ]
  },
  {
   "cell_type": "markdown",
   "metadata": {},
   "source": [
    "## Evaluating a classification model, beyond accuracy\n",
    "\n",
    "We want:\n",
    "* ROC curve and AUC score \n",
    "* Confusion matrix \n",
    "* Classification report \n",
    "* Precision \n",
    "* Recall\n",
    "* F1-score"
   ]
  },
  {
   "cell_type": "code",
   "execution_count": 65,
   "metadata": {},
   "outputs": [
    {
     "data": {
      "text/plain": [
       "array([0, 1, 1, 0, 1, 1, 1, 0, 0, 1, 1, 0, 1, 0, 1, 1, 1, 0, 0, 0, 1, 0,\n",
       "       0, 1, 1, 1, 1, 1, 0, 1, 0, 0, 0, 0, 1, 0, 1, 1, 1, 1, 1, 1, 1, 1,\n",
       "       1, 0, 1, 1, 0, 0, 0, 0, 1, 1, 0, 0, 0, 1, 0, 0, 0])"
      ]
     },
     "execution_count": 65,
     "metadata": {},
     "output_type": "execute_result"
    }
   ],
   "source": [
    "# Make preidctions on test data\n",
    "y_preds = gs_log_reg.predict(X_test)\n",
    "y_preds"
   ]
  },
  {
   "cell_type": "code",
   "execution_count": 66,
   "metadata": {},
   "outputs": [
    {
     "data": {
      "text/plain": [
       "array([0, 0, 1, 0, 1, 1, 1, 0, 0, 1, 1, 1, 1, 0, 1, 1, 1, 0, 0, 0, 1, 0,\n",
       "       0, 1, 1, 0, 0, 1, 0, 1, 1, 0, 0, 1, 1, 0, 1, 1, 1, 1, 1, 1, 1, 1,\n",
       "       1, 0, 0, 1, 0, 0, 0, 0, 1, 1, 0, 0, 0, 1, 0, 0, 0])"
      ]
     },
     "execution_count": 66,
     "metadata": {},
     "output_type": "execute_result"
    }
   ],
   "source": [
    "y_test"
   ]
  },
  {
   "cell_type": "markdown",
   "metadata": {},
   "source": [
    "### ROC Curve and AUC Scores\n",
    "\n",
    "Going forward I will use gs_log_reg as it produced the best accuracy."
   ]
  },
  {
   "cell_type": "code",
   "execution_count": 67,
   "metadata": {},
   "outputs": [
    {
     "data": {
      "image/png": "[encoded data removed]",
      "text/plain": [
       "<Figure size 432x288 with 1 Axes>"
      ]
     },
     "metadata": {
      "needs_background": "light"
     },
     "output_type": "display_data"
    }
   ],
   "source": [
    "# Import ROC curve function from metrics module\n",
    "from sklearn.metrics import plot_roc_curve\n",
    "\n",
    "# Plot ROC curve and calculate AUC metric\n",
    "plot_roc_curve(gs_log_reg, X_test, y_test);"
   ]
  },
  {
   "cell_type": "markdown",
   "metadata": {},
   "source": [
    "AUC is decent.....But could improve.\n",
    "\n",
    "### Confusion matrix "
   ]
  },
  {
   "cell_type": "code",
   "execution_count": 68,
   "metadata": {},
   "outputs": [
    {
     "name": "stdout",
     "output_type": "stream",
     "text": [
      "[[25  4]\n",
      " [ 3 29]]\n"
     ]
    }
   ],
   "source": [
    "# Display confusion matrix\n",
    "print(confusion_matrix(y_test, y_preds))"
   ]
  },
  {
   "cell_type": "code",
   "execution_count": 70,
   "metadata": {},
   "outputs": [
    {
     "data": {
      "image/png": "[encoded data removed]",
      "text/plain": [
       "<Figure size 216x216 with 1 Axes>"
      ]
     },
     "metadata": {},
     "output_type": "display_data"
    }
   ],
   "source": [
    "sns.set(font_scale=1.8) # Increase font size\n",
    "\n",
    "def plot_conf_mat(y_test, y_preds):\n",
    "    \"\"\"\n",
    "    Plot a confusion matrix using Seaborn's heatmap().\n",
    "    \"\"\"\n",
    "    fig, ax = plt.subplots(figsize=(3, 3))\n",
    "    ax = sns.heatmap(confusion_matrix(y_test, y_preds),\n",
    "                     annot=True, # Annotate the boxes\n",
    "                     cbar=False)\n",
    "    plt.xlabel(\"true label\")\n",
    "    plt.ylabel(\"predicted label\")\n",
    "    \n",
    "plot_conf_mat(y_test, y_preds)"
   ]
  },
  {
   "cell_type": "markdown",
   "metadata": {},
   "source": [
    "Similar error spread across positive and negative truth labels."
   ]
  },
  {
   "cell_type": "markdown",
   "metadata": {},
   "source": [
    "### Classification report"
   ]
  },
  {
   "cell_type": "code",
   "execution_count": 71,
   "metadata": {},
   "outputs": [
    {
     "name": "stdout",
     "output_type": "stream",
     "text": [
      "              precision    recall  f1-score   support\n",
      "\n",
      "           0       0.89      0.86      0.88        29\n",
      "           1       0.88      0.91      0.89        32\n",
      "\n",
      "    accuracy                           0.89        61\n",
      "   macro avg       0.89      0.88      0.88        61\n",
      "weighted avg       0.89      0.89      0.89        61\n",
      "\n"
     ]
    }
   ],
   "source": [
    "# Show classification report\n",
    "print(classification_report(y_test, y_preds))"
   ]
  },
  {
   "cell_type": "code",
   "execution_count": 72,
   "metadata": {},
   "outputs": [
    {
     "data": {
      "text/plain": [
       "{'C': 0.23357214690901212, 'solver': 'liblinear'}"
      ]
     },
     "execution_count": 72,
     "metadata": {},
     "output_type": "execute_result"
    }
   ],
   "source": [
    "# Check best hyperparameters\n",
    "gs_log_reg.best_params_"
   ]
  },
  {
   "cell_type": "code",
   "execution_count": 74,
   "metadata": {},
   "outputs": [],
   "source": [
    "# Instantiate best model with best hyperparameters (found with GridSearchCV)\n",
    "clf = LogisticRegression(C=0.23357214690901212,\n",
    "                         solver=\"liblinear\")"
   ]
  },
  {
   "cell_type": "code",
   "execution_count": 75,
   "metadata": {},
   "outputs": [
    {
     "data": {
      "text/plain": [
       "array([0.81967213, 0.90163934, 0.8852459 , 0.88333333, 0.75      ])"
      ]
     },
     "execution_count": 75,
     "metadata": {},
     "output_type": "execute_result"
    }
   ],
   "source": [
    "# Cross-validated accuracy score\n",
    "cv_acc = cross_val_score(clf,\n",
    "                         X,\n",
    "                         y,\n",
    "                         cv=5, # 5-fold cross-validation\n",
    "                         scoring=\"accuracy\") # accuracy as scoring\n",
    "cv_acc"
   ]
  },
  {
   "cell_type": "markdown",
   "metadata": {},
   "source": [
    "Since there are 5 metrics here, we'll take the average."
   ]
  },
  {
   "cell_type": "code",
   "execution_count": 76,
   "metadata": {},
   "outputs": [
    {
     "data": {
      "text/plain": [
       "0.8479781420765027"
      ]
     },
     "execution_count": 76,
     "metadata": {},
     "output_type": "execute_result"
    }
   ],
   "source": [
    "cv_acc = np.mean(cv_acc)\n",
    "cv_acc"
   ]
  },
  {
   "cell_type": "markdown",
   "metadata": {},
   "source": [
    "Now we'll do the same for other classification metrics."
   ]
  },
  {
   "cell_type": "code",
   "execution_count": 77,
   "metadata": {},
   "outputs": [
    {
     "data": {
      "text/plain": [
       "0.8215873015873015"
      ]
     },
     "execution_count": 77,
     "metadata": {},
     "output_type": "execute_result"
    }
   ],
   "source": [
    "# Cross-validated precision score\n",
    "cv_precision = np.mean(cross_val_score(clf,\n",
    "                                       X,\n",
    "                                       y,\n",
    "                                       cv=5, # 5-fold cross-validation\n",
    "                                       scoring=\"precision\")) # precision as scoring\n",
    "cv_precision"
   ]
  },
  {
   "cell_type": "code",
   "execution_count": 78,
   "metadata": {},
   "outputs": [
    {
     "data": {
      "text/plain": [
       "0.9272727272727274"
      ]
     },
     "execution_count": 78,
     "metadata": {},
     "output_type": "execute_result"
    }
   ],
   "source": [
    "# Cross-validated recall score\n",
    "cv_recall = np.mean(cross_val_score(clf,\n",
    "                                    X,\n",
    "                                    y,\n",
    "                                    cv=5, # 5-fold cross-validation\n",
    "                                    scoring=\"recall\")) # recall as scoring\n",
    "cv_recall"
   ]
  },
  {
   "cell_type": "code",
   "execution_count": 79,
   "metadata": {},
   "outputs": [
    {
     "data": {
      "text/plain": [
       "0.8705403543192143"
      ]
     },
     "execution_count": 79,
     "metadata": {},
     "output_type": "execute_result"
    }
   ],
   "source": [
    "# Cross-validated F1 score\n",
    "cv_f1 = np.mean(cross_val_score(clf,\n",
    "                                X,\n",
    "                                y,\n",
    "                                cv=5, # 5-fold cross-validation\n",
    "                                scoring=\"f1\")) # f1 as scoring\n",
    "cv_f1"
   ]
  },
  {
   "cell_type": "markdown",
   "metadata": {},
   "source": [
    "Visualize"
   ]
  },
  {
   "cell_type": "code",
   "execution_count": 80,
   "metadata": {},
   "outputs": [
    {
     "data": {
      "image/png": "[encoded data removed]",
      "text/plain": [
       "<Figure size 432x288 with 1 Axes>"
      ]
     },
     "metadata": {},
     "output_type": "display_data"
    }
   ],
   "source": [
    "# Visualizing cross-validated metrics\n",
    "cv_metrics = pd.DataFrame({\"Accuracy\": cv_acc,\n",
    "                            \"Precision\": cv_precision,\n",
    "                            \"Recall\": cv_recall,\n",
    "                            \"F1\": cv_f1},\n",
    "                          index=[0])\n",
    "cv_metrics.T.plot.bar(title=\"Cross-Validated Metrics\", legend=False);"
   ]
  },
  {
   "cell_type": "markdown",
   "metadata": {},
   "source": [
    "## Feature importance"
   ]
  },
  {
   "cell_type": "code",
   "execution_count": 81,
   "metadata": {},
   "outputs": [],
   "source": [
    "# Fit an instance of LogisticRegression\n",
    "clf.fit(X_train, y_train);"
   ]
  },
  {
   "cell_type": "code",
   "execution_count": 82,
   "metadata": {},
   "outputs": [
    {
     "data": {
      "text/plain": [
       "array([[ 0.00369922, -0.9042409 ,  0.67472826, -0.0116134 , -0.00170364,\n",
       "         0.04787688,  0.33490198,  0.02472938, -0.63120406, -0.5759095 ,\n",
       "         0.47095141, -0.65165348, -0.69984208]])"
      ]
     },
     "execution_count": 82,
     "metadata": {},
     "output_type": "execute_result"
    }
   ],
   "source": [
    "# Check coef_\n",
    "clf.coef_"
   ]
  },
  {
   "cell_type": "code",
   "execution_count": 83,
   "metadata": {},
   "outputs": [
    {
     "data": {
      "text/plain": [
       "{'age': 0.003699220776580221,\n",
       " 'sex': -0.9042409028785717,\n",
       " 'cp': 0.6747282587404362,\n",
       " 'trestbps': -0.011613401339975146,\n",
       " 'chol': -0.0017036439067759743,\n",
       " 'fbs': 0.047876881148997324,\n",
       " 'restecg': 0.3349019815885189,\n",
       " 'thalach': 0.02472938284108309,\n",
       " 'exang': -0.6312040612837573,\n",
       " 'oldpeak': -0.5759095045469952,\n",
       " 'slope': 0.4709514073081419,\n",
       " 'ca': -0.6516534770577476,\n",
       " 'thal': -0.6998420764664995}"
      ]
     },
     "execution_count": 83,
     "metadata": {},
     "output_type": "execute_result"
    }
   ],
   "source": [
    "# Match features to columns\n",
    "features_dict = dict(zip(df.columns, list(clf.coef_[0])))\n",
    "features_dict"
   ]
  },
  {
   "cell_type": "markdown",
   "metadata": {},
   "source": [
    "Now we've match the feature coefficients to different features, let's visualize them. "
   ]
  },
  {
   "cell_type": "code",
   "execution_count": 84,
   "metadata": {},
   "outputs": [
    {
     "data": {
      "image/png": "[encoded data removed]",
      "text/plain": [
       "<Figure size 432x288 with 1 Axes>"
      ]
     },
     "metadata": {},
     "output_type": "display_data"
    }
   ],
   "source": [
    "# Visualize feature importance\n",
    "features_df = pd.DataFrame(features_dict, index=[0])\n",
    "features_df.T.plot.bar(title=\"Feature Importance\", legend=False);"
   ]
  },
  {
   "cell_type": "code",
   "execution_count": 85,
   "metadata": {},
   "outputs": [
    {
     "data": {
      "text/html": [
       "<div>\n",
       "<style scoped>\n",
       "    .dataframe tbody tr th:only-of-type {\n",
       "        vertical-align: middle;\n",
       "    }\n",
       "\n",
       "    .dataframe tbody tr th {\n",
       "        vertical-align: top;\n",
       "    }\n",
       "\n",
       "    .dataframe thead th {\n",
       "        text-align: right;\n",
       "    }\n",
       "</style>\n",
       "<table border=\"1\" class=\"dataframe\">\n",
       "  <thead>\n",
       "    <tr style=\"text-align: right;\">\n",
       "      <th>target</th>\n",
       "      <th>0</th>\n",
       "      <th>1</th>\n",
       "    </tr>\n",
       "    <tr>\n",
       "      <th>sex</th>\n",
       "      <th></th>\n",
       "      <th></th>\n",
       "    </tr>\n",
       "  </thead>\n",
       "  <tbody>\n",
       "    <tr>\n",
       "      <th>0</th>\n",
       "      <td>24</td>\n",
       "      <td>72</td>\n",
       "    </tr>\n",
       "    <tr>\n",
       "      <th>1</th>\n",
       "      <td>114</td>\n",
       "      <td>93</td>\n",
       "    </tr>\n",
       "  </tbody>\n",
       "</table>\n",
       "</div>"
      ],
      "text/plain": [
       "target    0   1\n",
       "sex            \n",
       "0        24  72\n",
       "1       114  93"
      ]
     },
     "execution_count": 85,
     "metadata": {},
     "output_type": "execute_result"
    }
   ],
   "source": [
    "pd.crosstab(df[\"sex\"], df[\"target\"])"
   ]
  },
  {
   "cell_type": "code",
   "execution_count": 86,
   "metadata": {},
   "outputs": [
    {
     "data": {
      "text/html": [
       "<div>\n",
       "<style scoped>\n",
       "    .dataframe tbody tr th:only-of-type {\n",
       "        vertical-align: middle;\n",
       "    }\n",
       "\n",
       "    .dataframe tbody tr th {\n",
       "        vertical-align: top;\n",
       "    }\n",
       "\n",
       "    .dataframe thead th {\n",
       "        text-align: right;\n",
       "    }\n",
       "</style>\n",
       "<table border=\"1\" class=\"dataframe\">\n",
       "  <thead>\n",
       "    <tr style=\"text-align: right;\">\n",
       "      <th>target</th>\n",
       "      <th>0</th>\n",
       "      <th>1</th>\n",
       "    </tr>\n",
       "    <tr>\n",
       "      <th>slope</th>\n",
       "      <th></th>\n",
       "      <th></th>\n",
       "    </tr>\n",
       "  </thead>\n",
       "  <tbody>\n",
       "    <tr>\n",
       "      <th>0</th>\n",
       "      <td>12</td>\n",
       "      <td>9</td>\n",
       "    </tr>\n",
       "    <tr>\n",
       "      <th>1</th>\n",
       "      <td>91</td>\n",
       "      <td>49</td>\n",
       "    </tr>\n",
       "    <tr>\n",
       "      <th>2</th>\n",
       "      <td>35</td>\n",
       "      <td>107</td>\n",
       "    </tr>\n",
       "  </tbody>\n",
       "</table>\n",
       "</div>"
      ],
      "text/plain": [
       "target   0    1\n",
       "slope          \n",
       "0       12    9\n",
       "1       91   49\n",
       "2       35  107"
      ]
     },
     "execution_count": 86,
     "metadata": {},
     "output_type": "execute_result"
    }
   ],
   "source": [
    "# Contrast slope (positive coefficient) with target\n",
    "pd.crosstab(df[\"slope\"], df[\"target\"])"
   ]
  },
  {
   "cell_type": "markdown",
   "metadata": {},
   "source": [
    "## Conclusion\n",
    "\n",
    "We did not reach the required accuracy. Lets try a different model to check if its possible to improve without getting more data."
   ]
  },
  {
   "cell_type": "markdown",
   "metadata": {},
   "source": [
    "## CatBoost"
   ]
  },
  {
   "cell_type": "code",
   "execution_count": 87,
   "metadata": {},
   "outputs": [],
   "source": [
    "import catboost"
   ]
  },
  {
   "cell_type": "code",
   "execution_count": 142,
   "metadata": {},
   "outputs": [
    {
     "name": "stdout",
     "output_type": "stream",
     "text": [
      "0:\tlearn: 0.5115848\ttotal: 1.61ms\tremaining: 1.61s\n",
      "1:\tlearn: 0.4178046\ttotal: 3.23ms\tremaining: 1.61s\n",
      "2:\tlearn: 0.3393753\ttotal: 4.63ms\tremaining: 1.54s\n",
      "3:\tlearn: 0.3195313\ttotal: 6.34ms\tremaining: 1.58s\n",
      "4:\tlearn: 0.3096905\ttotal: 7.85ms\tremaining: 1.56s\n",
      "5:\tlearn: 0.2953947\ttotal: 9.26ms\tremaining: 1.53s\n",
      "6:\tlearn: 0.2853242\ttotal: 10.7ms\tremaining: 1.51s\n",
      "7:\tlearn: 0.2679915\ttotal: 12ms\tremaining: 1.48s\n",
      "8:\tlearn: 0.2631805\ttotal: 13.2ms\tremaining: 1.46s\n",
      "9:\tlearn: 0.2475305\ttotal: 14.7ms\tremaining: 1.45s\n",
      "10:\tlearn: 0.2284239\ttotal: 16ms\tremaining: 1.44s\n",
      "11:\tlearn: 0.2278713\ttotal: 17.1ms\tremaining: 1.41s\n",
      "12:\tlearn: 0.2234822\ttotal: 18.2ms\tremaining: 1.38s\n",
      "13:\tlearn: 0.2130235\ttotal: 19.8ms\tremaining: 1.4s\n",
      "14:\tlearn: 0.2057947\ttotal: 21.3ms\tremaining: 1.4s\n",
      "15:\tlearn: 0.1987633\ttotal: 22.3ms\tremaining: 1.37s\n",
      "16:\tlearn: 0.1954019\ttotal: 24ms\tremaining: 1.39s\n",
      "17:\tlearn: 0.1950468\ttotal: 25.5ms\tremaining: 1.39s\n",
      "18:\tlearn: 0.1901466\ttotal: 26.7ms\tremaining: 1.38s\n",
      "19:\tlearn: 0.1848719\ttotal: 27.8ms\tremaining: 1.36s\n",
      "20:\tlearn: 0.1818393\ttotal: 28.9ms\tremaining: 1.35s\n",
      "21:\tlearn: 0.1707078\ttotal: 30ms\tremaining: 1.33s\n",
      "22:\tlearn: 0.1687270\ttotal: 31.3ms\tremaining: 1.33s\n",
      "23:\tlearn: 0.1681651\ttotal: 33ms\tremaining: 1.34s\n",
      "24:\tlearn: 0.1647340\ttotal: 34.5ms\tremaining: 1.34s\n",
      "25:\tlearn: 0.1627939\ttotal: 35.9ms\tremaining: 1.35s\n",
      "26:\tlearn: 0.1606027\ttotal: 37.2ms\tremaining: 1.34s\n",
      "27:\tlearn: 0.1554518\ttotal: 38.4ms\tremaining: 1.33s\n",
      "28:\tlearn: 0.1538269\ttotal: 39.6ms\tremaining: 1.32s\n",
      "29:\tlearn: 0.1525041\ttotal: 40.8ms\tremaining: 1.32s\n",
      "30:\tlearn: 0.1514393\ttotal: 41.8ms\tremaining: 1.31s\n",
      "31:\tlearn: 0.1490728\ttotal: 43ms\tremaining: 1.3s\n",
      "32:\tlearn: 0.1438002\ttotal: 44.2ms\tremaining: 1.29s\n",
      "33:\tlearn: 0.1428370\ttotal: 45.6ms\tremaining: 1.3s\n",
      "34:\tlearn: 0.1402940\ttotal: 46.9ms\tremaining: 1.29s\n",
      "35:\tlearn: 0.1396199\ttotal: 48.5ms\tremaining: 1.3s\n",
      "36:\tlearn: 0.1351935\ttotal: 49.8ms\tremaining: 1.29s\n",
      "37:\tlearn: 0.1351733\ttotal: 50.6ms\tremaining: 1.28s\n",
      "38:\tlearn: 0.1350639\ttotal: 51.4ms\tremaining: 1.26s\n",
      "39:\tlearn: 0.1256917\ttotal: 52.4ms\tremaining: 1.26s\n",
      "40:\tlearn: 0.1226938\ttotal: 53.3ms\tremaining: 1.25s\n",
      "41:\tlearn: 0.1194784\ttotal: 54.6ms\tremaining: 1.25s\n",
      "42:\tlearn: 0.1184648\ttotal: 56ms\tremaining: 1.25s\n",
      "43:\tlearn: 0.1141011\ttotal: 57.2ms\tremaining: 1.24s\n",
      "44:\tlearn: 0.1131413\ttotal: 58ms\tremaining: 1.23s\n",
      "45:\tlearn: 0.1115797\ttotal: 59.3ms\tremaining: 1.23s\n",
      "46:\tlearn: 0.1115409\ttotal: 60.4ms\tremaining: 1.23s\n",
      "47:\tlearn: 0.1112298\ttotal: 61.5ms\tremaining: 1.22s\n",
      "48:\tlearn: 0.1082062\ttotal: 63.2ms\tremaining: 1.23s\n",
      "49:\tlearn: 0.1065382\ttotal: 64.3ms\tremaining: 1.22s\n",
      "50:\tlearn: 0.1020888\ttotal: 65.2ms\tremaining: 1.21s\n",
      "51:\tlearn: 0.1019499\ttotal: 66ms\tremaining: 1.2s\n",
      "52:\tlearn: 0.1007458\ttotal: 66.8ms\tremaining: 1.19s\n",
      "53:\tlearn: 0.0969227\ttotal: 67.7ms\tremaining: 1.19s\n",
      "54:\tlearn: 0.0933572\ttotal: 68.6ms\tremaining: 1.18s\n",
      "55:\tlearn: 0.0923201\ttotal: 69.4ms\tremaining: 1.17s\n",
      "56:\tlearn: 0.0915227\ttotal: 70.3ms\tremaining: 1.16s\n",
      "57:\tlearn: 0.0893995\ttotal: 71.2ms\tremaining: 1.16s\n",
      "58:\tlearn: 0.0878375\ttotal: 72.2ms\tremaining: 1.15s\n",
      "59:\tlearn: 0.0869277\ttotal: 73.1ms\tremaining: 1.15s\n",
      "60:\tlearn: 0.0858973\ttotal: 74.1ms\tremaining: 1.14s\n",
      "61:\tlearn: 0.0845588\ttotal: 74.9ms\tremaining: 1.13s\n",
      "62:\tlearn: 0.0839477\ttotal: 75.8ms\tremaining: 1.13s\n",
      "63:\tlearn: 0.0830569\ttotal: 76.6ms\tremaining: 1.12s\n",
      "64:\tlearn: 0.0791455\ttotal: 77.5ms\tremaining: 1.11s\n",
      "65:\tlearn: 0.0790572\ttotal: 78.3ms\tremaining: 1.11s\n",
      "66:\tlearn: 0.0784999\ttotal: 79.2ms\tremaining: 1.1s\n",
      "67:\tlearn: 0.0773886\ttotal: 80ms\tremaining: 1.1s\n",
      "68:\tlearn: 0.0773122\ttotal: 80.8ms\tremaining: 1.09s\n",
      "69:\tlearn: 0.0750573\ttotal: 81.8ms\tremaining: 1.09s\n",
      "70:\tlearn: 0.0746397\ttotal: 82.5ms\tremaining: 1.08s\n",
      "71:\tlearn: 0.0721671\ttotal: 83.5ms\tremaining: 1.07s\n",
      "72:\tlearn: 0.0707243\ttotal: 84.2ms\tremaining: 1.07s\n",
      "73:\tlearn: 0.0664912\ttotal: 85ms\tremaining: 1.06s\n",
      "74:\tlearn: 0.0650557\ttotal: 85.7ms\tremaining: 1.06s\n",
      "75:\tlearn: 0.0640573\ttotal: 86.4ms\tremaining: 1.05s\n",
      "76:\tlearn: 0.0636286\ttotal: 87.2ms\tremaining: 1.04s\n",
      "77:\tlearn: 0.0635655\ttotal: 88ms\tremaining: 1.04s\n",
      "78:\tlearn: 0.0632988\ttotal: 88.7ms\tremaining: 1.03s\n",
      "79:\tlearn: 0.0627176\ttotal: 89.5ms\tremaining: 1.03s\n",
      "80:\tlearn: 0.0619455\ttotal: 90.3ms\tremaining: 1.02s\n",
      "81:\tlearn: 0.0617701\ttotal: 90.9ms\tremaining: 1.02s\n",
      "82:\tlearn: 0.0603630\ttotal: 91.7ms\tremaining: 1.01s\n",
      "83:\tlearn: 0.0598359\ttotal: 92.6ms\tremaining: 1.01s\n",
      "84:\tlearn: 0.0591708\ttotal: 93.3ms\tremaining: 1s\n",
      "85:\tlearn: 0.0579612\ttotal: 94.4ms\tremaining: 1s\n",
      "86:\tlearn: 0.0579019\ttotal: 95.3ms\tremaining: 1s\n",
      "87:\tlearn: 0.0577860\ttotal: 96.2ms\tremaining: 997ms\n",
      "88:\tlearn: 0.0576404\ttotal: 97.1ms\tremaining: 994ms\n",
      "89:\tlearn: 0.0564932\ttotal: 98.3ms\tremaining: 994ms\n",
      "90:\tlearn: 0.0564212\ttotal: 99ms\tremaining: 989ms\n",
      "91:\tlearn: 0.0563084\ttotal: 99.7ms\tremaining: 984ms\n",
      "92:\tlearn: 0.0551737\ttotal: 100ms\tremaining: 980ms\n",
      "93:\tlearn: 0.0544236\ttotal: 101ms\tremaining: 976ms\n",
      "94:\tlearn: 0.0530220\ttotal: 102ms\tremaining: 970ms\n",
      "95:\tlearn: 0.0530220\ttotal: 102ms\tremaining: 965ms\n",
      "96:\tlearn: 0.0522742\ttotal: 103ms\tremaining: 960ms\n",
      "97:\tlearn: 0.0511180\ttotal: 104ms\tremaining: 956ms\n",
      "98:\tlearn: 0.0496885\ttotal: 104ms\tremaining: 951ms\n",
      "99:\tlearn: 0.0492658\ttotal: 105ms\tremaining: 946ms\n",
      "100:\tlearn: 0.0483316\ttotal: 106ms\tremaining: 941ms\n",
      "101:\tlearn: 0.0474370\ttotal: 106ms\tremaining: 937ms\n",
      "102:\tlearn: 0.0460441\ttotal: 107ms\tremaining: 933ms\n",
      "103:\tlearn: 0.0455707\ttotal: 108ms\tremaining: 928ms\n",
      "104:\tlearn: 0.0452502\ttotal: 108ms\tremaining: 924ms\n",
      "105:\tlearn: 0.0449274\ttotal: 109ms\tremaining: 920ms\n",
      "106:\tlearn: 0.0448252\ttotal: 110ms\tremaining: 915ms\n",
      "107:\tlearn: 0.0447176\ttotal: 110ms\tremaining: 911ms\n",
      "108:\tlearn: 0.0444710\ttotal: 111ms\tremaining: 906ms\n",
      "109:\tlearn: 0.0425458\ttotal: 112ms\tremaining: 903ms\n",
      "110:\tlearn: 0.0425050\ttotal: 112ms\tremaining: 899ms\n",
      "111:\tlearn: 0.0422827\ttotal: 113ms\tremaining: 894ms\n",
      "112:\tlearn: 0.0419119\ttotal: 113ms\tremaining: 891ms\n",
      "113:\tlearn: 0.0415817\ttotal: 114ms\tremaining: 887ms\n",
      "114:\tlearn: 0.0409959\ttotal: 115ms\tremaining: 883ms\n",
      "115:\tlearn: 0.0386155\ttotal: 115ms\tremaining: 879ms\n",
      "116:\tlearn: 0.0379293\ttotal: 116ms\tremaining: 876ms\n",
      "117:\tlearn: 0.0376379\ttotal: 117ms\tremaining: 872ms\n",
      "118:\tlearn: 0.0374402\ttotal: 117ms\tremaining: 868ms\n",
      "119:\tlearn: 0.0372766\ttotal: 118ms\tremaining: 865ms\n",
      "120:\tlearn: 0.0367921\ttotal: 119ms\tremaining: 862ms\n",
      "121:\tlearn: 0.0363333\ttotal: 119ms\tremaining: 859ms\n",
      "122:\tlearn: 0.0362541\ttotal: 120ms\tremaining: 856ms\n",
      "123:\tlearn: 0.0361684\ttotal: 121ms\tremaining: 852ms\n",
      "124:\tlearn: 0.0359273\ttotal: 121ms\tremaining: 849ms\n",
      "125:\tlearn: 0.0359273\ttotal: 122ms\tremaining: 845ms\n",
      "126:\tlearn: 0.0355318\ttotal: 123ms\tremaining: 842ms\n",
      "127:\tlearn: 0.0349888\ttotal: 123ms\tremaining: 839ms\n",
      "128:\tlearn: 0.0348993\ttotal: 124ms\tremaining: 837ms\n",
      "129:\tlearn: 0.0348254\ttotal: 125ms\tremaining: 834ms\n",
      "130:\tlearn: 0.0348244\ttotal: 125ms\tremaining: 831ms\n",
      "131:\tlearn: 0.0347618\ttotal: 126ms\tremaining: 829ms\n",
      "132:\tlearn: 0.0347034\ttotal: 127ms\tremaining: 825ms\n",
      "133:\tlearn: 0.0344894\ttotal: 127ms\tremaining: 823ms\n",
      "134:\tlearn: 0.0341242\ttotal: 128ms\tremaining: 820ms\n",
      "135:\tlearn: 0.0333707\ttotal: 129ms\tremaining: 817ms\n",
      "136:\tlearn: 0.0332921\ttotal: 129ms\tremaining: 814ms\n",
      "137:\tlearn: 0.0322489\ttotal: 130ms\tremaining: 812ms\n",
      "138:\tlearn: 0.0321010\ttotal: 131ms\tremaining: 809ms\n",
      "139:\tlearn: 0.0316120\ttotal: 131ms\tremaining: 806ms\n",
      "140:\tlearn: 0.0314802\ttotal: 132ms\tremaining: 803ms\n",
      "141:\tlearn: 0.0302096\ttotal: 132ms\tremaining: 800ms\n",
      "142:\tlearn: 0.0296626\ttotal: 133ms\tremaining: 798ms\n",
      "143:\tlearn: 0.0295175\ttotal: 134ms\tremaining: 796ms\n",
      "144:\tlearn: 0.0289496\ttotal: 135ms\tremaining: 793ms\n",
      "145:\tlearn: 0.0284759\ttotal: 135ms\tremaining: 791ms\n",
      "146:\tlearn: 0.0279375\ttotal: 136ms\tremaining: 788ms\n",
      "147:\tlearn: 0.0278670\ttotal: 136ms\tremaining: 786ms\n",
      "148:\tlearn: 0.0275074\ttotal: 137ms\tremaining: 784ms\n",
      "149:\tlearn: 0.0272868\ttotal: 138ms\tremaining: 781ms\n",
      "150:\tlearn: 0.0270353\ttotal: 139ms\tremaining: 779ms\n",
      "151:\tlearn: 0.0268515\ttotal: 139ms\tremaining: 777ms\n",
      "152:\tlearn: 0.0268514\ttotal: 140ms\tremaining: 774ms\n",
      "153:\tlearn: 0.0267691\ttotal: 140ms\tremaining: 771ms\n",
      "154:\tlearn: 0.0267687\ttotal: 141ms\tremaining: 768ms\n",
      "155:\tlearn: 0.0267687\ttotal: 142ms\tremaining: 766ms\n",
      "156:\tlearn: 0.0267687\ttotal: 142ms\tremaining: 763ms\n",
      "157:\tlearn: 0.0264975\ttotal: 143ms\tremaining: 762ms\n",
      "158:\tlearn: 0.0262714\ttotal: 144ms\tremaining: 760ms\n",
      "159:\tlearn: 0.0258956\ttotal: 144ms\tremaining: 758ms\n",
      "160:\tlearn: 0.0251797\ttotal: 145ms\tremaining: 756ms\n",
      "161:\tlearn: 0.0248347\ttotal: 146ms\tremaining: 753ms\n",
      "162:\tlearn: 0.0248345\ttotal: 146ms\tremaining: 750ms\n",
      "163:\tlearn: 0.0246370\ttotal: 147ms\tremaining: 749ms\n",
      "164:\tlearn: 0.0245157\ttotal: 148ms\tremaining: 747ms\n",
      "165:\tlearn: 0.0245153\ttotal: 148ms\tremaining: 745ms\n",
      "166:\tlearn: 0.0245153\ttotal: 149ms\tremaining: 742ms\n",
      "167:\tlearn: 0.0244668\ttotal: 149ms\tremaining: 740ms\n",
      "168:\tlearn: 0.0242629\ttotal: 150ms\tremaining: 738ms\n",
      "169:\tlearn: 0.0236804\ttotal: 151ms\tremaining: 736ms\n",
      "170:\tlearn: 0.0226245\ttotal: 152ms\tremaining: 735ms\n",
      "171:\tlearn: 0.0219230\ttotal: 152ms\tremaining: 732ms\n",
      "172:\tlearn: 0.0218626\ttotal: 153ms\tremaining: 730ms\n",
      "173:\tlearn: 0.0218625\ttotal: 153ms\tremaining: 728ms\n",
      "174:\tlearn: 0.0217735\ttotal: 154ms\tremaining: 726ms\n",
      "175:\tlearn: 0.0216939\ttotal: 155ms\tremaining: 724ms\n",
      "176:\tlearn: 0.0214905\ttotal: 155ms\tremaining: 722ms\n",
      "177:\tlearn: 0.0213928\ttotal: 156ms\tremaining: 720ms\n",
      "178:\tlearn: 0.0212159\ttotal: 157ms\tremaining: 718ms\n",
      "179:\tlearn: 0.0208821\ttotal: 157ms\tremaining: 716ms\n",
      "180:\tlearn: 0.0208703\ttotal: 158ms\tremaining: 714ms\n",
      "181:\tlearn: 0.0208701\ttotal: 158ms\tremaining: 712ms\n",
      "182:\tlearn: 0.0208696\ttotal: 159ms\tremaining: 710ms\n",
      "183:\tlearn: 0.0207453\ttotal: 160ms\tremaining: 708ms\n",
      "184:\tlearn: 0.0205036\ttotal: 160ms\tremaining: 706ms\n",
      "185:\tlearn: 0.0204134\ttotal: 161ms\tremaining: 704ms\n",
      "186:\tlearn: 0.0204133\ttotal: 162ms\tremaining: 702ms\n",
      "187:\tlearn: 0.0204126\ttotal: 162ms\tremaining: 700ms\n",
      "188:\tlearn: 0.0204125\ttotal: 163ms\tremaining: 698ms\n",
      "189:\tlearn: 0.0204124\ttotal: 163ms\tremaining: 696ms\n",
      "190:\tlearn: 0.0204124\ttotal: 164ms\tremaining: 694ms\n",
      "191:\tlearn: 0.0203863\ttotal: 164ms\tremaining: 692ms\n",
      "192:\tlearn: 0.0203862\ttotal: 165ms\tremaining: 690ms\n",
      "193:\tlearn: 0.0203862\ttotal: 166ms\tremaining: 688ms\n",
      "194:\tlearn: 0.0203857\ttotal: 166ms\tremaining: 686ms\n",
      "195:\tlearn: 0.0203850\ttotal: 167ms\tremaining: 684ms\n",
      "196:\tlearn: 0.0202932\ttotal: 167ms\tremaining: 682ms\n",
      "197:\tlearn: 0.0201801\ttotal: 168ms\tremaining: 681ms\n",
      "198:\tlearn: 0.0200463\ttotal: 169ms\tremaining: 679ms\n",
      "199:\tlearn: 0.0199508\ttotal: 169ms\tremaining: 677ms\n",
      "200:\tlearn: 0.0195782\ttotal: 170ms\tremaining: 676ms\n",
      "201:\tlearn: 0.0195782\ttotal: 171ms\tremaining: 674ms\n",
      "202:\tlearn: 0.0195781\ttotal: 171ms\tremaining: 673ms\n",
      "203:\tlearn: 0.0194436\ttotal: 172ms\tremaining: 672ms\n",
      "204:\tlearn: 0.0194427\ttotal: 173ms\tremaining: 670ms\n",
      "205:\tlearn: 0.0194423\ttotal: 173ms\tremaining: 668ms\n",
      "206:\tlearn: 0.0193644\ttotal: 174ms\tremaining: 666ms\n",
      "207:\tlearn: 0.0190456\ttotal: 174ms\tremaining: 664ms\n",
      "208:\tlearn: 0.0190188\ttotal: 175ms\tremaining: 663ms\n",
      "209:\tlearn: 0.0190187\ttotal: 176ms\tremaining: 661ms\n",
      "210:\tlearn: 0.0189595\ttotal: 176ms\tremaining: 659ms\n",
      "211:\tlearn: 0.0189594\ttotal: 177ms\tremaining: 658ms\n",
      "212:\tlearn: 0.0189593\ttotal: 178ms\tremaining: 656ms\n",
      "213:\tlearn: 0.0189593\ttotal: 178ms\tremaining: 654ms\n",
      "214:\tlearn: 0.0189590\ttotal: 179ms\tremaining: 653ms\n",
      "215:\tlearn: 0.0189589\ttotal: 179ms\tremaining: 651ms\n"
     ]
    },
    {
     "name": "stdout",
     "output_type": "stream",
     "text": [
      "216:\tlearn: 0.0189589\ttotal: 180ms\tremaining: 650ms\n",
      "217:\tlearn: 0.0189584\ttotal: 181ms\tremaining: 648ms\n",
      "218:\tlearn: 0.0189584\ttotal: 182ms\tremaining: 648ms\n",
      "219:\tlearn: 0.0187074\ttotal: 182ms\tremaining: 647ms\n",
      "220:\tlearn: 0.0181496\ttotal: 183ms\tremaining: 646ms\n",
      "221:\tlearn: 0.0181487\ttotal: 184ms\tremaining: 646ms\n",
      "222:\tlearn: 0.0181465\ttotal: 185ms\tremaining: 645ms\n",
      "223:\tlearn: 0.0181287\ttotal: 186ms\tremaining: 644ms\n",
      "224:\tlearn: 0.0181137\ttotal: 187ms\tremaining: 643ms\n",
      "225:\tlearn: 0.0181134\ttotal: 187ms\tremaining: 642ms\n",
      "226:\tlearn: 0.0181038\ttotal: 188ms\tremaining: 641ms\n",
      "227:\tlearn: 0.0181016\ttotal: 189ms\tremaining: 640ms\n",
      "228:\tlearn: 0.0181009\ttotal: 190ms\tremaining: 639ms\n",
      "229:\tlearn: 0.0181008\ttotal: 191ms\tremaining: 638ms\n",
      "230:\tlearn: 0.0181007\ttotal: 191ms\tremaining: 637ms\n",
      "231:\tlearn: 0.0181005\ttotal: 192ms\tremaining: 637ms\n",
      "232:\tlearn: 0.0181004\ttotal: 193ms\tremaining: 636ms\n",
      "233:\tlearn: 0.0181004\ttotal: 194ms\tremaining: 635ms\n",
      "234:\tlearn: 0.0180991\ttotal: 195ms\tremaining: 634ms\n",
      "235:\tlearn: 0.0180991\ttotal: 196ms\tremaining: 633ms\n",
      "236:\tlearn: 0.0180981\ttotal: 196ms\tremaining: 632ms\n",
      "237:\tlearn: 0.0180981\ttotal: 197ms\tremaining: 632ms\n",
      "238:\tlearn: 0.0180956\ttotal: 198ms\tremaining: 631ms\n",
      "239:\tlearn: 0.0180484\ttotal: 199ms\tremaining: 630ms\n",
      "240:\tlearn: 0.0180454\ttotal: 200ms\tremaining: 630ms\n",
      "241:\tlearn: 0.0180450\ttotal: 201ms\tremaining: 629ms\n",
      "242:\tlearn: 0.0180449\ttotal: 202ms\tremaining: 628ms\n",
      "243:\tlearn: 0.0180437\ttotal: 202ms\tremaining: 627ms\n",
      "244:\tlearn: 0.0180349\ttotal: 203ms\tremaining: 627ms\n",
      "245:\tlearn: 0.0180348\ttotal: 204ms\tremaining: 626ms\n",
      "246:\tlearn: 0.0180347\ttotal: 205ms\tremaining: 625ms\n",
      "247:\tlearn: 0.0180345\ttotal: 206ms\tremaining: 624ms\n",
      "248:\tlearn: 0.0180317\ttotal: 206ms\tremaining: 623ms\n",
      "249:\tlearn: 0.0180227\ttotal: 207ms\tremaining: 622ms\n",
      "250:\tlearn: 0.0180224\ttotal: 208ms\tremaining: 620ms\n",
      "251:\tlearn: 0.0179495\ttotal: 209ms\tremaining: 619ms\n",
      "252:\tlearn: 0.0175082\ttotal: 210ms\tremaining: 619ms\n",
      "253:\tlearn: 0.0174393\ttotal: 211ms\tremaining: 619ms\n",
      "254:\tlearn: 0.0172503\ttotal: 211ms\tremaining: 618ms\n",
      "255:\tlearn: 0.0171641\ttotal: 212ms\tremaining: 617ms\n",
      "256:\tlearn: 0.0171282\ttotal: 213ms\tremaining: 616ms\n",
      "257:\tlearn: 0.0167774\ttotal: 214ms\tremaining: 615ms\n",
      "258:\tlearn: 0.0166213\ttotal: 215ms\tremaining: 615ms\n",
      "259:\tlearn: 0.0164876\ttotal: 216ms\tremaining: 614ms\n",
      "260:\tlearn: 0.0161561\ttotal: 217ms\tremaining: 614ms\n",
      "261:\tlearn: 0.0161559\ttotal: 218ms\tremaining: 614ms\n",
      "262:\tlearn: 0.0161209\ttotal: 219ms\tremaining: 613ms\n",
      "263:\tlearn: 0.0160059\ttotal: 220ms\tremaining: 612ms\n",
      "264:\tlearn: 0.0159258\ttotal: 221ms\tremaining: 612ms\n",
      "265:\tlearn: 0.0155960\ttotal: 222ms\tremaining: 612ms\n",
      "266:\tlearn: 0.0154222\ttotal: 223ms\tremaining: 612ms\n",
      "267:\tlearn: 0.0154221\ttotal: 224ms\tremaining: 611ms\n",
      "268:\tlearn: 0.0152591\ttotal: 225ms\tremaining: 611ms\n",
      "269:\tlearn: 0.0151994\ttotal: 226ms\tremaining: 611ms\n",
      "270:\tlearn: 0.0149996\ttotal: 227ms\tremaining: 611ms\n",
      "271:\tlearn: 0.0149154\ttotal: 228ms\tremaining: 611ms\n",
      "272:\tlearn: 0.0149152\ttotal: 229ms\tremaining: 610ms\n",
      "273:\tlearn: 0.0148487\ttotal: 230ms\tremaining: 609ms\n",
      "274:\tlearn: 0.0147766\ttotal: 231ms\tremaining: 610ms\n",
      "275:\tlearn: 0.0147766\ttotal: 232ms\tremaining: 609ms\n",
      "276:\tlearn: 0.0147766\ttotal: 235ms\tremaining: 613ms\n",
      "277:\tlearn: 0.0147764\ttotal: 236ms\tremaining: 613ms\n",
      "278:\tlearn: 0.0147101\ttotal: 237ms\tremaining: 613ms\n",
      "279:\tlearn: 0.0147088\ttotal: 238ms\tremaining: 613ms\n",
      "280:\tlearn: 0.0147088\ttotal: 240ms\tremaining: 613ms\n",
      "281:\tlearn: 0.0146710\ttotal: 241ms\tremaining: 613ms\n",
      "282:\tlearn: 0.0145982\ttotal: 242ms\tremaining: 614ms\n",
      "283:\tlearn: 0.0145982\ttotal: 243ms\tremaining: 613ms\n",
      "284:\tlearn: 0.0144673\ttotal: 244ms\tremaining: 613ms\n",
      "285:\tlearn: 0.0143300\ttotal: 246ms\tremaining: 613ms\n",
      "286:\tlearn: 0.0143297\ttotal: 246ms\tremaining: 612ms\n",
      "287:\tlearn: 0.0142932\ttotal: 247ms\tremaining: 612ms\n",
      "288:\tlearn: 0.0140127\ttotal: 249ms\tremaining: 612ms\n",
      "289:\tlearn: 0.0138839\ttotal: 250ms\tremaining: 612ms\n",
      "290:\tlearn: 0.0138839\ttotal: 251ms\tremaining: 611ms\n",
      "291:\tlearn: 0.0138838\ttotal: 252ms\tremaining: 610ms\n",
      "292:\tlearn: 0.0138838\ttotal: 253ms\tremaining: 609ms\n",
      "293:\tlearn: 0.0138834\ttotal: 253ms\tremaining: 608ms\n",
      "294:\tlearn: 0.0138833\ttotal: 254ms\tremaining: 607ms\n",
      "295:\tlearn: 0.0138833\ttotal: 255ms\tremaining: 606ms\n",
      "296:\tlearn: 0.0138833\ttotal: 256ms\tremaining: 605ms\n",
      "297:\tlearn: 0.0138833\ttotal: 256ms\tremaining: 604ms\n",
      "298:\tlearn: 0.0138831\ttotal: 257ms\tremaining: 602ms\n",
      "299:\tlearn: 0.0138830\ttotal: 258ms\tremaining: 601ms\n",
      "300:\tlearn: 0.0137312\ttotal: 258ms\tremaining: 600ms\n",
      "301:\tlearn: 0.0137311\ttotal: 259ms\tremaining: 598ms\n",
      "302:\tlearn: 0.0137307\ttotal: 259ms\tremaining: 597ms\n",
      "303:\tlearn: 0.0137306\ttotal: 260ms\tremaining: 596ms\n",
      "304:\tlearn: 0.0135933\ttotal: 261ms\tremaining: 594ms\n",
      "305:\tlearn: 0.0134941\ttotal: 262ms\tremaining: 593ms\n",
      "306:\tlearn: 0.0132689\ttotal: 262ms\tremaining: 592ms\n",
      "307:\tlearn: 0.0131163\ttotal: 263ms\tremaining: 591ms\n",
      "308:\tlearn: 0.0129897\ttotal: 264ms\tremaining: 590ms\n",
      "309:\tlearn: 0.0129896\ttotal: 265ms\tremaining: 589ms\n",
      "310:\tlearn: 0.0129894\ttotal: 265ms\tremaining: 588ms\n",
      "311:\tlearn: 0.0129893\ttotal: 266ms\tremaining: 586ms\n",
      "312:\tlearn: 0.0129893\ttotal: 267ms\tremaining: 585ms\n",
      "313:\tlearn: 0.0129893\ttotal: 267ms\tremaining: 584ms\n",
      "314:\tlearn: 0.0129885\ttotal: 268ms\tremaining: 583ms\n",
      "315:\tlearn: 0.0129526\ttotal: 269ms\tremaining: 582ms\n",
      "316:\tlearn: 0.0129525\ttotal: 269ms\tremaining: 580ms\n",
      "317:\tlearn: 0.0129517\ttotal: 270ms\tremaining: 579ms\n",
      "318:\tlearn: 0.0129517\ttotal: 271ms\tremaining: 578ms\n",
      "319:\tlearn: 0.0129511\ttotal: 271ms\tremaining: 577ms\n",
      "320:\tlearn: 0.0129507\ttotal: 272ms\tremaining: 575ms\n",
      "321:\tlearn: 0.0129505\ttotal: 273ms\tremaining: 574ms\n",
      "322:\tlearn: 0.0129502\ttotal: 273ms\tremaining: 573ms\n",
      "323:\tlearn: 0.0129501\ttotal: 274ms\tremaining: 572ms\n",
      "324:\tlearn: 0.0129501\ttotal: 275ms\tremaining: 570ms\n",
      "325:\tlearn: 0.0129496\ttotal: 275ms\tremaining: 569ms\n",
      "326:\tlearn: 0.0129492\ttotal: 276ms\tremaining: 568ms\n",
      "327:\tlearn: 0.0129492\ttotal: 277ms\tremaining: 567ms\n",
      "328:\tlearn: 0.0129492\ttotal: 277ms\tremaining: 566ms\n",
      "329:\tlearn: 0.0129490\ttotal: 278ms\tremaining: 564ms\n",
      "330:\tlearn: 0.0129489\ttotal: 279ms\tremaining: 563ms\n",
      "331:\tlearn: 0.0129488\ttotal: 279ms\tremaining: 562ms\n",
      "332:\tlearn: 0.0129487\ttotal: 280ms\tremaining: 561ms\n",
      "333:\tlearn: 0.0129486\ttotal: 281ms\tremaining: 560ms\n",
      "334:\tlearn: 0.0129485\ttotal: 281ms\tremaining: 559ms\n",
      "335:\tlearn: 0.0129485\ttotal: 282ms\tremaining: 557ms\n",
      "336:\tlearn: 0.0129479\ttotal: 283ms\tremaining: 556ms\n",
      "337:\tlearn: 0.0128566\ttotal: 283ms\tremaining: 555ms\n",
      "338:\tlearn: 0.0128564\ttotal: 284ms\tremaining: 554ms\n",
      "339:\tlearn: 0.0128564\ttotal: 285ms\tremaining: 553ms\n",
      "340:\tlearn: 0.0127883\ttotal: 285ms\tremaining: 552ms\n",
      "341:\tlearn: 0.0127883\ttotal: 286ms\tremaining: 550ms\n",
      "342:\tlearn: 0.0127882\ttotal: 287ms\tremaining: 549ms\n",
      "343:\tlearn: 0.0127868\ttotal: 287ms\tremaining: 548ms\n",
      "344:\tlearn: 0.0127867\ttotal: 288ms\tremaining: 547ms\n",
      "345:\tlearn: 0.0127828\ttotal: 289ms\tremaining: 545ms\n",
      "346:\tlearn: 0.0127827\ttotal: 289ms\tremaining: 544ms\n",
      "347:\tlearn: 0.0127827\ttotal: 290ms\tremaining: 543ms\n",
      "348:\tlearn: 0.0127826\ttotal: 291ms\tremaining: 542ms\n",
      "349:\tlearn: 0.0127825\ttotal: 291ms\tremaining: 541ms\n",
      "350:\tlearn: 0.0127825\ttotal: 292ms\tremaining: 540ms\n",
      "351:\tlearn: 0.0127825\ttotal: 293ms\tremaining: 539ms\n",
      "352:\tlearn: 0.0127302\ttotal: 293ms\tremaining: 538ms\n",
      "353:\tlearn: 0.0126670\ttotal: 294ms\tremaining: 537ms\n",
      "354:\tlearn: 0.0126669\ttotal: 295ms\tremaining: 536ms\n",
      "355:\tlearn: 0.0125667\ttotal: 296ms\tremaining: 535ms\n",
      "356:\tlearn: 0.0125664\ttotal: 296ms\tremaining: 534ms\n",
      "357:\tlearn: 0.0125664\ttotal: 297ms\tremaining: 532ms\n",
      "358:\tlearn: 0.0124191\ttotal: 298ms\tremaining: 531ms\n",
      "359:\tlearn: 0.0123604\ttotal: 298ms\tremaining: 530ms\n",
      "360:\tlearn: 0.0123603\ttotal: 299ms\tremaining: 529ms\n",
      "361:\tlearn: 0.0123599\ttotal: 300ms\tremaining: 528ms\n",
      "362:\tlearn: 0.0123597\ttotal: 300ms\tremaining: 527ms\n",
      "363:\tlearn: 0.0123576\ttotal: 301ms\tremaining: 526ms\n",
      "364:\tlearn: 0.0123236\ttotal: 302ms\tremaining: 525ms\n",
      "365:\tlearn: 0.0122722\ttotal: 303ms\tremaining: 524ms\n",
      "366:\tlearn: 0.0122720\ttotal: 303ms\tremaining: 523ms\n",
      "367:\tlearn: 0.0122064\ttotal: 304ms\tremaining: 522ms\n",
      "368:\tlearn: 0.0122053\ttotal: 305ms\tremaining: 521ms\n",
      "369:\tlearn: 0.0122053\ttotal: 305ms\tremaining: 520ms\n",
      "370:\tlearn: 0.0122052\ttotal: 306ms\tremaining: 519ms\n",
      "371:\tlearn: 0.0122052\ttotal: 306ms\tremaining: 517ms\n",
      "372:\tlearn: 0.0121887\ttotal: 307ms\tremaining: 516ms\n",
      "373:\tlearn: 0.0121519\ttotal: 308ms\tremaining: 515ms\n",
      "374:\tlearn: 0.0118865\ttotal: 308ms\tremaining: 514ms\n",
      "375:\tlearn: 0.0118535\ttotal: 309ms\tremaining: 513ms\n",
      "376:\tlearn: 0.0118533\ttotal: 309ms\tremaining: 511ms\n",
      "377:\tlearn: 0.0118532\ttotal: 310ms\tremaining: 510ms\n",
      "378:\tlearn: 0.0118531\ttotal: 311ms\tremaining: 509ms\n",
      "379:\tlearn: 0.0117630\ttotal: 311ms\tremaining: 508ms\n",
      "380:\tlearn: 0.0117305\ttotal: 312ms\tremaining: 507ms\n",
      "381:\tlearn: 0.0116839\ttotal: 313ms\tremaining: 506ms\n",
      "382:\tlearn: 0.0116839\ttotal: 313ms\tremaining: 505ms\n",
      "383:\tlearn: 0.0116839\ttotal: 314ms\tremaining: 503ms\n",
      "384:\tlearn: 0.0116826\ttotal: 314ms\tremaining: 502ms\n",
      "385:\tlearn: 0.0116220\ttotal: 315ms\tremaining: 501ms\n",
      "386:\tlearn: 0.0115354\ttotal: 316ms\tremaining: 500ms\n",
      "387:\tlearn: 0.0115123\ttotal: 316ms\tremaining: 499ms\n",
      "388:\tlearn: 0.0115123\ttotal: 317ms\tremaining: 497ms\n",
      "389:\tlearn: 0.0115120\ttotal: 317ms\tremaining: 496ms\n",
      "390:\tlearn: 0.0115118\ttotal: 318ms\tremaining: 495ms\n",
      "391:\tlearn: 0.0115116\ttotal: 319ms\tremaining: 494ms\n",
      "392:\tlearn: 0.0115111\ttotal: 319ms\tremaining: 493ms\n",
      "393:\tlearn: 0.0115107\ttotal: 320ms\tremaining: 492ms\n",
      "394:\tlearn: 0.0115103\ttotal: 320ms\tremaining: 491ms\n",
      "395:\tlearn: 0.0115099\ttotal: 321ms\tremaining: 489ms\n",
      "396:\tlearn: 0.0115097\ttotal: 321ms\tremaining: 488ms\n",
      "397:\tlearn: 0.0115093\ttotal: 322ms\tremaining: 487ms\n",
      "398:\tlearn: 0.0115092\ttotal: 322ms\tremaining: 486ms\n",
      "399:\tlearn: 0.0115079\ttotal: 323ms\tremaining: 485ms\n",
      "400:\tlearn: 0.0115079\ttotal: 324ms\tremaining: 483ms\n",
      "401:\tlearn: 0.0115074\ttotal: 324ms\tremaining: 482ms\n",
      "402:\tlearn: 0.0114536\ttotal: 325ms\tremaining: 481ms\n",
      "403:\tlearn: 0.0108036\ttotal: 325ms\tremaining: 480ms\n",
      "404:\tlearn: 0.0107730\ttotal: 326ms\tremaining: 479ms\n",
      "405:\tlearn: 0.0107729\ttotal: 327ms\tremaining: 478ms\n",
      "406:\tlearn: 0.0107729\ttotal: 327ms\tremaining: 477ms\n",
      "407:\tlearn: 0.0107728\ttotal: 328ms\tremaining: 475ms\n",
      "408:\tlearn: 0.0107724\ttotal: 328ms\tremaining: 474ms\n",
      "409:\tlearn: 0.0107712\ttotal: 329ms\tremaining: 473ms\n",
      "410:\tlearn: 0.0107710\ttotal: 329ms\tremaining: 472ms\n",
      "411:\tlearn: 0.0107643\ttotal: 330ms\tremaining: 471ms\n",
      "412:\tlearn: 0.0107642\ttotal: 331ms\tremaining: 470ms\n",
      "413:\tlearn: 0.0107642\ttotal: 331ms\tremaining: 469ms\n",
      "414:\tlearn: 0.0107641\ttotal: 332ms\tremaining: 468ms\n",
      "415:\tlearn: 0.0107641\ttotal: 332ms\tremaining: 466ms\n",
      "416:\tlearn: 0.0107613\ttotal: 333ms\tremaining: 465ms\n",
      "417:\tlearn: 0.0107612\ttotal: 333ms\tremaining: 464ms\n",
      "418:\tlearn: 0.0107610\ttotal: 334ms\tremaining: 463ms\n",
      "419:\tlearn: 0.0107518\ttotal: 335ms\tremaining: 462ms\n",
      "420:\tlearn: 0.0107518\ttotal: 335ms\tremaining: 461ms\n",
      "421:\tlearn: 0.0107513\ttotal: 336ms\tremaining: 460ms\n",
      "422:\tlearn: 0.0107513\ttotal: 336ms\tremaining: 459ms\n",
      "423:\tlearn: 0.0107513\ttotal: 337ms\tremaining: 458ms\n",
      "424:\tlearn: 0.0107512\ttotal: 337ms\tremaining: 457ms\n",
      "425:\tlearn: 0.0107496\ttotal: 338ms\tremaining: 455ms\n",
      "426:\tlearn: 0.0107491\ttotal: 339ms\tremaining: 454ms\n",
      "427:\tlearn: 0.0107490\ttotal: 339ms\tremaining: 453ms\n",
      "428:\tlearn: 0.0107488\ttotal: 340ms\tremaining: 452ms\n",
      "429:\tlearn: 0.0107487\ttotal: 340ms\tremaining: 451ms\n",
      "430:\tlearn: 0.0107487\ttotal: 341ms\tremaining: 450ms\n",
      "431:\tlearn: 0.0107485\ttotal: 342ms\tremaining: 449ms\n",
      "432:\tlearn: 0.0107483\ttotal: 342ms\tremaining: 448ms\n",
      "433:\tlearn: 0.0107482\ttotal: 343ms\tremaining: 447ms\n",
      "434:\tlearn: 0.0107481\ttotal: 343ms\tremaining: 446ms\n",
      "435:\tlearn: 0.0107478\ttotal: 344ms\tremaining: 445ms\n",
      "436:\tlearn: 0.0107477\ttotal: 344ms\tremaining: 444ms\n",
      "437:\tlearn: 0.0107477\ttotal: 345ms\tremaining: 443ms\n",
      "438:\tlearn: 0.0107474\ttotal: 346ms\tremaining: 442ms\n",
      "439:\tlearn: 0.0107470\ttotal: 346ms\tremaining: 441ms\n",
      "440:\tlearn: 0.0107470\ttotal: 347ms\tremaining: 440ms\n",
      "441:\tlearn: 0.0107384\ttotal: 347ms\tremaining: 439ms\n",
      "442:\tlearn: 0.0107384\ttotal: 348ms\tremaining: 437ms\n",
      "443:\tlearn: 0.0107383\ttotal: 348ms\tremaining: 436ms\n",
      "444:\tlearn: 0.0107383\ttotal: 349ms\tremaining: 435ms\n",
      "445:\tlearn: 0.0107382\ttotal: 350ms\tremaining: 434ms\n",
      "446:\tlearn: 0.0107382\ttotal: 350ms\tremaining: 433ms\n",
      "447:\tlearn: 0.0107381\ttotal: 351ms\tremaining: 432ms\n",
      "448:\tlearn: 0.0107380\ttotal: 351ms\tremaining: 431ms\n",
      "449:\tlearn: 0.0107380\ttotal: 352ms\tremaining: 430ms\n",
      "450:\tlearn: 0.0107379\ttotal: 353ms\tremaining: 429ms\n",
      "451:\tlearn: 0.0107379\ttotal: 353ms\tremaining: 428ms\n",
      "452:\tlearn: 0.0107378\ttotal: 354ms\tremaining: 427ms\n",
      "453:\tlearn: 0.0107365\ttotal: 354ms\tremaining: 426ms\n",
      "454:\tlearn: 0.0107350\ttotal: 355ms\tremaining: 425ms\n",
      "455:\tlearn: 0.0107349\ttotal: 355ms\tremaining: 424ms\n",
      "456:\tlearn: 0.0107349\ttotal: 356ms\tremaining: 423ms\n"
     ]
    },
    {
     "name": "stdout",
     "output_type": "stream",
     "text": [
      "457:\tlearn: 0.0107349\ttotal: 357ms\tremaining: 422ms\n",
      "458:\tlearn: 0.0107346\ttotal: 358ms\tremaining: 422ms\n",
      "459:\tlearn: 0.0107344\ttotal: 359ms\tremaining: 421ms\n",
      "460:\tlearn: 0.0107342\ttotal: 359ms\tremaining: 420ms\n",
      "461:\tlearn: 0.0107341\ttotal: 360ms\tremaining: 419ms\n",
      "462:\tlearn: 0.0107340\ttotal: 361ms\tremaining: 419ms\n",
      "463:\tlearn: 0.0107337\ttotal: 362ms\tremaining: 418ms\n",
      "464:\tlearn: 0.0107336\ttotal: 363ms\tremaining: 417ms\n",
      "465:\tlearn: 0.0107335\ttotal: 363ms\tremaining: 417ms\n",
      "466:\tlearn: 0.0107334\ttotal: 364ms\tremaining: 416ms\n",
      "467:\tlearn: 0.0107334\ttotal: 365ms\tremaining: 415ms\n",
      "468:\tlearn: 0.0107329\ttotal: 366ms\tremaining: 414ms\n",
      "469:\tlearn: 0.0107326\ttotal: 367ms\tremaining: 413ms\n",
      "470:\tlearn: 0.0107326\ttotal: 367ms\tremaining: 413ms\n",
      "471:\tlearn: 0.0107326\ttotal: 368ms\tremaining: 412ms\n",
      "472:\tlearn: 0.0107325\ttotal: 369ms\tremaining: 411ms\n",
      "473:\tlearn: 0.0107325\ttotal: 370ms\tremaining: 410ms\n",
      "474:\tlearn: 0.0107325\ttotal: 371ms\tremaining: 410ms\n",
      "475:\tlearn: 0.0107297\ttotal: 371ms\tremaining: 409ms\n",
      "476:\tlearn: 0.0107296\ttotal: 372ms\tremaining: 408ms\n",
      "477:\tlearn: 0.0107295\ttotal: 373ms\tremaining: 407ms\n",
      "478:\tlearn: 0.0107294\ttotal: 374ms\tremaining: 406ms\n",
      "479:\tlearn: 0.0107288\ttotal: 374ms\tremaining: 406ms\n",
      "480:\tlearn: 0.0107288\ttotal: 375ms\tremaining: 405ms\n",
      "481:\tlearn: 0.0107288\ttotal: 376ms\tremaining: 404ms\n",
      "482:\tlearn: 0.0107288\ttotal: 377ms\tremaining: 403ms\n",
      "483:\tlearn: 0.0107287\ttotal: 378ms\tremaining: 402ms\n",
      "484:\tlearn: 0.0107287\ttotal: 378ms\tremaining: 402ms\n",
      "485:\tlearn: 0.0107287\ttotal: 379ms\tremaining: 401ms\n",
      "486:\tlearn: 0.0107287\ttotal: 380ms\tremaining: 400ms\n",
      "487:\tlearn: 0.0107287\ttotal: 380ms\tremaining: 399ms\n",
      "488:\tlearn: 0.0107285\ttotal: 381ms\tremaining: 398ms\n",
      "489:\tlearn: 0.0107284\ttotal: 381ms\tremaining: 397ms\n",
      "490:\tlearn: 0.0107284\ttotal: 382ms\tremaining: 396ms\n",
      "491:\tlearn: 0.0107283\ttotal: 383ms\tremaining: 395ms\n",
      "492:\tlearn: 0.0107283\ttotal: 383ms\tremaining: 394ms\n",
      "493:\tlearn: 0.0107283\ttotal: 384ms\tremaining: 393ms\n",
      "494:\tlearn: 0.0107282\ttotal: 384ms\tremaining: 392ms\n",
      "495:\tlearn: 0.0107282\ttotal: 385ms\tremaining: 391ms\n",
      "496:\tlearn: 0.0107282\ttotal: 385ms\tremaining: 390ms\n",
      "497:\tlearn: 0.0107280\ttotal: 386ms\tremaining: 389ms\n",
      "498:\tlearn: 0.0107280\ttotal: 386ms\tremaining: 388ms\n",
      "499:\tlearn: 0.0107280\ttotal: 387ms\tremaining: 387ms\n",
      "500:\tlearn: 0.0106989\ttotal: 388ms\tremaining: 386ms\n",
      "501:\tlearn: 0.0106988\ttotal: 388ms\tremaining: 385ms\n",
      "502:\tlearn: 0.0106987\ttotal: 389ms\tremaining: 384ms\n",
      "503:\tlearn: 0.0106987\ttotal: 390ms\tremaining: 383ms\n",
      "504:\tlearn: 0.0106975\ttotal: 390ms\tremaining: 382ms\n",
      "505:\tlearn: 0.0106967\ttotal: 391ms\tremaining: 382ms\n",
      "506:\tlearn: 0.0106966\ttotal: 391ms\tremaining: 381ms\n",
      "507:\tlearn: 0.0106966\ttotal: 392ms\tremaining: 380ms\n",
      "508:\tlearn: 0.0106965\ttotal: 393ms\tremaining: 379ms\n",
      "509:\tlearn: 0.0106965\ttotal: 393ms\tremaining: 378ms\n",
      "510:\tlearn: 0.0106965\ttotal: 394ms\tremaining: 377ms\n",
      "511:\tlearn: 0.0106965\ttotal: 394ms\tremaining: 376ms\n",
      "512:\tlearn: 0.0106965\ttotal: 395ms\tremaining: 375ms\n",
      "513:\tlearn: 0.0106962\ttotal: 396ms\tremaining: 374ms\n",
      "514:\tlearn: 0.0106962\ttotal: 396ms\tremaining: 373ms\n",
      "515:\tlearn: 0.0106962\ttotal: 397ms\tremaining: 372ms\n",
      "516:\tlearn: 0.0106905\ttotal: 398ms\tremaining: 371ms\n",
      "517:\tlearn: 0.0106899\ttotal: 398ms\tremaining: 371ms\n",
      "518:\tlearn: 0.0106899\ttotal: 399ms\tremaining: 370ms\n",
      "519:\tlearn: 0.0106816\ttotal: 399ms\tremaining: 369ms\n",
      "520:\tlearn: 0.0106815\ttotal: 400ms\tremaining: 368ms\n",
      "521:\tlearn: 0.0106811\ttotal: 401ms\tremaining: 367ms\n",
      "522:\tlearn: 0.0106811\ttotal: 401ms\tremaining: 366ms\n",
      "523:\tlearn: 0.0106811\ttotal: 402ms\tremaining: 365ms\n",
      "524:\tlearn: 0.0106711\ttotal: 402ms\tremaining: 364ms\n",
      "525:\tlearn: 0.0106706\ttotal: 403ms\tremaining: 363ms\n",
      "526:\tlearn: 0.0106704\ttotal: 404ms\tremaining: 362ms\n",
      "527:\tlearn: 0.0106680\ttotal: 404ms\tremaining: 361ms\n",
      "528:\tlearn: 0.0106680\ttotal: 405ms\tremaining: 360ms\n",
      "529:\tlearn: 0.0106680\ttotal: 405ms\tremaining: 359ms\n",
      "530:\tlearn: 0.0106680\ttotal: 406ms\tremaining: 359ms\n",
      "531:\tlearn: 0.0106679\ttotal: 407ms\tremaining: 358ms\n",
      "532:\tlearn: 0.0106679\ttotal: 407ms\tremaining: 357ms\n",
      "533:\tlearn: 0.0106678\ttotal: 408ms\tremaining: 356ms\n",
      "534:\tlearn: 0.0106677\ttotal: 408ms\tremaining: 355ms\n",
      "535:\tlearn: 0.0106677\ttotal: 409ms\tremaining: 354ms\n",
      "536:\tlearn: 0.0106675\ttotal: 409ms\tremaining: 353ms\n",
      "537:\tlearn: 0.0106674\ttotal: 410ms\tremaining: 352ms\n",
      "538:\tlearn: 0.0106672\ttotal: 411ms\tremaining: 351ms\n",
      "539:\tlearn: 0.0106671\ttotal: 411ms\tremaining: 350ms\n",
      "540:\tlearn: 0.0106671\ttotal: 412ms\tremaining: 349ms\n",
      "541:\tlearn: 0.0106671\ttotal: 412ms\tremaining: 348ms\n",
      "542:\tlearn: 0.0106671\ttotal: 413ms\tremaining: 347ms\n",
      "543:\tlearn: 0.0106670\ttotal: 414ms\tremaining: 347ms\n",
      "544:\tlearn: 0.0106665\ttotal: 414ms\tremaining: 346ms\n",
      "545:\tlearn: 0.0106665\ttotal: 415ms\tremaining: 345ms\n",
      "546:\tlearn: 0.0106665\ttotal: 415ms\tremaining: 344ms\n",
      "547:\tlearn: 0.0106663\ttotal: 416ms\tremaining: 343ms\n",
      "548:\tlearn: 0.0106663\ttotal: 416ms\tremaining: 342ms\n",
      "549:\tlearn: 0.0106663\ttotal: 417ms\tremaining: 341ms\n",
      "550:\tlearn: 0.0106663\ttotal: 417ms\tremaining: 340ms\n",
      "551:\tlearn: 0.0106662\ttotal: 418ms\tremaining: 339ms\n",
      "552:\tlearn: 0.0106662\ttotal: 419ms\tremaining: 338ms\n",
      "553:\tlearn: 0.0106661\ttotal: 419ms\tremaining: 337ms\n",
      "554:\tlearn: 0.0106599\ttotal: 420ms\tremaining: 337ms\n",
      "555:\tlearn: 0.0106179\ttotal: 420ms\tremaining: 336ms\n",
      "556:\tlearn: 0.0105589\ttotal: 421ms\tremaining: 335ms\n",
      "557:\tlearn: 0.0105588\ttotal: 422ms\tremaining: 334ms\n",
      "558:\tlearn: 0.0105576\ttotal: 422ms\tremaining: 333ms\n",
      "559:\tlearn: 0.0105576\ttotal: 423ms\tremaining: 332ms\n",
      "560:\tlearn: 0.0105575\ttotal: 423ms\tremaining: 331ms\n",
      "561:\tlearn: 0.0105568\ttotal: 424ms\tremaining: 330ms\n",
      "562:\tlearn: 0.0105564\ttotal: 424ms\tremaining: 329ms\n",
      "563:\tlearn: 0.0105562\ttotal: 425ms\tremaining: 329ms\n",
      "564:\tlearn: 0.0105558\ttotal: 426ms\tremaining: 328ms\n",
      "565:\tlearn: 0.0105553\ttotal: 426ms\tremaining: 327ms\n",
      "566:\tlearn: 0.0105552\ttotal: 427ms\tremaining: 326ms\n",
      "567:\tlearn: 0.0105551\ttotal: 427ms\tremaining: 325ms\n",
      "568:\tlearn: 0.0105548\ttotal: 428ms\tremaining: 324ms\n",
      "569:\tlearn: 0.0105547\ttotal: 429ms\tremaining: 323ms\n",
      "570:\tlearn: 0.0105545\ttotal: 429ms\tremaining: 322ms\n",
      "571:\tlearn: 0.0105543\ttotal: 430ms\tremaining: 322ms\n",
      "572:\tlearn: 0.0105542\ttotal: 430ms\tremaining: 321ms\n",
      "573:\tlearn: 0.0105541\ttotal: 431ms\tremaining: 320ms\n",
      "574:\tlearn: 0.0105538\ttotal: 432ms\tremaining: 319ms\n",
      "575:\tlearn: 0.0105537\ttotal: 432ms\tremaining: 318ms\n",
      "576:\tlearn: 0.0105537\ttotal: 433ms\tremaining: 317ms\n",
      "577:\tlearn: 0.0105537\ttotal: 433ms\tremaining: 316ms\n",
      "578:\tlearn: 0.0105535\ttotal: 434ms\tremaining: 315ms\n",
      "579:\tlearn: 0.0105498\ttotal: 434ms\tremaining: 315ms\n",
      "580:\tlearn: 0.0105446\ttotal: 435ms\tremaining: 314ms\n",
      "581:\tlearn: 0.0105441\ttotal: 436ms\tremaining: 313ms\n",
      "582:\tlearn: 0.0105409\ttotal: 436ms\tremaining: 312ms\n",
      "583:\tlearn: 0.0105409\ttotal: 437ms\tremaining: 311ms\n",
      "584:\tlearn: 0.0105251\ttotal: 437ms\tremaining: 310ms\n",
      "585:\tlearn: 0.0105251\ttotal: 438ms\tremaining: 309ms\n",
      "586:\tlearn: 0.0105250\ttotal: 438ms\tremaining: 308ms\n",
      "587:\tlearn: 0.0105247\ttotal: 439ms\tremaining: 308ms\n",
      "588:\tlearn: 0.0105242\ttotal: 440ms\tremaining: 307ms\n",
      "589:\tlearn: 0.0105240\ttotal: 440ms\tremaining: 306ms\n",
      "590:\tlearn: 0.0105237\ttotal: 441ms\tremaining: 305ms\n",
      "591:\tlearn: 0.0105235\ttotal: 441ms\tremaining: 304ms\n",
      "592:\tlearn: 0.0105235\ttotal: 442ms\tremaining: 303ms\n",
      "593:\tlearn: 0.0105234\ttotal: 443ms\tremaining: 302ms\n",
      "594:\tlearn: 0.0105233\ttotal: 443ms\tremaining: 302ms\n",
      "595:\tlearn: 0.0105233\ttotal: 444ms\tremaining: 301ms\n",
      "596:\tlearn: 0.0105233\ttotal: 444ms\tremaining: 300ms\n",
      "597:\tlearn: 0.0105233\ttotal: 445ms\tremaining: 299ms\n",
      "598:\tlearn: 0.0105232\ttotal: 446ms\tremaining: 298ms\n",
      "599:\tlearn: 0.0105232\ttotal: 446ms\tremaining: 297ms\n",
      "600:\tlearn: 0.0104385\ttotal: 447ms\tremaining: 297ms\n",
      "601:\tlearn: 0.0104385\ttotal: 447ms\tremaining: 296ms\n",
      "602:\tlearn: 0.0104382\ttotal: 448ms\tremaining: 295ms\n",
      "603:\tlearn: 0.0104380\ttotal: 448ms\tremaining: 294ms\n",
      "604:\tlearn: 0.0104380\ttotal: 449ms\tremaining: 293ms\n",
      "605:\tlearn: 0.0104380\ttotal: 450ms\tremaining: 292ms\n",
      "606:\tlearn: 0.0104379\ttotal: 450ms\tremaining: 292ms\n",
      "607:\tlearn: 0.0103597\ttotal: 451ms\tremaining: 291ms\n",
      "608:\tlearn: 0.0099852\ttotal: 452ms\tremaining: 290ms\n",
      "609:\tlearn: 0.0099852\ttotal: 452ms\tremaining: 289ms\n",
      "610:\tlearn: 0.0099852\ttotal: 453ms\tremaining: 288ms\n",
      "611:\tlearn: 0.0099842\ttotal: 453ms\tremaining: 287ms\n",
      "612:\tlearn: 0.0099167\ttotal: 454ms\tremaining: 287ms\n",
      "613:\tlearn: 0.0098640\ttotal: 455ms\tremaining: 286ms\n",
      "614:\tlearn: 0.0098624\ttotal: 455ms\tremaining: 285ms\n",
      "615:\tlearn: 0.0098624\ttotal: 456ms\tremaining: 284ms\n",
      "616:\tlearn: 0.0098619\ttotal: 456ms\tremaining: 283ms\n",
      "617:\tlearn: 0.0098619\ttotal: 457ms\tremaining: 282ms\n",
      "618:\tlearn: 0.0098618\ttotal: 458ms\tremaining: 282ms\n",
      "619:\tlearn: 0.0098616\ttotal: 458ms\tremaining: 281ms\n",
      "620:\tlearn: 0.0098612\ttotal: 459ms\tremaining: 280ms\n",
      "621:\tlearn: 0.0098611\ttotal: 459ms\tremaining: 279ms\n",
      "622:\tlearn: 0.0098610\ttotal: 460ms\tremaining: 278ms\n",
      "623:\tlearn: 0.0098598\ttotal: 460ms\tremaining: 277ms\n",
      "624:\tlearn: 0.0098593\ttotal: 461ms\tremaining: 277ms\n",
      "625:\tlearn: 0.0098593\ttotal: 462ms\tremaining: 276ms\n",
      "626:\tlearn: 0.0098591\ttotal: 462ms\tremaining: 275ms\n",
      "627:\tlearn: 0.0098566\ttotal: 463ms\tremaining: 274ms\n",
      "628:\tlearn: 0.0098566\ttotal: 463ms\tremaining: 273ms\n",
      "629:\tlearn: 0.0098563\ttotal: 464ms\tremaining: 272ms\n",
      "630:\tlearn: 0.0098425\ttotal: 464ms\tremaining: 272ms\n",
      "631:\tlearn: 0.0098424\ttotal: 465ms\tremaining: 271ms\n",
      "632:\tlearn: 0.0098424\ttotal: 466ms\tremaining: 270ms\n",
      "633:\tlearn: 0.0098424\ttotal: 466ms\tremaining: 269ms\n",
      "634:\tlearn: 0.0098423\ttotal: 467ms\tremaining: 268ms\n",
      "635:\tlearn: 0.0098412\ttotal: 467ms\tremaining: 267ms\n",
      "636:\tlearn: 0.0098412\ttotal: 468ms\tremaining: 267ms\n",
      "637:\tlearn: 0.0098412\ttotal: 468ms\tremaining: 266ms\n",
      "638:\tlearn: 0.0098411\ttotal: 469ms\tremaining: 265ms\n",
      "639:\tlearn: 0.0098411\ttotal: 470ms\tremaining: 264ms\n",
      "640:\tlearn: 0.0098411\ttotal: 470ms\tremaining: 263ms\n",
      "641:\tlearn: 0.0098409\ttotal: 471ms\tremaining: 263ms\n",
      "642:\tlearn: 0.0098409\ttotal: 471ms\tremaining: 262ms\n",
      "643:\tlearn: 0.0098392\ttotal: 472ms\tremaining: 261ms\n",
      "644:\tlearn: 0.0098392\ttotal: 472ms\tremaining: 260ms\n",
      "645:\tlearn: 0.0097921\ttotal: 473ms\tremaining: 259ms\n",
      "646:\tlearn: 0.0097921\ttotal: 474ms\tremaining: 258ms\n",
      "647:\tlearn: 0.0097921\ttotal: 474ms\tremaining: 258ms\n",
      "648:\tlearn: 0.0097509\ttotal: 475ms\tremaining: 257ms\n",
      "649:\tlearn: 0.0097499\ttotal: 475ms\tremaining: 256ms\n",
      "650:\tlearn: 0.0097497\ttotal: 476ms\tremaining: 255ms\n",
      "651:\tlearn: 0.0097437\ttotal: 477ms\tremaining: 254ms\n",
      "652:\tlearn: 0.0097437\ttotal: 477ms\tremaining: 254ms\n",
      "653:\tlearn: 0.0097437\ttotal: 478ms\tremaining: 253ms\n",
      "654:\tlearn: 0.0097434\ttotal: 478ms\tremaining: 252ms\n",
      "655:\tlearn: 0.0097434\ttotal: 479ms\tremaining: 251ms\n",
      "656:\tlearn: 0.0097433\ttotal: 479ms\tremaining: 250ms\n",
      "657:\tlearn: 0.0095924\ttotal: 480ms\tremaining: 249ms\n",
      "658:\tlearn: 0.0094965\ttotal: 481ms\tremaining: 249ms\n",
      "659:\tlearn: 0.0094964\ttotal: 481ms\tremaining: 248ms\n",
      "660:\tlearn: 0.0094729\ttotal: 482ms\tremaining: 247ms\n",
      "661:\tlearn: 0.0093909\ttotal: 482ms\tremaining: 246ms\n",
      "662:\tlearn: 0.0092772\ttotal: 483ms\tremaining: 245ms\n",
      "663:\tlearn: 0.0092769\ttotal: 484ms\tremaining: 245ms\n",
      "664:\tlearn: 0.0092769\ttotal: 484ms\tremaining: 244ms\n",
      "665:\tlearn: 0.0092768\ttotal: 485ms\tremaining: 243ms\n",
      "666:\tlearn: 0.0092768\ttotal: 485ms\tremaining: 242ms\n",
      "667:\tlearn: 0.0092767\ttotal: 486ms\tremaining: 241ms\n",
      "668:\tlearn: 0.0092767\ttotal: 486ms\tremaining: 241ms\n",
      "669:\tlearn: 0.0092767\ttotal: 487ms\tremaining: 240ms\n",
      "670:\tlearn: 0.0092766\ttotal: 487ms\tremaining: 239ms\n",
      "671:\tlearn: 0.0092765\ttotal: 488ms\tremaining: 238ms\n",
      "672:\tlearn: 0.0092765\ttotal: 489ms\tremaining: 237ms\n",
      "673:\tlearn: 0.0092765\ttotal: 489ms\tremaining: 237ms\n",
      "674:\tlearn: 0.0092761\ttotal: 490ms\tremaining: 236ms\n",
      "675:\tlearn: 0.0092760\ttotal: 490ms\tremaining: 235ms\n",
      "676:\tlearn: 0.0092759\ttotal: 491ms\tremaining: 234ms\n",
      "677:\tlearn: 0.0092759\ttotal: 491ms\tremaining: 233ms\n",
      "678:\tlearn: 0.0092745\ttotal: 492ms\tremaining: 233ms\n",
      "679:\tlearn: 0.0092745\ttotal: 493ms\tremaining: 232ms\n",
      "680:\tlearn: 0.0092745\ttotal: 493ms\tremaining: 231ms\n",
      "681:\tlearn: 0.0092743\ttotal: 494ms\tremaining: 230ms\n",
      "682:\tlearn: 0.0092742\ttotal: 494ms\tremaining: 229ms\n",
      "683:\tlearn: 0.0092737\ttotal: 495ms\tremaining: 229ms\n",
      "684:\tlearn: 0.0092737\ttotal: 495ms\tremaining: 228ms\n",
      "685:\tlearn: 0.0092737\ttotal: 496ms\tremaining: 227ms\n",
      "686:\tlearn: 0.0092735\ttotal: 496ms\tremaining: 226ms\n",
      "687:\tlearn: 0.0092734\ttotal: 497ms\tremaining: 225ms\n",
      "688:\tlearn: 0.0092727\ttotal: 498ms\tremaining: 225ms\n",
      "689:\tlearn: 0.0092727\ttotal: 498ms\tremaining: 224ms\n",
      "690:\tlearn: 0.0092727\ttotal: 499ms\tremaining: 223ms\n",
      "691:\tlearn: 0.0092727\ttotal: 499ms\tremaining: 222ms\n",
      "692:\tlearn: 0.0092484\ttotal: 500ms\tremaining: 221ms\n",
      "693:\tlearn: 0.0092482\ttotal: 500ms\tremaining: 221ms\n",
      "694:\tlearn: 0.0092380\ttotal: 501ms\tremaining: 220ms\n",
      "695:\tlearn: 0.0092378\ttotal: 502ms\tremaining: 219ms\n",
      "696:\tlearn: 0.0092265\ttotal: 502ms\tremaining: 218ms\n",
      "697:\tlearn: 0.0092265\ttotal: 503ms\tremaining: 218ms\n",
      "698:\tlearn: 0.0092265\ttotal: 503ms\tremaining: 217ms\n",
      "699:\tlearn: 0.0092137\ttotal: 504ms\tremaining: 216ms\n",
      "700:\tlearn: 0.0091536\ttotal: 504ms\tremaining: 215ms\n",
      "701:\tlearn: 0.0091166\ttotal: 505ms\tremaining: 214ms\n",
      "702:\tlearn: 0.0091135\ttotal: 506ms\tremaining: 214ms\n",
      "703:\tlearn: 0.0091133\ttotal: 506ms\tremaining: 213ms\n",
      "704:\tlearn: 0.0091132\ttotal: 507ms\tremaining: 212ms\n",
      "705:\tlearn: 0.0091132\ttotal: 507ms\tremaining: 211ms\n",
      "706:\tlearn: 0.0091126\ttotal: 508ms\tremaining: 210ms\n",
      "707:\tlearn: 0.0091125\ttotal: 508ms\tremaining: 210ms\n",
      "708:\tlearn: 0.0091123\ttotal: 509ms\tremaining: 209ms\n",
      "709:\tlearn: 0.0091120\ttotal: 510ms\tremaining: 208ms\n",
      "710:\tlearn: 0.0091115\ttotal: 510ms\tremaining: 207ms\n",
      "711:\tlearn: 0.0091115\ttotal: 511ms\tremaining: 207ms\n",
      "712:\tlearn: 0.0091113\ttotal: 511ms\tremaining: 206ms\n",
      "713:\tlearn: 0.0091113\ttotal: 512ms\tremaining: 205ms\n",
      "714:\tlearn: 0.0091111\ttotal: 513ms\tremaining: 204ms\n",
      "715:\tlearn: 0.0091108\ttotal: 513ms\tremaining: 204ms\n",
      "716:\tlearn: 0.0091093\ttotal: 514ms\tremaining: 203ms\n",
      "717:\tlearn: 0.0091090\ttotal: 514ms\tremaining: 202ms\n",
      "718:\tlearn: 0.0091086\ttotal: 515ms\tremaining: 201ms\n",
      "719:\tlearn: 0.0091086\ttotal: 515ms\tremaining: 200ms\n",
      "720:\tlearn: 0.0091083\ttotal: 516ms\tremaining: 200ms\n",
      "721:\tlearn: 0.0091081\ttotal: 517ms\tremaining: 199ms\n",
      "722:\tlearn: 0.0090955\ttotal: 517ms\tremaining: 198ms\n",
      "723:\tlearn: 0.0090954\ttotal: 518ms\tremaining: 197ms\n",
      "724:\tlearn: 0.0090953\ttotal: 518ms\tremaining: 197ms\n",
      "725:\tlearn: 0.0090717\ttotal: 519ms\tremaining: 196ms\n",
      "726:\tlearn: 0.0090713\ttotal: 520ms\tremaining: 195ms\n",
      "727:\tlearn: 0.0090680\ttotal: 520ms\tremaining: 194ms\n",
      "728:\tlearn: 0.0090679\ttotal: 521ms\tremaining: 194ms\n",
      "729:\tlearn: 0.0090678\ttotal: 521ms\tremaining: 193ms\n",
      "730:\tlearn: 0.0090678\ttotal: 522ms\tremaining: 192ms\n",
      "731:\tlearn: 0.0090666\ttotal: 523ms\tremaining: 191ms\n",
      "732:\tlearn: 0.0090666\ttotal: 523ms\tremaining: 191ms\n",
      "733:\tlearn: 0.0090666\ttotal: 524ms\tremaining: 190ms\n",
      "734:\tlearn: 0.0090665\ttotal: 524ms\tremaining: 189ms\n",
      "735:\tlearn: 0.0090665\ttotal: 525ms\tremaining: 188ms\n",
      "736:\tlearn: 0.0090665\ttotal: 525ms\tremaining: 187ms\n",
      "737:\tlearn: 0.0090663\ttotal: 526ms\tremaining: 187ms\n",
      "738:\tlearn: 0.0090593\ttotal: 527ms\tremaining: 186ms\n",
      "739:\tlearn: 0.0090590\ttotal: 527ms\tremaining: 185ms\n",
      "740:\tlearn: 0.0090590\ttotal: 528ms\tremaining: 184ms\n",
      "741:\tlearn: 0.0090430\ttotal: 528ms\tremaining: 184ms\n",
      "742:\tlearn: 0.0090299\ttotal: 529ms\tremaining: 183ms\n",
      "743:\tlearn: 0.0089648\ttotal: 530ms\tremaining: 182ms\n",
      "744:\tlearn: 0.0088797\ttotal: 530ms\tremaining: 181ms\n",
      "745:\tlearn: 0.0088173\ttotal: 531ms\tremaining: 181ms\n",
      "746:\tlearn: 0.0088171\ttotal: 531ms\tremaining: 180ms\n",
      "747:\tlearn: 0.0088170\ttotal: 532ms\tremaining: 179ms\n"
     ]
    },
    {
     "name": "stdout",
     "output_type": "stream",
     "text": [
      "748:\tlearn: 0.0088164\ttotal: 533ms\tremaining: 179ms\n",
      "749:\tlearn: 0.0088163\ttotal: 533ms\tremaining: 178ms\n",
      "750:\tlearn: 0.0088159\ttotal: 534ms\tremaining: 177ms\n",
      "751:\tlearn: 0.0088159\ttotal: 535ms\tremaining: 176ms\n",
      "752:\tlearn: 0.0088159\ttotal: 536ms\tremaining: 176ms\n",
      "753:\tlearn: 0.0088156\ttotal: 537ms\tremaining: 175ms\n",
      "754:\tlearn: 0.0087963\ttotal: 537ms\tremaining: 174ms\n",
      "755:\tlearn: 0.0087958\ttotal: 538ms\tremaining: 174ms\n",
      "756:\tlearn: 0.0087958\ttotal: 539ms\tremaining: 173ms\n",
      "757:\tlearn: 0.0087957\ttotal: 540ms\tremaining: 172ms\n",
      "758:\tlearn: 0.0087797\ttotal: 541ms\tremaining: 172ms\n",
      "759:\tlearn: 0.0087796\ttotal: 542ms\tremaining: 171ms\n",
      "760:\tlearn: 0.0087796\ttotal: 542ms\tremaining: 170ms\n",
      "761:\tlearn: 0.0087795\ttotal: 543ms\tremaining: 170ms\n",
      "762:\tlearn: 0.0087791\ttotal: 544ms\tremaining: 169ms\n",
      "763:\tlearn: 0.0087790\ttotal: 545ms\tremaining: 168ms\n",
      "764:\tlearn: 0.0087790\ttotal: 546ms\tremaining: 168ms\n",
      "765:\tlearn: 0.0087790\ttotal: 546ms\tremaining: 167ms\n",
      "766:\tlearn: 0.0087653\ttotal: 547ms\tremaining: 166ms\n",
      "767:\tlearn: 0.0087651\ttotal: 548ms\tremaining: 165ms\n",
      "768:\tlearn: 0.0087651\ttotal: 548ms\tremaining: 165ms\n",
      "769:\tlearn: 0.0087651\ttotal: 549ms\tremaining: 164ms\n",
      "770:\tlearn: 0.0087533\ttotal: 550ms\tremaining: 163ms\n",
      "771:\tlearn: 0.0087533\ttotal: 551ms\tremaining: 163ms\n",
      "772:\tlearn: 0.0087532\ttotal: 551ms\tremaining: 162ms\n",
      "773:\tlearn: 0.0087510\ttotal: 552ms\tremaining: 161ms\n",
      "774:\tlearn: 0.0087509\ttotal: 552ms\tremaining: 160ms\n",
      "775:\tlearn: 0.0087509\ttotal: 553ms\tremaining: 160ms\n",
      "776:\tlearn: 0.0087509\ttotal: 554ms\tremaining: 159ms\n",
      "777:\tlearn: 0.0087508\ttotal: 554ms\tremaining: 158ms\n",
      "778:\tlearn: 0.0087508\ttotal: 555ms\tremaining: 157ms\n",
      "779:\tlearn: 0.0087507\ttotal: 555ms\tremaining: 157ms\n",
      "780:\tlearn: 0.0087503\ttotal: 556ms\tremaining: 156ms\n",
      "781:\tlearn: 0.0087503\ttotal: 557ms\tremaining: 155ms\n",
      "782:\tlearn: 0.0087502\ttotal: 557ms\tremaining: 154ms\n",
      "783:\tlearn: 0.0087359\ttotal: 558ms\tremaining: 154ms\n",
      "784:\tlearn: 0.0087359\ttotal: 558ms\tremaining: 153ms\n",
      "785:\tlearn: 0.0087358\ttotal: 559ms\tremaining: 152ms\n",
      "786:\tlearn: 0.0087358\ttotal: 559ms\tremaining: 151ms\n",
      "787:\tlearn: 0.0087358\ttotal: 560ms\tremaining: 151ms\n",
      "788:\tlearn: 0.0087357\ttotal: 561ms\tremaining: 150ms\n",
      "789:\tlearn: 0.0087355\ttotal: 561ms\tremaining: 149ms\n",
      "790:\tlearn: 0.0087355\ttotal: 562ms\tremaining: 148ms\n",
      "791:\tlearn: 0.0087352\ttotal: 563ms\tremaining: 148ms\n",
      "792:\tlearn: 0.0087352\ttotal: 563ms\tremaining: 147ms\n",
      "793:\tlearn: 0.0087351\ttotal: 564ms\tremaining: 146ms\n",
      "794:\tlearn: 0.0087350\ttotal: 564ms\tremaining: 146ms\n",
      "795:\tlearn: 0.0087349\ttotal: 565ms\tremaining: 145ms\n",
      "796:\tlearn: 0.0087349\ttotal: 566ms\tremaining: 144ms\n",
      "797:\tlearn: 0.0087347\ttotal: 566ms\tremaining: 143ms\n",
      "798:\tlearn: 0.0087345\ttotal: 567ms\tremaining: 143ms\n",
      "799:\tlearn: 0.0087337\ttotal: 567ms\tremaining: 142ms\n",
      "800:\tlearn: 0.0087335\ttotal: 568ms\tremaining: 141ms\n",
      "801:\tlearn: 0.0087335\ttotal: 569ms\tremaining: 140ms\n",
      "802:\tlearn: 0.0087332\ttotal: 569ms\tremaining: 140ms\n",
      "803:\tlearn: 0.0087332\ttotal: 570ms\tremaining: 139ms\n",
      "804:\tlearn: 0.0087332\ttotal: 570ms\tremaining: 138ms\n",
      "805:\tlearn: 0.0087332\ttotal: 571ms\tremaining: 137ms\n",
      "806:\tlearn: 0.0087331\ttotal: 572ms\tremaining: 137ms\n",
      "807:\tlearn: 0.0087331\ttotal: 572ms\tremaining: 136ms\n",
      "808:\tlearn: 0.0087328\ttotal: 573ms\tremaining: 135ms\n",
      "809:\tlearn: 0.0087324\ttotal: 574ms\tremaining: 135ms\n",
      "810:\tlearn: 0.0087322\ttotal: 574ms\tremaining: 134ms\n",
      "811:\tlearn: 0.0087321\ttotal: 575ms\tremaining: 133ms\n",
      "812:\tlearn: 0.0087320\ttotal: 575ms\tremaining: 132ms\n",
      "813:\tlearn: 0.0087317\ttotal: 576ms\tremaining: 132ms\n",
      "814:\tlearn: 0.0087314\ttotal: 577ms\tremaining: 131ms\n",
      "815:\tlearn: 0.0087314\ttotal: 577ms\tremaining: 130ms\n",
      "816:\tlearn: 0.0087313\ttotal: 578ms\tremaining: 129ms\n",
      "817:\tlearn: 0.0087313\ttotal: 578ms\tremaining: 129ms\n",
      "818:\tlearn: 0.0087313\ttotal: 579ms\tremaining: 128ms\n",
      "819:\tlearn: 0.0087313\ttotal: 580ms\tremaining: 127ms\n",
      "820:\tlearn: 0.0087309\ttotal: 580ms\tremaining: 126ms\n",
      "821:\tlearn: 0.0087306\ttotal: 581ms\tremaining: 126ms\n",
      "822:\tlearn: 0.0087306\ttotal: 581ms\tremaining: 125ms\n",
      "823:\tlearn: 0.0087304\ttotal: 582ms\tremaining: 124ms\n",
      "824:\tlearn: 0.0087304\ttotal: 583ms\tremaining: 124ms\n",
      "825:\tlearn: 0.0087304\ttotal: 583ms\tremaining: 123ms\n",
      "826:\tlearn: 0.0087301\ttotal: 584ms\tremaining: 122ms\n",
      "827:\tlearn: 0.0087301\ttotal: 584ms\tremaining: 121ms\n",
      "828:\tlearn: 0.0087301\ttotal: 585ms\tremaining: 121ms\n",
      "829:\tlearn: 0.0087299\ttotal: 585ms\tremaining: 120ms\n",
      "830:\tlearn: 0.0087297\ttotal: 586ms\tremaining: 119ms\n",
      "831:\tlearn: 0.0087293\ttotal: 587ms\tremaining: 118ms\n",
      "832:\tlearn: 0.0087292\ttotal: 587ms\tremaining: 118ms\n",
      "833:\tlearn: 0.0087292\ttotal: 588ms\tremaining: 117ms\n",
      "834:\tlearn: 0.0087291\ttotal: 588ms\tremaining: 116ms\n",
      "835:\tlearn: 0.0087291\ttotal: 589ms\tremaining: 116ms\n",
      "836:\tlearn: 0.0087291\ttotal: 590ms\tremaining: 115ms\n",
      "837:\tlearn: 0.0087290\ttotal: 590ms\tremaining: 114ms\n",
      "838:\tlearn: 0.0087290\ttotal: 591ms\tremaining: 113ms\n",
      "839:\tlearn: 0.0087290\ttotal: 591ms\tremaining: 113ms\n",
      "840:\tlearn: 0.0087290\ttotal: 592ms\tremaining: 112ms\n",
      "841:\tlearn: 0.0087289\ttotal: 592ms\tremaining: 111ms\n",
      "842:\tlearn: 0.0087287\ttotal: 593ms\tremaining: 110ms\n",
      "843:\tlearn: 0.0087287\ttotal: 594ms\tremaining: 110ms\n",
      "844:\tlearn: 0.0087287\ttotal: 594ms\tremaining: 109ms\n",
      "845:\tlearn: 0.0087286\ttotal: 595ms\tremaining: 108ms\n",
      "846:\tlearn: 0.0087285\ttotal: 595ms\tremaining: 108ms\n",
      "847:\tlearn: 0.0087285\ttotal: 596ms\tremaining: 107ms\n",
      "848:\tlearn: 0.0087285\ttotal: 597ms\tremaining: 106ms\n",
      "849:\tlearn: 0.0087285\ttotal: 597ms\tremaining: 105ms\n",
      "850:\tlearn: 0.0087284\ttotal: 598ms\tremaining: 105ms\n",
      "851:\tlearn: 0.0087284\ttotal: 598ms\tremaining: 104ms\n",
      "852:\tlearn: 0.0087283\ttotal: 599ms\tremaining: 103ms\n",
      "853:\tlearn: 0.0087280\ttotal: 599ms\tremaining: 102ms\n",
      "854:\tlearn: 0.0087280\ttotal: 600ms\tremaining: 102ms\n",
      "855:\tlearn: 0.0087279\ttotal: 601ms\tremaining: 101ms\n",
      "856:\tlearn: 0.0087279\ttotal: 601ms\tremaining: 100ms\n",
      "857:\tlearn: 0.0087278\ttotal: 602ms\tremaining: 99.6ms\n",
      "858:\tlearn: 0.0087278\ttotal: 602ms\tremaining: 98.9ms\n",
      "859:\tlearn: 0.0087277\ttotal: 603ms\tremaining: 98.1ms\n",
      "860:\tlearn: 0.0087277\ttotal: 603ms\tremaining: 97.4ms\n",
      "861:\tlearn: 0.0087276\ttotal: 604ms\tremaining: 96.7ms\n",
      "862:\tlearn: 0.0087276\ttotal: 605ms\tremaining: 96ms\n",
      "863:\tlearn: 0.0087276\ttotal: 605ms\tremaining: 95.3ms\n",
      "864:\tlearn: 0.0087276\ttotal: 606ms\tremaining: 94.5ms\n",
      "865:\tlearn: 0.0087276\ttotal: 606ms\tremaining: 93.8ms\n",
      "866:\tlearn: 0.0087275\ttotal: 607ms\tremaining: 93.1ms\n",
      "867:\tlearn: 0.0087275\ttotal: 608ms\tremaining: 92.4ms\n",
      "868:\tlearn: 0.0087275\ttotal: 608ms\tremaining: 91.7ms\n",
      "869:\tlearn: 0.0087275\ttotal: 609ms\tremaining: 90.9ms\n",
      "870:\tlearn: 0.0087274\ttotal: 609ms\tremaining: 90.2ms\n",
      "871:\tlearn: 0.0087273\ttotal: 610ms\tremaining: 89.5ms\n",
      "872:\tlearn: 0.0087272\ttotal: 610ms\tremaining: 88.8ms\n",
      "873:\tlearn: 0.0087270\ttotal: 611ms\tremaining: 88.1ms\n",
      "874:\tlearn: 0.0087269\ttotal: 612ms\tremaining: 87.4ms\n",
      "875:\tlearn: 0.0087269\ttotal: 612ms\tremaining: 86.7ms\n",
      "876:\tlearn: 0.0087269\ttotal: 613ms\tremaining: 85.9ms\n",
      "877:\tlearn: 0.0087269\ttotal: 613ms\tremaining: 85.2ms\n",
      "878:\tlearn: 0.0087269\ttotal: 614ms\tremaining: 84.5ms\n",
      "879:\tlearn: 0.0087266\ttotal: 615ms\tremaining: 83.8ms\n",
      "880:\tlearn: 0.0087265\ttotal: 615ms\tremaining: 83.1ms\n",
      "881:\tlearn: 0.0087265\ttotal: 616ms\tremaining: 82.4ms\n",
      "882:\tlearn: 0.0087265\ttotal: 616ms\tremaining: 81.7ms\n",
      "883:\tlearn: 0.0087265\ttotal: 617ms\tremaining: 80.9ms\n",
      "884:\tlearn: 0.0087265\ttotal: 617ms\tremaining: 80.2ms\n",
      "885:\tlearn: 0.0087264\ttotal: 618ms\tremaining: 79.5ms\n",
      "886:\tlearn: 0.0087264\ttotal: 619ms\tremaining: 78.8ms\n",
      "887:\tlearn: 0.0087264\ttotal: 619ms\tremaining: 78.1ms\n",
      "888:\tlearn: 0.0087263\ttotal: 620ms\tremaining: 77.4ms\n",
      "889:\tlearn: 0.0087260\ttotal: 620ms\tremaining: 76.7ms\n",
      "890:\tlearn: 0.0087257\ttotal: 621ms\tremaining: 76ms\n",
      "891:\tlearn: 0.0087256\ttotal: 621ms\tremaining: 75.2ms\n",
      "892:\tlearn: 0.0087255\ttotal: 622ms\tremaining: 74.5ms\n",
      "893:\tlearn: 0.0087255\ttotal: 623ms\tremaining: 73.8ms\n",
      "894:\tlearn: 0.0087255\ttotal: 623ms\tremaining: 73.1ms\n",
      "895:\tlearn: 0.0087254\ttotal: 624ms\tremaining: 72.4ms\n",
      "896:\tlearn: 0.0087254\ttotal: 625ms\tremaining: 71.7ms\n",
      "897:\tlearn: 0.0087252\ttotal: 625ms\tremaining: 71ms\n",
      "898:\tlearn: 0.0087251\ttotal: 626ms\tremaining: 70.3ms\n",
      "899:\tlearn: 0.0087246\ttotal: 627ms\tremaining: 69.6ms\n",
      "900:\tlearn: 0.0087246\ttotal: 627ms\tremaining: 68.9ms\n",
      "901:\tlearn: 0.0087244\ttotal: 628ms\tremaining: 68.2ms\n",
      "902:\tlearn: 0.0087237\ttotal: 628ms\tremaining: 67.5ms\n",
      "903:\tlearn: 0.0087193\ttotal: 629ms\tremaining: 66.8ms\n",
      "904:\tlearn: 0.0087166\ttotal: 629ms\tremaining: 66.1ms\n",
      "905:\tlearn: 0.0087166\ttotal: 630ms\tremaining: 65.4ms\n",
      "906:\tlearn: 0.0087166\ttotal: 631ms\tremaining: 64.7ms\n",
      "907:\tlearn: 0.0087165\ttotal: 631ms\tremaining: 64ms\n",
      "908:\tlearn: 0.0087165\ttotal: 632ms\tremaining: 63.2ms\n",
      "909:\tlearn: 0.0087148\ttotal: 632ms\tremaining: 62.5ms\n",
      "910:\tlearn: 0.0087146\ttotal: 633ms\tremaining: 61.8ms\n",
      "911:\tlearn: 0.0087146\ttotal: 634ms\tremaining: 61.1ms\n",
      "912:\tlearn: 0.0086986\ttotal: 634ms\tremaining: 60.4ms\n",
      "913:\tlearn: 0.0086986\ttotal: 635ms\tremaining: 59.7ms\n",
      "914:\tlearn: 0.0086985\ttotal: 635ms\tremaining: 59ms\n",
      "915:\tlearn: 0.0086610\ttotal: 636ms\tremaining: 58.3ms\n",
      "916:\tlearn: 0.0086610\ttotal: 636ms\tremaining: 57.6ms\n",
      "917:\tlearn: 0.0086609\ttotal: 637ms\tremaining: 56.9ms\n",
      "918:\tlearn: 0.0086607\ttotal: 638ms\tremaining: 56.2ms\n",
      "919:\tlearn: 0.0086600\ttotal: 638ms\tremaining: 55.5ms\n",
      "920:\tlearn: 0.0086600\ttotal: 639ms\tremaining: 54.8ms\n",
      "921:\tlearn: 0.0086600\ttotal: 639ms\tremaining: 54.1ms\n",
      "922:\tlearn: 0.0086579\ttotal: 640ms\tremaining: 53.4ms\n",
      "923:\tlearn: 0.0086577\ttotal: 641ms\tremaining: 52.7ms\n",
      "924:\tlearn: 0.0086392\ttotal: 641ms\tremaining: 52ms\n",
      "925:\tlearn: 0.0086386\ttotal: 642ms\tremaining: 51.3ms\n",
      "926:\tlearn: 0.0086382\ttotal: 642ms\tremaining: 50.6ms\n",
      "927:\tlearn: 0.0086376\ttotal: 643ms\tremaining: 49.9ms\n",
      "928:\tlearn: 0.0086374\ttotal: 644ms\tremaining: 49.2ms\n",
      "929:\tlearn: 0.0086374\ttotal: 644ms\tremaining: 48.5ms\n",
      "930:\tlearn: 0.0086373\ttotal: 645ms\tremaining: 47.8ms\n",
      "931:\tlearn: 0.0086373\ttotal: 645ms\tremaining: 47.1ms\n",
      "932:\tlearn: 0.0086371\ttotal: 646ms\tremaining: 46.4ms\n",
      "933:\tlearn: 0.0086369\ttotal: 647ms\tremaining: 45.7ms\n",
      "934:\tlearn: 0.0086369\ttotal: 647ms\tremaining: 45ms\n",
      "935:\tlearn: 0.0086368\ttotal: 648ms\tremaining: 44.3ms\n",
      "936:\tlearn: 0.0086365\ttotal: 648ms\tremaining: 43.6ms\n",
      "937:\tlearn: 0.0086359\ttotal: 649ms\tremaining: 42.9ms\n",
      "938:\tlearn: 0.0086359\ttotal: 650ms\tremaining: 42.2ms\n",
      "939:\tlearn: 0.0086359\ttotal: 650ms\tremaining: 41.5ms\n",
      "940:\tlearn: 0.0086359\ttotal: 651ms\tremaining: 40.8ms\n",
      "941:\tlearn: 0.0086359\ttotal: 651ms\tremaining: 40.1ms\n",
      "942:\tlearn: 0.0086356\ttotal: 652ms\tremaining: 39.4ms\n",
      "943:\tlearn: 0.0086354\ttotal: 653ms\tremaining: 38.7ms\n",
      "944:\tlearn: 0.0086338\ttotal: 653ms\tremaining: 38ms\n",
      "945:\tlearn: 0.0086337\ttotal: 654ms\tremaining: 37.3ms\n",
      "946:\tlearn: 0.0086322\ttotal: 654ms\tremaining: 36.6ms\n",
      "947:\tlearn: 0.0086322\ttotal: 655ms\tremaining: 35.9ms\n",
      "948:\tlearn: 0.0086321\ttotal: 656ms\tremaining: 35.2ms\n",
      "949:\tlearn: 0.0086320\ttotal: 656ms\tremaining: 34.5ms\n",
      "950:\tlearn: 0.0086319\ttotal: 657ms\tremaining: 33.9ms\n",
      "951:\tlearn: 0.0086319\ttotal: 658ms\tremaining: 33.2ms\n",
      "952:\tlearn: 0.0086318\ttotal: 659ms\tremaining: 32.5ms\n",
      "953:\tlearn: 0.0086235\ttotal: 659ms\tremaining: 31.8ms\n",
      "954:\tlearn: 0.0086233\ttotal: 660ms\tremaining: 31.1ms\n",
      "955:\tlearn: 0.0086124\ttotal: 661ms\tremaining: 30.4ms\n",
      "956:\tlearn: 0.0086123\ttotal: 661ms\tremaining: 29.7ms\n",
      "957:\tlearn: 0.0086123\ttotal: 662ms\tremaining: 29ms\n",
      "958:\tlearn: 0.0086122\ttotal: 662ms\tremaining: 28.3ms\n",
      "959:\tlearn: 0.0086122\ttotal: 663ms\tremaining: 27.6ms\n",
      "960:\tlearn: 0.0086122\ttotal: 664ms\tremaining: 26.9ms\n",
      "961:\tlearn: 0.0086086\ttotal: 664ms\tremaining: 26.2ms\n",
      "962:\tlearn: 0.0086086\ttotal: 665ms\tremaining: 25.5ms\n",
      "963:\tlearn: 0.0086086\ttotal: 666ms\tremaining: 24.9ms\n",
      "964:\tlearn: 0.0086085\ttotal: 666ms\tremaining: 24.2ms\n",
      "965:\tlearn: 0.0086085\ttotal: 667ms\tremaining: 23.5ms\n",
      "966:\tlearn: 0.0086084\ttotal: 668ms\tremaining: 22.8ms\n",
      "967:\tlearn: 0.0086083\ttotal: 668ms\tremaining: 22.1ms\n",
      "968:\tlearn: 0.0086082\ttotal: 669ms\tremaining: 21.4ms\n",
      "969:\tlearn: 0.0086079\ttotal: 669ms\tremaining: 20.7ms\n",
      "970:\tlearn: 0.0086001\ttotal: 670ms\tremaining: 20ms\n",
      "971:\tlearn: 0.0085999\ttotal: 671ms\tremaining: 19.3ms\n",
      "972:\tlearn: 0.0085959\ttotal: 671ms\tremaining: 18.6ms\n",
      "973:\tlearn: 0.0085959\ttotal: 672ms\tremaining: 17.9ms\n",
      "974:\tlearn: 0.0085958\ttotal: 673ms\tremaining: 17.2ms\n",
      "975:\tlearn: 0.0085950\ttotal: 673ms\tremaining: 16.6ms\n",
      "976:\tlearn: 0.0085949\ttotal: 674ms\tremaining: 15.9ms\n",
      "977:\tlearn: 0.0085948\ttotal: 674ms\tremaining: 15.2ms\n",
      "978:\tlearn: 0.0085947\ttotal: 675ms\tremaining: 14.5ms\n",
      "979:\tlearn: 0.0085945\ttotal: 676ms\tremaining: 13.8ms\n",
      "980:\tlearn: 0.0085944\ttotal: 676ms\tremaining: 13.1ms\n",
      "981:\tlearn: 0.0085944\ttotal: 677ms\tremaining: 12.4ms\n",
      "982:\tlearn: 0.0085940\ttotal: 678ms\tremaining: 11.7ms\n",
      "983:\tlearn: 0.0085940\ttotal: 678ms\tremaining: 11ms\n",
      "984:\tlearn: 0.0085940\ttotal: 679ms\tremaining: 10.3ms\n",
      "985:\tlearn: 0.0085940\ttotal: 679ms\tremaining: 9.64ms\n",
      "986:\tlearn: 0.0085491\ttotal: 680ms\tremaining: 8.96ms\n",
      "987:\tlearn: 0.0084310\ttotal: 681ms\tremaining: 8.27ms\n",
      "988:\tlearn: 0.0083367\ttotal: 681ms\tremaining: 7.58ms\n",
      "989:\tlearn: 0.0083364\ttotal: 682ms\tremaining: 6.89ms\n",
      "990:\tlearn: 0.0083361\ttotal: 682ms\tremaining: 6.2ms\n",
      "991:\tlearn: 0.0083359\ttotal: 683ms\tremaining: 5.51ms\n",
      "992:\tlearn: 0.0083358\ttotal: 684ms\tremaining: 4.82ms\n",
      "993:\tlearn: 0.0083347\ttotal: 684ms\tremaining: 4.13ms\n",
      "994:\tlearn: 0.0083346\ttotal: 685ms\tremaining: 3.44ms\n",
      "995:\tlearn: 0.0083345\ttotal: 686ms\tremaining: 2.75ms\n",
      "996:\tlearn: 0.0083345\ttotal: 686ms\tremaining: 2.06ms\n",
      "997:\tlearn: 0.0083344\ttotal: 687ms\tremaining: 1.38ms\n",
      "998:\tlearn: 0.0083337\ttotal: 687ms\tremaining: 688us\n",
      "999:\tlearn: 0.0083337\ttotal: 688ms\tremaining: 0us\n"
     ]
    },
    {
     "data": {
      "text/plain": [
       "0.8032786885245902"
      ]
     },
     "execution_count": 142,
     "metadata": {},
     "output_type": "execute_result"
    }
   ],
   "source": [
    "cat_features = [0,1]\n",
    "\n",
    "\n",
    "cat = catboost.CatBoostClassifier(iterations=1000,\n",
    "                        learning_rate=0.9,\n",
    "                        depth=2, l2_leaf_reg=5)\n",
    "cat.fit(X_train, y_train, cat_features)\n",
    "\n",
    "# pred_class = cat.predict(X_test)\n",
    "\n",
    "# preds_proba = cat.predict(X_test)\n",
    "\n",
    "# preds_raw = cat.predict(X_test, prediction_type=\"RawFormulaVal\")\n",
    "\n",
    "cat.score(X_test, y_test)"
   ]
  },
  {
   "cell_type": "code",
   "execution_count": 96,
   "metadata": {},
   "outputs": [
    {
     "name": "stdout",
     "output_type": "stream",
     "text": [
      "{'learn': {'Logloss': 0.009186134933579962, 'AUC': 1.0}, 'validation': {'Logloss': 0.337544389755332, 'AUC': 0.9310344827586207}}\n"
     ]
    }
   ],
   "source": [
    "from catboost import CatBoostClassifier, Pool\n",
    "\n",
    "eval_dataset = Pool(X_test,\n",
    "                    y_test)\n",
    "\n",
    "model = CatBoostClassifier(learning_rate=0.03,\n",
    "                           custom_metric=['Logloss',\n",
    "                                          'AUC:hints=skip_train~false'])\n",
    "\n",
    "model.fit(X_train,\n",
    "          y_train,\n",
    "          eval_set=eval_dataset,\n",
    "          verbose=False)\n",
    "\n",
    "print(model.get_best_score())"
   ]
  },
  {
   "cell_type": "code",
   "execution_count": 97,
   "metadata": {},
   "outputs": [
    {
     "data": {
      "text/plain": [
       "0.8524590163934426"
      ]
     },
     "execution_count": 97,
     "metadata": {},
     "output_type": "execute_result"
    }
   ],
   "source": [
    "model.score(X_test, y_test)"
   ]
  },
  {
   "cell_type": "code",
   "execution_count": null,
   "metadata": {},
   "outputs": [
    {
     "name": "stdout",
     "output_type": "stream",
     "text": [
      "\n",
      "bestTest = 0.4394908914\n",
      "bestIteration = 148\n",
      "\n",
      "0:\tloss: 0.4394909\tbest: 0.4394909 (0)\ttotal: 554ms\tremaining: 1m 16s\n",
      "\n",
      "bestTest = 0.4598150647\n",
      "bestIteration = 46\n",
      "\n",
      "1:\tloss: 0.4598151\tbest: 0.4394909 (0)\ttotal: 1.1s\tremaining: 1m 16s\n",
      "\n",
      "bestTest = 0.403718084\n",
      "bestIteration = 10\n",
      "\n",
      "2:\tloss: 0.4037181\tbest: 0.4037181 (2)\ttotal: 1.61s\tremaining: 1m 13s\n",
      "\n",
      "bestTest = 0.4076028713\n",
      "bestIteration = 6\n",
      "\n",
      "3:\tloss: 0.4076029\tbest: 0.4037181 (2)\ttotal: 2.1s\tremaining: 1m 11s\n",
      "\n",
      "bestTest = 0.4878770122\n",
      "bestIteration = 3\n",
      "\n",
      "4:\tloss: 0.4878770\tbest: 0.4037181 (2)\ttotal: 2.64s\tremaining: 1m 11s\n",
      "\n",
      "bestTest = 0.490596783\n",
      "bestIteration = 3\n",
      "\n",
      "5:\tloss: 0.4905968\tbest: 0.4037181 (2)\ttotal: 3.13s\tremaining: 1m 10s\n",
      "\n",
      "bestTest = 0.4961520294\n",
      "bestIteration = 3\n",
      "\n",
      "6:\tloss: 0.4961520\tbest: 0.4037181 (2)\ttotal: 3.64s\tremaining: 1m 9s\n",
      "\n",
      "bestTest = 0.4221161117\n",
      "bestIteration = 145\n",
      "\n",
      "7:\tloss: 0.4221161\tbest: 0.4037181 (2)\ttotal: 4.17s\tremaining: 1m 8s\n",
      "\n",
      "bestTest = 0.4414533546\n",
      "bestIteration = 59\n",
      "\n",
      "8:\tloss: 0.4414534\tbest: 0.4037181 (2)\ttotal: 4.69s\tremaining: 1m 8s\n",
      "\n",
      "bestTest = 0.4174851137\n",
      "bestIteration = 17\n",
      "\n",
      "9:\tloss: 0.4174851\tbest: 0.4037181 (2)\ttotal: 5.19s\tremaining: 1m 7s\n",
      "\n",
      "bestTest = 0.4228704019\n",
      "bestIteration = 3\n",
      "\n",
      "10:\tloss: 0.4228704\tbest: 0.4037181 (2)\ttotal: 5.69s\tremaining: 1m 6s\n",
      "\n",
      "bestTest = 0.3597006374\n",
      "bestIteration = 11\n",
      "\n",
      "11:\tloss: 0.3597006\tbest: 0.3597006 (11)\ttotal: 6.28s\tremaining: 1m 6s\n",
      "\n",
      "bestTest = 0.3704928398\n",
      "bestIteration = 2\n",
      "\n",
      "12:\tloss: 0.3704928\tbest: 0.3597006 (11)\ttotal: 6.87s\tremaining: 1m 7s\n",
      "\n",
      "bestTest = 0.3142926373\n",
      "bestIteration = 7\n",
      "\n",
      "13:\tloss: 0.3142926\tbest: 0.3142926 (13)\ttotal: 7.38s\tremaining: 1m 6s\n",
      "\n",
      "bestTest = 0.4386723178\n",
      "bestIteration = 174\n",
      "\n",
      "14:\tloss: 0.4386723\tbest: 0.3142926 (13)\ttotal: 7.97s\tremaining: 1m 6s\n",
      "\n",
      "bestTest = 0.4520239812\n",
      "bestIteration = 38\n",
      "\n",
      "15:\tloss: 0.4520240\tbest: 0.3142926 (13)\ttotal: 8.62s\tremaining: 1m 6s\n",
      "\n",
      "bestTest = 0.4169333479\n",
      "bestIteration = 15\n",
      "\n",
      "16:\tloss: 0.4169333\tbest: 0.3142926 (13)\ttotal: 9.18s\tremaining: 1m 6s\n",
      "\n",
      "bestTest = 0.4018011863\n",
      "bestIteration = 22\n",
      "\n",
      "17:\tloss: 0.4018012\tbest: 0.3142926 (13)\ttotal: 9.78s\tremaining: 1m 6s\n",
      "\n",
      "bestTest = 0.3305782123\n",
      "bestIteration = 6\n",
      "\n",
      "18:\tloss: 0.3305782\tbest: 0.3142926 (13)\ttotal: 10.5s\tremaining: 1m 6s\n",
      "\n",
      "bestTest = 0.3587634496\n",
      "bestIteration = 5\n",
      "\n",
      "19:\tloss: 0.3587634\tbest: 0.3142926 (13)\ttotal: 11s\tremaining: 1m 6s\n",
      "\n",
      "bestTest = 0.2905994117\n",
      "bestIteration = 5\n",
      "\n",
      "20:\tloss: 0.2905994\tbest: 0.2905994 (20)\ttotal: 11.6s\tremaining: 1m 5s\n",
      "\n",
      "bestTest = 0.4251042423\n",
      "bestIteration = 156\n",
      "\n",
      "21:\tloss: 0.4251042\tbest: 0.2905994 (20)\ttotal: 12.3s\tremaining: 1m 6s\n",
      "\n",
      "bestTest = 0.4232284142\n",
      "bestIteration = 52\n",
      "\n",
      "22:\tloss: 0.4232284\tbest: 0.2905994 (20)\ttotal: 13s\tremaining: 1m 6s\n",
      "\n",
      "bestTest = 0.4527676834\n",
      "bestIteration = 8\n",
      "\n",
      "23:\tloss: 0.4527677\tbest: 0.2905994 (20)\ttotal: 13.5s\tremaining: 1m 5s\n",
      "\n",
      "bestTest = 0.4156821477\n",
      "bestIteration = 8\n",
      "\n",
      "24:\tloss: 0.4156821\tbest: 0.2905994 (20)\ttotal: 14.1s\tremaining: 1m 5s\n",
      "\n",
      "bestTest = 0.3487039442\n",
      "bestIteration = 6\n",
      "\n",
      "25:\tloss: 0.3487039\tbest: 0.2905994 (20)\ttotal: 14.6s\tremaining: 1m 4s\n",
      "\n",
      "bestTest = 0.332357299\n",
      "bestIteration = 5\n",
      "\n",
      "26:\tloss: 0.3323573\tbest: 0.2905994 (20)\ttotal: 15.2s\tremaining: 1m 3s\n",
      "\n",
      "bestTest = 0.3334967015\n",
      "bestIteration = 5\n",
      "\n",
      "27:\tloss: 0.3334967\tbest: 0.2905994 (20)\ttotal: 15.7s\tremaining: 1m 2s\n",
      "\n",
      "bestTest = 0.4440254697\n",
      "bestIteration = 174\n",
      "\n",
      "28:\tloss: 0.4440255\tbest: 0.2905994 (20)\ttotal: 16.5s\tremaining: 1m 2s\n",
      "\n",
      "bestTest = 0.4392108185\n",
      "bestIteration = 38\n",
      "\n",
      "29:\tloss: 0.4392108\tbest: 0.2905994 (20)\ttotal: 17.1s\tremaining: 1m 2s\n",
      "\n",
      "bestTest = 0.4490454677\n",
      "bestIteration = 8\n",
      "\n",
      "30:\tloss: 0.4490455\tbest: 0.2905994 (20)\ttotal: 17.8s\tremaining: 1m 2s\n",
      "\n",
      "bestTest = 0.4169777688\n",
      "bestIteration = 8\n",
      "\n",
      "31:\tloss: 0.4169778\tbest: 0.2905994 (20)\ttotal: 18.4s\tremaining: 1m 2s\n",
      "\n",
      "bestTest = 0.3631767428\n",
      "bestIteration = 6\n",
      "\n",
      "32:\tloss: 0.3631767\tbest: 0.2905994 (20)\ttotal: 19s\tremaining: 1m 1s\n",
      "\n",
      "bestTest = 0.3394384\n",
      "bestIteration = 6\n",
      "\n",
      "33:\tloss: 0.3394384\tbest: 0.2905994 (20)\ttotal: 19.5s\tremaining: 1m\n",
      "\n",
      "bestTest = 0.3302696406\n",
      "bestIteration = 7\n",
      "\n",
      "34:\tloss: 0.3302696\tbest: 0.2905994 (20)\ttotal: 20s\tremaining: 60s\n",
      "\n",
      "bestTest = 0.4432049349\n",
      "bestIteration = 120\n",
      "\n",
      "35:\tloss: 0.4432049\tbest: 0.2905994 (20)\ttotal: 20.9s\tremaining: 1m\n",
      "\n",
      "bestTest = 0.443011909\n",
      "bestIteration = 24\n",
      "\n",
      "36:\tloss: 0.4430119\tbest: 0.2905994 (20)\ttotal: 21.9s\tremaining: 1m\n",
      "\n",
      "bestTest = 0.4484957097\n",
      "bestIteration = 5\n",
      "\n",
      "37:\tloss: 0.4484957\tbest: 0.2905994 (20)\ttotal: 22.5s\tremaining: 1m\n",
      "\n",
      "bestTest = 0.3870369842\n",
      "bestIteration = 5\n",
      "\n",
      "38:\tloss: 0.3870370\tbest: 0.2905994 (20)\ttotal: 23.1s\tremaining: 59.9s\n",
      "\n",
      "bestTest = 0.4032348567\n",
      "bestIteration = 7\n",
      "\n",
      "39:\tloss: 0.4032349\tbest: 0.2905994 (20)\ttotal: 23.8s\tremaining: 59.5s\n",
      "\n",
      "bestTest = 0.3781629192\n",
      "bestIteration = 4\n",
      "\n",
      "40:\tloss: 0.3781629\tbest: 0.2905994 (20)\ttotal: 24.4s\tremaining: 58.9s\n",
      "\n",
      "bestTest = 0.5441030702\n",
      "bestIteration = 3\n",
      "\n",
      "41:\tloss: 0.5441031\tbest: 0.2905994 (20)\ttotal: 25s\tremaining: 58.3s\n",
      "\n",
      "bestTest = 0.4499786521\n",
      "bestIteration = 116\n",
      "\n",
      "42:\tloss: 0.4499787\tbest: 0.2905994 (20)\ttotal: 25.6s\tremaining: 57.8s\n",
      "\n",
      "bestTest = 0.4618292776\n",
      "bestIteration = 31\n",
      "\n",
      "43:\tloss: 0.4618293\tbest: 0.2905994 (20)\ttotal: 26.2s\tremaining: 57.2s\n",
      "\n",
      "bestTest = 0.4411496347\n",
      "bestIteration = 5\n",
      "\n",
      "44:\tloss: 0.4411496\tbest: 0.2905994 (20)\ttotal: 26.9s\tremaining: 56.7s\n"
     ]
    }
   ],
   "source": [
    "from catboost import CatBoostClassifier\n",
    "import numpy as np\n",
    "\n",
    "model = CatBoostClassifier(loss_function='Logloss', iterations=1000)\n",
    "\n",
    "grid = {'learning_rate': [0.03, 0.1, 0.3, 0.5, 0.7, 0.8, 0.9],\n",
    "        'depth': [2, 3, 4, 6],\n",
    "        'l2_leaf_reg': [1, 3, 5, 7, 9]}\n",
    "\n",
    "grid_search_result = model.grid_search(grid, \n",
    "                                       X=X_train, \n",
    "                                       y=y_train)\n"
   ]
  },
  {
   "cell_type": "code",
   "execution_count": null,
   "metadata": {},
   "outputs": [],
   "source": [
    "grid_search_result"
   ]
  },
  {
   "cell_type": "code",
   "execution_count": 108,
   "metadata": {},
   "outputs": [
    {
     "name": "stdout",
     "output_type": "stream",
     "text": [
      "Accuracy: 81.97%\n"
     ]
    }
   ],
   "source": [
    "from xgboost import XGBClassifier\n",
    "from sklearn.metrics import accuracy_score\n",
    "\n",
    "# fit model no training data\n",
    "model = XGBClassifier()\n",
    "model.fit(X_train, y_train)\n",
    "# make predictions for test data\n",
    "y_pred = model.predict(X_test)\n",
    "predictions = [round(value) for value in y_pred]\n",
    "# evaluate predictions\n",
    "accuracy = accuracy_score(y_test, predictions)\n",
    "print(\"Accuracy: %.2f%%\" % (accuracy * 100.0))"
   ]
  }
 ],
 "metadata": {
  "kernelspec": {
   "display_name": "Python 3",
   "language": "python",
   "name": "python3"
  },
  "language_info": {
   "codemirror_mode": {
    "name": "ipython",
    "version": 3
   },
   "file_extension": ".py",
   "mimetype": "text/x-python",
   "name": "python",
   "nbconvert_exporter": "python",
   "pygments_lexer": "ipython3",
   "version": "3.8.5"
  }
 },
 "nbformat": 4,
 "nbformat_minor": 2
}
